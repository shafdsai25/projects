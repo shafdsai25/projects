{
 "cells": [
  {
   "cell_type": "markdown",
   "metadata": {},
   "source": [
    "<table align=\"left\" width=100%>\n",
    "    <tr>\n",
    "        <td width=\"20%\">\n",
    "            <img src=\"faculty.png\">\n",
    "        </td>\n",
    "        <td>\n",
    "            <div align=\"center\">\n",
    "                <font color=\"#21618C\" size=8px>\n",
    "                  <b> Assignment Questions </b>\n",
    "                </font>\n",
    "            </div>\n",
    "        </td>\n",
    "    </tr>\n",
    "</table>"
   ]
  },
  {
   "cell_type": "markdown",
   "metadata": {},
   "source": [
    "## Problem Statement\n",
    "\n"
   ]
  },
  {
   "cell_type": "markdown",
   "metadata": {},
   "source": [
    "### About the data set (Rainfall Prediction data)\n",
    "\n",
    "The dataset contains information about rainfall predictions. The aim is to find whether rainfall will occur or not based on the several parameters of the atmospheric conditions and profile. <br> Attribute information: \n",
    "\n",
    "**Date:** Dates on which rainfall occurred or not \n",
    "\n",
    "**Location:** Location where we want to classify rainfall occurrence.\n",
    "\n",
    "**MinTemp:** Minimum temperature in that particular date\n",
    "\n",
    "**MaxTemp:** Maximum temperature in that particular date\n",
    "\n",
    "**Rainfall:** Rainfall occurrence level in cm\n",
    "\n",
    "**Evaporation:** Evaporation value\n",
    "\n",
    "**Sunshine:** Sunshine level in m\n",
    "\n",
    "**WindGustDir:** Direction of wind\n",
    "\n",
    "**WindGustSpeed:**  Wind Speed\n",
    "\n",
    "**WindDir9am:** Wind direction at 9am\n",
    "\n",
    "**WindDir3pm:** Wind direction at 3pm\n",
    "\n",
    "**WindSpeed9am:** Wind speed at 9am\n",
    "\n",
    "**WindSpeed3pm:** Wind speed at 3pm\n",
    "\n",
    "**Humidity9am:** Humidity at 9am\n",
    "\n",
    "**Humidity3pm:** Humidity at 3pm\n",
    "\n",
    "**Pressure9am:** Pressure at 9am\n",
    "\n",
    "**Pressure3pm:** Pressure at 9am\n",
    "\n",
    "**Cloud9am:** Cloud Cover at 9am\n",
    "\n",
    "**Cloud3pm:** Cloud Cover at 3pm\n",
    "\n",
    "**Temp9am:** Temperature at 9am\n",
    "\n",
    "**Temp3pm:** Temperature at 3pm\n",
    "\n",
    "**RainToday:** Rain fall happened or not today\n",
    "\n",
    "**RainTomorrow:** Does tomorrow rainfall will happen or not: Yes(1) or No(0)"
   ]
  },
  {
   "cell_type": "markdown",
   "metadata": {},
   "source": [
    "## Table of Content\n",
    "\n",
    "1. **[Import Libraries](#lib)**\n",
    "2. **[Data Preparation](#prep)**\n",
    "    - 2.1 - **[Read the Data](#read)**\n",
    "    - 2.2 - **[Check the Data Type](#dtype)**\n",
    "    - 2.3 - **[Remove Insignificant Variables](#drop)**\n",
    "    - 2.4 - **[Distribution of Variables](#dist)**\n",
    "    - 2.5 - **[Missing Value Treatment](#null)**\n",
    "    - 2.6 - **[Dummy Encode the Categorical Variables](#dummy)**\n",
    "    - 2.7 - **[Scale the Data](#scale)**\n",
    "    - 2.8 - **[Train-Test Split](#split)**\n",
    "3. **[Logistic Regression (Full Model)](#logit)**\n",
    "    - 3.1 - **[Identify the Best Cut-off Value](#cut_off)**\n",
    "        - 3.1.1 - **[Youden's Index](#youden)**"
   ]
  },
  {
   "cell_type": "markdown",
   "metadata": {},
   "source": [
    "<a id=\"lib\"></a>\n",
    "# 1. Import Libraries"
   ]
  },
  {
   "cell_type": "markdown",
   "metadata": {},
   "source": [
    "**Let us import the required libraries.**"
   ]
  },
  {
   "cell_type": "code",
   "execution_count": 1,
   "metadata": {},
   "outputs": [],
   "source": [
    "import pandas as pd\n",
    "import matplotlib.pyplot as plt\n",
    "from matplotlib.colors import ListedColormap\n",
    "import numpy as np\n",
    "import seaborn as sns\n",
    "from sklearn.model_selection import train_test_split\n",
    "import statsmodels\n",
    "import statsmodels.api as sm\n",
    "from warnings import filterwarnings\n",
    "filterwarnings('ignore')\n",
    "from sklearn import metrics\n",
    "from sklearn.linear_model import LogisticRegression\n",
    "from sklearn.metrics import classification_report\n",
    "from sklearn.metrics import cohen_kappa_score\n",
    "from sklearn.metrics import confusion_matrix\n",
    "from sklearn.metrics import roc_curve\n",
    "from sklearn.metrics import accuracy_score"
   ]
  },
  {
   "cell_type": "markdown",
   "metadata": {},
   "source": [
    "<a id=\"prep\"></a>\n",
    "# 2. Data Preparation"
   ]
  },
  {
   "cell_type": "markdown",
   "metadata": {},
   "source": [
    "<a id=\"read\"></a>\n",
    "## 2.1 Read the Data"
   ]
  },
  {
   "cell_type": "markdown",
   "metadata": {},
   "source": [
    "#### Read the dataset and print the first five observations."
   ]
  },
  {
   "cell_type": "code",
   "execution_count": 2,
   "metadata": {},
   "outputs": [
    {
     "data": {
      "text/html": [
       "<div>\n",
       "<style scoped>\n",
       "    .dataframe tbody tr th:only-of-type {\n",
       "        vertical-align: middle;\n",
       "    }\n",
       "\n",
       "    .dataframe tbody tr th {\n",
       "        vertical-align: top;\n",
       "    }\n",
       "\n",
       "    .dataframe thead th {\n",
       "        text-align: right;\n",
       "    }\n",
       "</style>\n",
       "<table border=\"1\" class=\"dataframe\">\n",
       "  <thead>\n",
       "    <tr style=\"text-align: right;\">\n",
       "      <th></th>\n",
       "      <th>Date</th>\n",
       "      <th>Location</th>\n",
       "      <th>MinTemp</th>\n",
       "      <th>MaxTemp</th>\n",
       "      <th>Rainfall</th>\n",
       "      <th>Evaporation</th>\n",
       "      <th>Sunshine</th>\n",
       "      <th>WindGustDir</th>\n",
       "      <th>WindGustSpeed</th>\n",
       "      <th>WindDir9am</th>\n",
       "      <th>...</th>\n",
       "      <th>Humidity9am</th>\n",
       "      <th>Humidity3pm</th>\n",
       "      <th>Pressure9am</th>\n",
       "      <th>Pressure3pm</th>\n",
       "      <th>Cloud9am</th>\n",
       "      <th>Cloud3pm</th>\n",
       "      <th>Temp9am</th>\n",
       "      <th>Temp3pm</th>\n",
       "      <th>RainToday</th>\n",
       "      <th>RainTomorrow</th>\n",
       "    </tr>\n",
       "  </thead>\n",
       "  <tbody>\n",
       "    <tr>\n",
       "      <th>0</th>\n",
       "      <td>07-03-2012</td>\n",
       "      <td>Wollongong</td>\n",
       "      <td>16.0</td>\n",
       "      <td>20.4</td>\n",
       "      <td>8.2</td>\n",
       "      <td>NaN</td>\n",
       "      <td>NaN</td>\n",
       "      <td>S</td>\n",
       "      <td>63.0</td>\n",
       "      <td>SSW</td>\n",
       "      <td>...</td>\n",
       "      <td>69.0</td>\n",
       "      <td>92.0</td>\n",
       "      <td>1018.5</td>\n",
       "      <td>1017.6</td>\n",
       "      <td>1.0</td>\n",
       "      <td>8.0</td>\n",
       "      <td>17.4</td>\n",
       "      <td>15.6</td>\n",
       "      <td>Yes</td>\n",
       "      <td>Yes</td>\n",
       "    </tr>\n",
       "    <tr>\n",
       "      <th>1</th>\n",
       "      <td>06-01-2011</td>\n",
       "      <td>PerthAirport</td>\n",
       "      <td>18.5</td>\n",
       "      <td>25.9</td>\n",
       "      <td>16.0</td>\n",
       "      <td>5.4</td>\n",
       "      <td>11.8</td>\n",
       "      <td>WSW</td>\n",
       "      <td>39.0</td>\n",
       "      <td>SSW</td>\n",
       "      <td>...</td>\n",
       "      <td>60.0</td>\n",
       "      <td>36.0</td>\n",
       "      <td>1004.6</td>\n",
       "      <td>1003.6</td>\n",
       "      <td>7.0</td>\n",
       "      <td>1.0</td>\n",
       "      <td>22.2</td>\n",
       "      <td>25.1</td>\n",
       "      <td>Yes</td>\n",
       "      <td>No</td>\n",
       "    </tr>\n",
       "    <tr>\n",
       "      <th>2</th>\n",
       "      <td>29-06-2014</td>\n",
       "      <td>Penrith</td>\n",
       "      <td>8.7</td>\n",
       "      <td>16.5</td>\n",
       "      <td>0.0</td>\n",
       "      <td>NaN</td>\n",
       "      <td>NaN</td>\n",
       "      <td>WNW</td>\n",
       "      <td>56.0</td>\n",
       "      <td>WNW</td>\n",
       "      <td>...</td>\n",
       "      <td>41.0</td>\n",
       "      <td>41.0</td>\n",
       "      <td>NaN</td>\n",
       "      <td>NaN</td>\n",
       "      <td>NaN</td>\n",
       "      <td>NaN</td>\n",
       "      <td>13.1</td>\n",
       "      <td>15.1</td>\n",
       "      <td>No</td>\n",
       "      <td>No</td>\n",
       "    </tr>\n",
       "    <tr>\n",
       "      <th>3</th>\n",
       "      <td>16-12-2008</td>\n",
       "      <td>Cairns</td>\n",
       "      <td>25.5</td>\n",
       "      <td>33.9</td>\n",
       "      <td>0.2</td>\n",
       "      <td>5.0</td>\n",
       "      <td>7.0</td>\n",
       "      <td>SSE</td>\n",
       "      <td>41.0</td>\n",
       "      <td>SSE</td>\n",
       "      <td>...</td>\n",
       "      <td>64.0</td>\n",
       "      <td>59.0</td>\n",
       "      <td>1009.8</td>\n",
       "      <td>1007.4</td>\n",
       "      <td>6.0</td>\n",
       "      <td>5.0</td>\n",
       "      <td>30.8</td>\n",
       "      <td>31.5</td>\n",
       "      <td>No</td>\n",
       "      <td>No</td>\n",
       "    </tr>\n",
       "    <tr>\n",
       "      <th>4</th>\n",
       "      <td>21-04-2015</td>\n",
       "      <td>SalmonGums</td>\n",
       "      <td>3.8</td>\n",
       "      <td>23.0</td>\n",
       "      <td>0.0</td>\n",
       "      <td>NaN</td>\n",
       "      <td>NaN</td>\n",
       "      <td>N</td>\n",
       "      <td>28.0</td>\n",
       "      <td>NE</td>\n",
       "      <td>...</td>\n",
       "      <td>56.0</td>\n",
       "      <td>29.0</td>\n",
       "      <td>NaN</td>\n",
       "      <td>NaN</td>\n",
       "      <td>NaN</td>\n",
       "      <td>NaN</td>\n",
       "      <td>14.0</td>\n",
       "      <td>21.1</td>\n",
       "      <td>No</td>\n",
       "      <td>No</td>\n",
       "    </tr>\n",
       "  </tbody>\n",
       "</table>\n",
       "<p>5 rows × 23 columns</p>\n",
       "</div>"
      ],
      "text/plain": [
       "         Date      Location  MinTemp  MaxTemp  Rainfall  Evaporation  \\\n",
       "0  07-03-2012    Wollongong     16.0     20.4       8.2          NaN   \n",
       "1  06-01-2011  PerthAirport     18.5     25.9      16.0          5.4   \n",
       "2  29-06-2014       Penrith      8.7     16.5       0.0          NaN   \n",
       "3  16-12-2008        Cairns     25.5     33.9       0.2          5.0   \n",
       "4  21-04-2015    SalmonGums      3.8     23.0       0.0          NaN   \n",
       "\n",
       "   Sunshine WindGustDir  WindGustSpeed WindDir9am  ... Humidity9am  \\\n",
       "0       NaN           S           63.0        SSW  ...        69.0   \n",
       "1      11.8         WSW           39.0        SSW  ...        60.0   \n",
       "2       NaN         WNW           56.0        WNW  ...        41.0   \n",
       "3       7.0         SSE           41.0        SSE  ...        64.0   \n",
       "4       NaN           N           28.0         NE  ...        56.0   \n",
       "\n",
       "   Humidity3pm  Pressure9am  Pressure3pm  Cloud9am  Cloud3pm  Temp9am  \\\n",
       "0         92.0       1018.5       1017.6       1.0       8.0     17.4   \n",
       "1         36.0       1004.6       1003.6       7.0       1.0     22.2   \n",
       "2         41.0          NaN          NaN       NaN       NaN     13.1   \n",
       "3         59.0       1009.8       1007.4       6.0       5.0     30.8   \n",
       "4         29.0          NaN          NaN       NaN       NaN     14.0   \n",
       "\n",
       "   Temp3pm  RainToday  RainTomorrow  \n",
       "0     15.6        Yes           Yes  \n",
       "1     25.1        Yes            No  \n",
       "2     15.1         No            No  \n",
       "3     31.5         No            No  \n",
       "4     21.1         No            No  \n",
       "\n",
       "[5 rows x 23 columns]"
      ]
     },
     "execution_count": 2,
     "metadata": {},
     "output_type": "execute_result"
    }
   ],
   "source": [
    "df=pd.read_csv(\"Rainfall_prediction_data.csv\")\n",
    "df.head(5)"
   ]
  },
  {
   "cell_type": "markdown",
   "metadata": {},
   "source": [
    "**Let us now see the number of variables and observations in the data.**"
   ]
  },
  {
   "cell_type": "code",
   "execution_count": 3,
   "metadata": {},
   "outputs": [
    {
     "name": "stdout",
     "output_type": "stream",
     "text": [
      "Number of Variables : 23\n",
      "Number of Observations : 1040\n"
     ]
    }
   ],
   "source": [
    "print(\"Number of Variables :\", len(df.columns))\n",
    "print(\"Number of Observations :\", len(df))"
   ]
  },
  {
   "cell_type": "markdown",
   "metadata": {},
   "source": [
    "<a id=\"dtype\"></a>\n",
    "## 2.2 Check the Data Type"
   ]
  },
  {
   "cell_type": "markdown",
   "metadata": {},
   "source": [
    "**Check the data type of each variable. If the data type is not as per the data definition, change the data type.**"
   ]
  },
  {
   "cell_type": "code",
   "execution_count": 4,
   "metadata": {},
   "outputs": [
    {
     "name": "stdout",
     "output_type": "stream",
     "text": [
      "<class 'pandas.core.frame.DataFrame'>\n",
      "RangeIndex: 1040 entries, 0 to 1039\n",
      "Data columns (total 23 columns):\n",
      " #   Column         Non-Null Count  Dtype  \n",
      "---  ------         --------------  -----  \n",
      " 0   Date           1040 non-null   object \n",
      " 1   Location       1040 non-null   object \n",
      " 2   MinTemp        1035 non-null   float64\n",
      " 3   MaxTemp        1035 non-null   float64\n",
      " 4   Rainfall       1029 non-null   float64\n",
      " 5   Evaporation    582 non-null    float64\n",
      " 6   Sunshine       533 non-null    float64\n",
      " 7   WindGustDir    969 non-null    object \n",
      " 8   WindGustSpeed  969 non-null    float64\n",
      " 9   WindDir9am     981 non-null    object \n",
      " 10  WindDir3pm     1014 non-null   object \n",
      " 11  WindSpeed9am   1032 non-null   float64\n",
      " 12  WindSpeed3pm   1023 non-null   float64\n",
      " 13  Humidity9am    1031 non-null   float64\n",
      " 14  Humidity3pm    1016 non-null   float64\n",
      " 15  Pressure9am    929 non-null    float64\n",
      " 16  Pressure3pm    932 non-null    float64\n",
      " 17  Cloud9am       613 non-null    float64\n",
      " 18  Cloud3pm       597 non-null    float64\n",
      " 19  Temp9am        1034 non-null   float64\n",
      " 20  Temp3pm        1022 non-null   float64\n",
      " 21  RainToday      1029 non-null   object \n",
      " 22  RainTomorrow   1040 non-null   object \n",
      "dtypes: float64(16), object(7)\n",
      "memory usage: 187.0+ KB\n"
     ]
    }
   ],
   "source": [
    "df.info()"
   ]
  },
  {
   "cell_type": "markdown",
   "metadata": {},
   "source": [
    "#### Change the data type as per the data definition."
   ]
  },
  {
   "cell_type": "code",
   "execution_count": 5,
   "metadata": {},
   "outputs": [],
   "source": [
    "# Convert Date column to datetime format\n",
    "df['Date'] = pd.to_datetime(df['Date'])"
   ]
  },
  {
   "cell_type": "markdown",
   "metadata": {},
   "source": [
    "#### Recheck the data type after the conversion. "
   ]
  },
  {
   "cell_type": "code",
   "execution_count": 6,
   "metadata": {},
   "outputs": [
    {
     "data": {
      "text/plain": [
       "Date             datetime64[ns]\n",
       "Location                 object\n",
       "MinTemp                 float64\n",
       "MaxTemp                 float64\n",
       "Rainfall                float64\n",
       "Evaporation             float64\n",
       "Sunshine                float64\n",
       "WindGustDir              object\n",
       "WindGustSpeed           float64\n",
       "WindDir9am               object\n",
       "WindDir3pm               object\n",
       "WindSpeed9am            float64\n",
       "WindSpeed3pm            float64\n",
       "Humidity9am             float64\n",
       "Humidity3pm             float64\n",
       "Pressure9am             float64\n",
       "Pressure3pm             float64\n",
       "Cloud9am                float64\n",
       "Cloud3pm                float64\n",
       "Temp9am                 float64\n",
       "Temp3pm                 float64\n",
       "RainToday                object\n",
       "RainTomorrow             object\n",
       "dtype: object"
      ]
     },
     "execution_count": 6,
     "metadata": {},
     "output_type": "execute_result"
    }
   ],
   "source": [
    "df.dtypes"
   ]
  },
  {
   "cell_type": "markdown",
   "metadata": {},
   "source": [
    "<a id=\"drop\"></a>\n",
    "## 2.3 Remove Insignificant Variables, if its applicable."
   ]
  },
  {
   "cell_type": "code",
   "execution_count": 7,
   "metadata": {},
   "outputs": [],
   "source": [
    "cols_to_drop = ['Location', 'Date']\n",
    "df = df.drop(cols_to_drop, axis=1)"
   ]
  },
  {
   "cell_type": "markdown",
   "metadata": {},
   "source": [
    "# <a id=\"dist\"></a>\n",
    "## 2.4 Distribution of Variables"
   ]
  },
  {
   "cell_type": "markdown",
   "metadata": {},
   "source": [
    "**Distribution of numeric independent variables.**"
   ]
  },
  {
   "cell_type": "code",
   "execution_count": 8,
   "metadata": {},
   "outputs": [
    {
     "data": {
      "image/png": "[encoded data removed]",
      "text/plain": [
       "<Figure size 1080x576 with 16 Axes>"
      ]
     },
     "metadata": {
      "needs_background": "light"
     },
     "output_type": "display_data"
    },
    {
     "name": "stdout",
     "output_type": "stream",
     "text": [
      "Skewness:\n",
      "MinTemp          0.104990\n",
      "MaxTemp          0.294201\n",
      "Rainfall         8.499077\n",
      "Evaporation      1.624399\n",
      "Sunshine        -0.515384\n",
      "WindGustSpeed    1.001696\n",
      "WindSpeed9am     0.726155\n",
      "WindSpeed3pm     0.494159\n",
      "Humidity9am     -0.442775\n",
      "Humidity3pm      0.031312\n",
      "Pressure9am     -0.297925\n",
      "Pressure3pm     -0.201687\n",
      "Cloud9am        -0.296792\n",
      "Cloud3pm        -0.217657\n",
      "Temp9am          0.162631\n",
      "Temp3pm          0.280177\n",
      "dtype: float64\n",
      "Skewness:\n",
      "\n",
      "MinTemp         -0.055009\n",
      "MaxTemp          0.035168\n",
      "Rainfall         0.946003\n",
      "Evaporation     -0.004149\n",
      "Sunshine        -0.358847\n",
      "WindGustSpeed    0.006287\n",
      "WindSpeed9am    -0.038106\n",
      "WindSpeed3pm     0.007318\n",
      "Humidity9am     -0.095542\n",
      "Humidity3pm     -0.077005\n",
      "Pressure9am      0.004309\n",
      "Pressure3pm     -0.000212\n",
      "Cloud9am        -0.345565\n",
      "Cloud3pm        -0.290687\n",
      "Temp9am          0.013067\n",
      "Temp3pm          0.076784\n",
      "dtype: float64\n",
      "       MinTemp   MaxTemp  Rainfall  Evaporation  Sunshine  WindGustSpeed  \\\n",
      "0     0.656502 -0.351342  1.810998          NaN       NaN       1.544685   \n",
      "1     1.041761  0.451833  1.857185     0.303994  1.159927       0.059860   \n",
      "2    -0.507424 -0.958935 -0.694282          NaN       NaN       1.168150   \n",
      "3     2.095096  1.537136 -0.041217     0.182679 -0.218392       0.208773   \n",
      "4    -1.340833  0.035211 -0.694282          NaN       NaN      -0.892648   \n",
      "...        ...       ...       ...          ...       ...            ...   \n",
      "1035 -0.857370 -1.488528  1.688862          NaN       NaN       0.813201   \n",
      "1036  2.493179  1.885951 -0.694282     0.957206  1.219954      -0.427733   \n",
      "1037  0.202027 -0.534460 -0.694282    -0.474647 -1.246438      -0.892648   \n",
      "1038  0.249465  0.536312 -0.694282          NaN       NaN      -0.095425   \n",
      "1039  0.217851  0.841468 -0.694282     0.418624  1.583899      -0.699185   \n",
      "\n",
      "      WindSpeed9am  WindSpeed3pm  Humidity9am  Humidity3pm  Pressure9am  \\\n",
      "0         2.442634      0.256337    -0.095994     1.934305     0.122645   \n",
      "1         0.794926      0.479961    -0.589850    -0.761588    -1.651764   \n",
      "2         0.693755      0.479961    -1.519058    -0.508746          NaN   \n",
      "3        -0.208219      0.141966    -0.374334     0.377551    -1.024127   \n",
      "4         0.036051     -1.431486    -0.798771    -1.121876          NaN   \n",
      "...            ...           ...          ...          ...          ...   \n",
      "1035      1.800227      1.318580     1.764397     1.141359    -1.698350   \n",
      "1036      0.693755      0.141966    -0.374334    -1.018104    -0.911241   \n",
      "1037      0.036051     -0.335474    -0.428819     0.474111     0.974695   \n",
      "1038      0.484930      0.141966    -0.900685    -1.069901     1.095134   \n",
      "1039     -0.907609     -0.853444     0.075633    -0.408525     0.108738   \n",
      "\n",
      "      Pressure3pm  Cloud9am  Cloud3pm   Temp9am   Temp3pm  \n",
      "0        0.341228 -1.241944  1.252493  0.123056 -0.872719  \n",
      "1       -1.524783  0.830966 -1.265987  0.888287  0.563184  \n",
      "2             NaN       NaN       NaN -0.586004 -0.952249  \n",
      "3       -1.041904  0.505486  0.242785  2.208499  1.470187  \n",
      "4             NaN       NaN       NaN -0.435408 -0.026011  \n",
      "...           ...       ...       ...       ...       ...  \n",
      "1035    -1.374129  0.830966  1.252493 -1.202671 -1.324734  \n",
      "1036    -1.119283 -0.510882 -1.265987  2.163348  2.005209  \n",
      "1037     0.964244  0.830966  0.923373 -0.023288 -0.497302  \n",
      "1038     0.846473       NaN -1.265987  0.556452  0.678790  \n",
      "1039     0.087624 -1.640239 -0.860720  0.524620  0.793716  \n",
      "\n",
      "[1040 rows x 16 columns]\n"
     ]
    }
   ],
   "source": [
    "from sklearn.preprocessing import PowerTransformer\n",
    "# select the numeric variables\n",
    "df_num = df.select_dtypes(include=np.number)\n",
    "\n",
    "# plot the histograms\n",
    "df_num.hist(figsize=(15, 8), color='green')\n",
    "\n",
    "# adjust the subplots\n",
    "plt.tight_layout()\n",
    "\n",
    "# display the plot\n",
    "plt.show()\n",
    "\n",
    "# print the skewness for each numeric independent variable\n",
    "print('Skewness:')\n",
    "print(df_num.skew())\n",
    "\n",
    "# separate the numeric variables\n",
    "df_num = df.select_dtypes(include=['float64'])\n",
    "\n",
    "# initialize the power transformer\n",
    "pt = PowerTransformer(method='yeo-johnson')\n",
    "\n",
    "# transform the data\n",
    "df_num_transformed = pd.DataFrame(pt.fit_transform(df_num), columns=df_num.columns)\n",
    "\n",
    "# print the skewness for each numeric independent variable\n",
    "print('Skewness:')\n",
    "print()\n",
    "print(df_num_transformed.skew())\n",
    "# replace the numeric columns in df_rain with the transformed columns\n",
    "df[df_num.columns] = df_num_transformed\n",
    "print(df_num_transformed)"
   ]
  },
  {
   "cell_type": "code",
   "execution_count": 9,
   "metadata": {},
   "outputs": [
    {
     "data": {
      "image/png": "[encoded data removed]",
      "text/plain": [
       "<Figure size 432x288 with 1 Axes>"
      ]
     },
     "metadata": {
      "needs_background": "light"
     },
     "output_type": "display_data"
    },
    {
     "data": {
      "image/png": "[encoded data removed]",
      "text/plain": [
       "<Figure size 432x288 with 1 Axes>"
      ]
     },
     "metadata": {
      "needs_background": "light"
     },
     "output_type": "display_data"
    },
    {
     "data": {
      "image/png": "[encoded data removed]",
      "text/plain": [
       "<Figure size 432x288 with 1 Axes>"
      ]
     },
     "metadata": {
      "needs_background": "light"
     },
     "output_type": "display_data"
    },
    {
     "data": {
      "image/png": "[encoded data removed]",
      "text/plain": [
       "<Figure size 432x288 with 1 Axes>"
      ]
     },
     "metadata": {
      "needs_background": "light"
     },
     "output_type": "display_data"
    },
    {
     "data": {
      "image/png": "[encoded data removed]",
      "text/plain": [
       "<Figure size 432x288 with 1 Axes>"
      ]
     },
     "metadata": {
      "needs_background": "light"
     },
     "output_type": "display_data"
    },
    {
     "data": {
      "image/png": "[encoded data removed]",
      "text/plain": [
       "<Figure size 432x288 with 1 Axes>"
      ]
     },
     "metadata": {
      "needs_background": "light"
     },
     "output_type": "display_data"
    },
    {
     "data": {
      "image/png": "[encoded data removed]",
      "text/plain": [
       "<Figure size 432x288 with 1 Axes>"
      ]
     },
     "metadata": {
      "needs_background": "light"
     },
     "output_type": "display_data"
    },
    {
     "data": {
      "image/png": "[encoded data removed]",
      "text/plain": [
       "<Figure size 432x288 with 1 Axes>"
      ]
     },
     "metadata": {
      "needs_background": "light"
     },
     "output_type": "display_data"
    },
    {
     "data": {
      "image/png": "[encoded data removed]",
      "text/plain": [
       "<Figure size 432x288 with 1 Axes>"
      ]
     },
     "metadata": {
      "needs_background": "light"
     },
     "output_type": "display_data"
    },
    {
     "data": {
      "image/png": "[encoded data removed]",
      "text/plain": [
       "<Figure size 432x288 with 1 Axes>"
      ]
     },
     "metadata": {
      "needs_background": "light"
     },
     "output_type": "display_data"
    },
    {
     "data": {
      "image/png": "[encoded data removed]",
      "text/plain": [
       "<Figure size 432x288 with 1 Axes>"
      ]
     },
     "metadata": {
      "needs_background": "light"
     },
     "output_type": "display_data"
    },
    {
     "data": {
      "image/png": "[encoded data removed]",
      "text/plain": [
       "<Figure size 432x288 with 1 Axes>"
      ]
     },
     "metadata": {
      "needs_background": "light"
     },
     "output_type": "display_data"
    },
    {
     "data": {
      "image/png": "[encoded data removed]",
      "text/plain": [
       "<Figure size 432x288 with 1 Axes>"
      ]
     },
     "metadata": {
      "needs_background": "light"
     },
     "output_type": "display_data"
    },
    {
     "data": {
      "image/png": "[encoded data removed]",
      "text/plain": [
       "<Figure size 432x288 with 1 Axes>"
      ]
     },
     "metadata": {
      "needs_background": "light"
     },
     "output_type": "display_data"
    },
    {
     "data": {
      "image/png": "[encoded data removed]",
      "text/plain": [
       "<Figure size 432x288 with 1 Axes>"
      ]
     },
     "metadata": {
      "needs_background": "light"
     },
     "output_type": "display_data"
    },
    {
     "data": {
      "image/png": "[encoded data removed]",
      "text/plain": [
       "<Figure size 432x288 with 1 Axes>"
      ]
     },
     "metadata": {
      "needs_background": "light"
     },
     "output_type": "display_data"
    }
   ],
   "source": [
    "# select the numeric variables\n",
    "df_num = df.select_dtypes(include=np.number)\n",
    "\n",
    "# create a boxplot for each variable\n",
    "for col in df_num.columns:\n",
    "    plt.figure()\n",
    "    sns.boxplot(x=df_num[col], color='green')\n",
    "    plt.title(col)\n",
    "    \n",
    "# show the plots\n",
    "plt.show()"
   ]
  },
  {
   "cell_type": "code",
   "execution_count": 10,
   "metadata": {},
   "outputs": [
    {
     "name": "stdout",
     "output_type": "stream",
     "text": [
      "Shape of dataframe before removing outliers: (1040, 16)\n",
      "Shape of dataframe after removing outliers: (996, 16)\n"
     ]
    }
   ],
   "source": [
    "# select the numeric variables\n",
    "df_num = df.select_dtypes(include=np.number)\n",
    "\n",
    "# calculate the IQR\n",
    "Q1 = df_num.quantile(0.25)\n",
    "Q3 = df_num.quantile(0.75)\n",
    "IQR = Q3 - Q1\n",
    "\n",
    "# remove outliers\n",
    "df_out = df_num[~((df_num < (Q1 - 1.5 * IQR)) | (df_num > (Q3 + 1.5 * IQR))).any(axis=1)]\n",
    "\n",
    "# update the df_num dataframe with the outliers removed\n",
    "df_num[df_out.columns] = df_out\n",
    "\n",
    "\n",
    "# display the shape of the new dataframe\n",
    "print('Shape of dataframe before removing outliers:', df_num.shape)\n",
    "print('Shape of dataframe after removing outliers:', df_out.shape)"
   ]
  },
  {
   "cell_type": "code",
   "execution_count": 11,
   "metadata": {},
   "outputs": [
    {
     "data": {
      "image/png": "[encoded data removed]",
      "text/plain": [
       "<Figure size 432x288 with 1 Axes>"
      ]
     },
     "metadata": {
      "needs_background": "light"
     },
     "output_type": "display_data"
    }
   ],
   "source": [
    "import seaborn as sns\n",
    "\n",
    "# select the numeric variables\n",
    "df_num = df.select_dtypes(include=np.number)\n",
    "\n",
    "# create the box plot\n",
    "sns.boxplot(data=df_out, orient='h')\n",
    "\n",
    "# display the plot\n",
    "plt.show()"
   ]
  },
  {
   "cell_type": "markdown",
   "metadata": {},
   "source": [
    "**Distribution of categoric independent variable.**"
   ]
  },
  {
   "cell_type": "code",
   "execution_count": 12,
   "metadata": {},
   "outputs": [
    {
     "data": {
      "image/png": "[encoded data removed]",
      "text/plain": [
       "<Figure size 432x288 with 1 Axes>"
      ]
     },
     "metadata": {
      "needs_background": "light"
     },
     "output_type": "display_data"
    }
   ],
   "source": [
    "# plot the count plot\n",
    "sns.countplot(data=df, x='WindGustSpeed')\n",
    "\n",
    "# add plot and axes labels, set text size using 'fontsize'\n",
    "plt.title('Count Plot for Categorical Variable (WindGustSpeed)', fontsize=15)\n",
    "plt.xlabel('WindGustSpeed', fontsize=15)\n",
    "plt.ylabel('Count', fontsize=15)\n",
    "\n",
    "# display the plot\n",
    "plt.show()"
   ]
  },
  {
   "cell_type": "markdown",
   "metadata": {},
   "source": [
    "#### Distribution of dependent variable."
   ]
  },
  {
   "cell_type": "code",
   "execution_count": 13,
   "metadata": {},
   "outputs": [
    {
     "name": "stdout",
     "output_type": "stream",
     "text": [
      "No     0.797115\n",
      "Yes    0.202885\n",
      "Name: RainTomorrow, dtype: float64\n"
     ]
    },
    {
     "data": {
      "image/png": "[encoded data removed]",
      "text/plain": [
       "<Figure size 432x288 with 1 Axes>"
      ]
     },
     "metadata": {
      "needs_background": "light"
     },
     "output_type": "display_data"
    }
   ],
   "source": [
    "# print the distribution of RainTomorrow column as a percentage\n",
    "print(df['RainTomorrow'].value_counts(normalize=True))\n",
    "\n",
    "# plot a count plot for the RainTomorrow column\n",
    "import seaborn as sns\n",
    "\n",
    "sns.countplot(data=df, x='RainTomorrow')\n",
    "plt.title('Count Plot for Categorical Variable (RainTomorrow)', fontsize = 15)\n",
    "plt.xlabel('RainTomorrow', fontsize = 15)\n",
    "plt.ylabel('Count', fontsize = 15)\n",
    "\n",
    "# display the plot\n",
    "plt.show()"
   ]
  },
  {
   "cell_type": "markdown",
   "metadata": {},
   "source": [
    "<a id=\"null\"></a>\n",
    "## 2.5 Missing Value Treatment"
   ]
  },
  {
   "cell_type": "markdown",
   "metadata": {},
   "source": [
    "First run a check for the presence of missing values and their percentage for each column. Then choose the right approach to treat them."
   ]
  },
  {
   "cell_type": "code",
   "execution_count": 14,
   "metadata": {},
   "outputs": [
    {
     "data": {
      "text/html": [
       "<div>\n",
       "<style scoped>\n",
       "    .dataframe tbody tr th:only-of-type {\n",
       "        vertical-align: middle;\n",
       "    }\n",
       "\n",
       "    .dataframe tbody tr th {\n",
       "        vertical-align: top;\n",
       "    }\n",
       "\n",
       "    .dataframe thead th {\n",
       "        text-align: right;\n",
       "    }\n",
       "</style>\n",
       "<table border=\"1\" class=\"dataframe\">\n",
       "  <thead>\n",
       "    <tr style=\"text-align: right;\">\n",
       "      <th></th>\n",
       "      <th>Total</th>\n",
       "      <th>Percentage of Missing Values</th>\n",
       "    </tr>\n",
       "  </thead>\n",
       "  <tbody>\n",
       "    <tr>\n",
       "      <th>Sunshine</th>\n",
       "      <td>507</td>\n",
       "      <td>48.750000</td>\n",
       "    </tr>\n",
       "    <tr>\n",
       "      <th>Evaporation</th>\n",
       "      <td>458</td>\n",
       "      <td>44.038462</td>\n",
       "    </tr>\n",
       "    <tr>\n",
       "      <th>Cloud3pm</th>\n",
       "      <td>443</td>\n",
       "      <td>42.596154</td>\n",
       "    </tr>\n",
       "    <tr>\n",
       "      <th>Cloud9am</th>\n",
       "      <td>427</td>\n",
       "      <td>41.057692</td>\n",
       "    </tr>\n",
       "    <tr>\n",
       "      <th>Pressure9am</th>\n",
       "      <td>111</td>\n",
       "      <td>10.673077</td>\n",
       "    </tr>\n",
       "    <tr>\n",
       "      <th>Pressure3pm</th>\n",
       "      <td>108</td>\n",
       "      <td>10.384615</td>\n",
       "    </tr>\n",
       "    <tr>\n",
       "      <th>WindGustDir</th>\n",
       "      <td>71</td>\n",
       "      <td>6.826923</td>\n",
       "    </tr>\n",
       "    <tr>\n",
       "      <th>WindGustSpeed</th>\n",
       "      <td>71</td>\n",
       "      <td>6.826923</td>\n",
       "    </tr>\n",
       "    <tr>\n",
       "      <th>WindDir9am</th>\n",
       "      <td>59</td>\n",
       "      <td>5.673077</td>\n",
       "    </tr>\n",
       "    <tr>\n",
       "      <th>WindDir3pm</th>\n",
       "      <td>26</td>\n",
       "      <td>2.500000</td>\n",
       "    </tr>\n",
       "    <tr>\n",
       "      <th>Humidity3pm</th>\n",
       "      <td>24</td>\n",
       "      <td>2.307692</td>\n",
       "    </tr>\n",
       "    <tr>\n",
       "      <th>Temp3pm</th>\n",
       "      <td>18</td>\n",
       "      <td>1.730769</td>\n",
       "    </tr>\n",
       "    <tr>\n",
       "      <th>WindSpeed3pm</th>\n",
       "      <td>17</td>\n",
       "      <td>1.634615</td>\n",
       "    </tr>\n",
       "    <tr>\n",
       "      <th>Rainfall</th>\n",
       "      <td>11</td>\n",
       "      <td>1.057692</td>\n",
       "    </tr>\n",
       "    <tr>\n",
       "      <th>RainToday</th>\n",
       "      <td>11</td>\n",
       "      <td>1.057692</td>\n",
       "    </tr>\n",
       "    <tr>\n",
       "      <th>Humidity9am</th>\n",
       "      <td>9</td>\n",
       "      <td>0.865385</td>\n",
       "    </tr>\n",
       "    <tr>\n",
       "      <th>WindSpeed9am</th>\n",
       "      <td>8</td>\n",
       "      <td>0.769231</td>\n",
       "    </tr>\n",
       "    <tr>\n",
       "      <th>Temp9am</th>\n",
       "      <td>6</td>\n",
       "      <td>0.576923</td>\n",
       "    </tr>\n",
       "    <tr>\n",
       "      <th>MinTemp</th>\n",
       "      <td>5</td>\n",
       "      <td>0.480769</td>\n",
       "    </tr>\n",
       "    <tr>\n",
       "      <th>MaxTemp</th>\n",
       "      <td>5</td>\n",
       "      <td>0.480769</td>\n",
       "    </tr>\n",
       "    <tr>\n",
       "      <th>RainTomorrow</th>\n",
       "      <td>0</td>\n",
       "      <td>0.000000</td>\n",
       "    </tr>\n",
       "  </tbody>\n",
       "</table>\n",
       "</div>"
      ],
      "text/plain": [
       "               Total  Percentage of Missing Values\n",
       "Sunshine         507                     48.750000\n",
       "Evaporation      458                     44.038462\n",
       "Cloud3pm         443                     42.596154\n",
       "Cloud9am         427                     41.057692\n",
       "Pressure9am      111                     10.673077\n",
       "Pressure3pm      108                     10.384615\n",
       "WindGustDir       71                      6.826923\n",
       "WindGustSpeed     71                      6.826923\n",
       "WindDir9am        59                      5.673077\n",
       "WindDir3pm        26                      2.500000\n",
       "Humidity3pm       24                      2.307692\n",
       "Temp3pm           18                      1.730769\n",
       "WindSpeed3pm      17                      1.634615\n",
       "Rainfall          11                      1.057692\n",
       "RainToday         11                      1.057692\n",
       "Humidity9am        9                      0.865385\n",
       "WindSpeed9am       8                      0.769231\n",
       "Temp9am            6                      0.576923\n",
       "MinTemp            5                      0.480769\n",
       "MaxTemp            5                      0.480769\n",
       "RainTomorrow       0                      0.000000"
      ]
     },
     "execution_count": 14,
     "metadata": {},
     "output_type": "execute_result"
    }
   ],
   "source": [
    "# count the total number of missing values for each column in the DataFrame\n",
    "Total = df.isnull().sum().sort_values(ascending=False)\n",
    "\n",
    "# calculate the percentage of missing values for each column in the DataFrame\n",
    "Percent = (df.isnull().sum()*100/df.isnull().count()).sort_values(ascending=False)\n",
    "\n",
    "# concatenate the total and percentage of missing values into a single DataFrame\n",
    "missing_data = pd.concat([Total, Percent], axis=1, keys=['Total', 'Percentage of Missing Values'])\n",
    "\n",
    "# display the missing_data DataFrame\n",
    "missing_data"
   ]
  },
  {
   "cell_type": "code",
   "execution_count": 15,
   "metadata": {},
   "outputs": [
    {
     "data": {
      "text/plain": [
       "MinTemp            5\n",
       "MaxTemp            5\n",
       "Rainfall          11\n",
       "Evaporation      458\n",
       "Sunshine         507\n",
       "WindGustDir       71\n",
       "WindGustSpeed     71\n",
       "WindDir9am        59\n",
       "WindDir3pm        26\n",
       "WindSpeed9am       8\n",
       "WindSpeed3pm      17\n",
       "Humidity9am        9\n",
       "Humidity3pm       24\n",
       "Pressure9am      111\n",
       "Pressure3pm      108\n",
       "Cloud9am         427\n",
       "Cloud3pm         443\n",
       "Temp9am            6\n",
       "Temp3pm           18\n",
       "RainToday         11\n",
       "RainTomorrow       0\n",
       "dtype: int64"
      ]
     },
     "execution_count": 15,
     "metadata": {},
     "output_type": "execute_result"
    }
   ],
   "source": [
    "df.isnull().sum()"
   ]
  },
  {
   "cell_type": "code",
   "execution_count": 16,
   "metadata": {},
   "outputs": [],
   "source": [
    "num_cols = ['Evaporation', 'Sunshine', 'Cloud9am', 'Cloud3pm','MinTemp', 'MaxTemp', 'Rainfall', 'WindGustSpeed', 'WindSpeed9am', 'WindSpeed3pm', 'Humidity9am', 'Humidity3pm', 'Pressure9am', 'Pressure3pm', 'Temp9am', 'Temp3pm']\n",
    "cat_cols = ['WindGustDir', 'WindDir9am', 'WindDir3pm','RainToday']\n",
    "\n",
    "for col in num_cols:\n",
    "    df[col] = df[col].fillna(df[col].mean())\n",
    "\n",
    "for col in cat_cols:\n",
    "    df[col] = df[col].fillna(df[col].mode()[0])"
   ]
  },
  {
   "cell_type": "code",
   "execution_count": 17,
   "metadata": {},
   "outputs": [
    {
     "data": {
      "text/plain": [
       "MinTemp          0\n",
       "Humidity9am      0\n",
       "RainToday        0\n",
       "Temp3pm          0\n",
       "Temp9am          0\n",
       "Cloud3pm         0\n",
       "Cloud9am         0\n",
       "Pressure3pm      0\n",
       "Pressure9am      0\n",
       "Humidity3pm      0\n",
       "WindSpeed3pm     0\n",
       "MaxTemp          0\n",
       "WindSpeed9am     0\n",
       "WindDir3pm       0\n",
       "WindDir9am       0\n",
       "WindGustSpeed    0\n",
       "WindGustDir      0\n",
       "Sunshine         0\n",
       "Evaporation      0\n",
       "Rainfall         0\n",
       "RainTomorrow     0\n",
       "dtype: int64"
      ]
     },
     "execution_count": 17,
     "metadata": {},
     "output_type": "execute_result"
    }
   ],
   "source": [
    "Total = df.isnull().sum().sort_values(ascending=False)\n",
    "Total"
   ]
  },
  {
   "cell_type": "code",
   "execution_count": 18,
   "metadata": {},
   "outputs": [
    {
     "data": {
      "text/html": [
       "<div>\n",
       "<style scoped>\n",
       "    .dataframe tbody tr th:only-of-type {\n",
       "        vertical-align: middle;\n",
       "    }\n",
       "\n",
       "    .dataframe tbody tr th {\n",
       "        vertical-align: top;\n",
       "    }\n",
       "\n",
       "    .dataframe thead th {\n",
       "        text-align: right;\n",
       "    }\n",
       "</style>\n",
       "<table border=\"1\" class=\"dataframe\">\n",
       "  <thead>\n",
       "    <tr style=\"text-align: right;\">\n",
       "      <th></th>\n",
       "      <th>MinTemp</th>\n",
       "      <th>MaxTemp</th>\n",
       "      <th>Rainfall</th>\n",
       "      <th>Evaporation</th>\n",
       "      <th>Sunshine</th>\n",
       "      <th>WindGustDir</th>\n",
       "      <th>WindGustSpeed</th>\n",
       "      <th>WindDir9am</th>\n",
       "      <th>WindDir3pm</th>\n",
       "      <th>WindSpeed9am</th>\n",
       "      <th>...</th>\n",
       "      <th>Humidity9am</th>\n",
       "      <th>Humidity3pm</th>\n",
       "      <th>Pressure9am</th>\n",
       "      <th>Pressure3pm</th>\n",
       "      <th>Cloud9am</th>\n",
       "      <th>Cloud3pm</th>\n",
       "      <th>Temp9am</th>\n",
       "      <th>Temp3pm</th>\n",
       "      <th>RainToday</th>\n",
       "      <th>RainTomorrow</th>\n",
       "    </tr>\n",
       "  </thead>\n",
       "  <tbody>\n",
       "    <tr>\n",
       "      <th>0</th>\n",
       "      <td>0.656502</td>\n",
       "      <td>-0.351342</td>\n",
       "      <td>1.810998</td>\n",
       "      <td>2.756482e-16</td>\n",
       "      <td>-2.349590e-16</td>\n",
       "      <td>S</td>\n",
       "      <td>1.544685</td>\n",
       "      <td>SSW</td>\n",
       "      <td>SW</td>\n",
       "      <td>2.442634</td>\n",
       "      <td>...</td>\n",
       "      <td>-0.095994</td>\n",
       "      <td>1.934305</td>\n",
       "      <td>1.226448e-01</td>\n",
       "      <td>3.412276e-01</td>\n",
       "      <td>-1.241944e+00</td>\n",
       "      <td>1.252493e+00</td>\n",
       "      <td>0.123056</td>\n",
       "      <td>-0.872719</td>\n",
       "      <td>Yes</td>\n",
       "      <td>Yes</td>\n",
       "    </tr>\n",
       "    <tr>\n",
       "      <th>1</th>\n",
       "      <td>1.041761</td>\n",
       "      <td>0.451833</td>\n",
       "      <td>1.857185</td>\n",
       "      <td>3.039936e-01</td>\n",
       "      <td>1.159927e+00</td>\n",
       "      <td>WSW</td>\n",
       "      <td>0.059860</td>\n",
       "      <td>SSW</td>\n",
       "      <td>WSW</td>\n",
       "      <td>0.794926</td>\n",
       "      <td>...</td>\n",
       "      <td>-0.589850</td>\n",
       "      <td>-0.761588</td>\n",
       "      <td>-1.651764e+00</td>\n",
       "      <td>-1.524783e+00</td>\n",
       "      <td>8.309664e-01</td>\n",
       "      <td>-1.265987e+00</td>\n",
       "      <td>0.888287</td>\n",
       "      <td>0.563184</td>\n",
       "      <td>Yes</td>\n",
       "      <td>No</td>\n",
       "    </tr>\n",
       "    <tr>\n",
       "      <th>2</th>\n",
       "      <td>-0.507424</td>\n",
       "      <td>-0.958935</td>\n",
       "      <td>-0.694282</td>\n",
       "      <td>2.756482e-16</td>\n",
       "      <td>-2.349590e-16</td>\n",
       "      <td>WNW</td>\n",
       "      <td>1.168150</td>\n",
       "      <td>WNW</td>\n",
       "      <td>WNW</td>\n",
       "      <td>0.693755</td>\n",
       "      <td>...</td>\n",
       "      <td>-1.519058</td>\n",
       "      <td>-0.508746</td>\n",
       "      <td>-4.550241e-17</td>\n",
       "      <td>-7.427743e-16</td>\n",
       "      <td>-1.398193e-16</td>\n",
       "      <td>-1.584439e-16</td>\n",
       "      <td>-0.586004</td>\n",
       "      <td>-0.952249</td>\n",
       "      <td>No</td>\n",
       "      <td>No</td>\n",
       "    </tr>\n",
       "    <tr>\n",
       "      <th>3</th>\n",
       "      <td>2.095096</td>\n",
       "      <td>1.537136</td>\n",
       "      <td>-0.041217</td>\n",
       "      <td>1.826794e-01</td>\n",
       "      <td>-2.183917e-01</td>\n",
       "      <td>SSE</td>\n",
       "      <td>0.208773</td>\n",
       "      <td>SSE</td>\n",
       "      <td>SE</td>\n",
       "      <td>-0.208219</td>\n",
       "      <td>...</td>\n",
       "      <td>-0.374334</td>\n",
       "      <td>0.377551</td>\n",
       "      <td>-1.024127e+00</td>\n",
       "      <td>-1.041904e+00</td>\n",
       "      <td>5.054857e-01</td>\n",
       "      <td>2.427855e-01</td>\n",
       "      <td>2.208499</td>\n",
       "      <td>1.470187</td>\n",
       "      <td>No</td>\n",
       "      <td>No</td>\n",
       "    </tr>\n",
       "    <tr>\n",
       "      <th>4</th>\n",
       "      <td>-1.340833</td>\n",
       "      <td>0.035211</td>\n",
       "      <td>-0.694282</td>\n",
       "      <td>2.756482e-16</td>\n",
       "      <td>-2.349590e-16</td>\n",
       "      <td>N</td>\n",
       "      <td>-0.892648</td>\n",
       "      <td>NE</td>\n",
       "      <td>W</td>\n",
       "      <td>0.036051</td>\n",
       "      <td>...</td>\n",
       "      <td>-0.798771</td>\n",
       "      <td>-1.121876</td>\n",
       "      <td>-4.550241e-17</td>\n",
       "      <td>-7.427743e-16</td>\n",
       "      <td>-1.398193e-16</td>\n",
       "      <td>-1.584439e-16</td>\n",
       "      <td>-0.435408</td>\n",
       "      <td>-0.026011</td>\n",
       "      <td>No</td>\n",
       "      <td>No</td>\n",
       "    </tr>\n",
       "  </tbody>\n",
       "</table>\n",
       "<p>5 rows × 21 columns</p>\n",
       "</div>"
      ],
      "text/plain": [
       "    MinTemp   MaxTemp  Rainfall   Evaporation      Sunshine WindGustDir  \\\n",
       "0  0.656502 -0.351342  1.810998  2.756482e-16 -2.349590e-16           S   \n",
       "1  1.041761  0.451833  1.857185  3.039936e-01  1.159927e+00         WSW   \n",
       "2 -0.507424 -0.958935 -0.694282  2.756482e-16 -2.349590e-16         WNW   \n",
       "3  2.095096  1.537136 -0.041217  1.826794e-01 -2.183917e-01         SSE   \n",
       "4 -1.340833  0.035211 -0.694282  2.756482e-16 -2.349590e-16           N   \n",
       "\n",
       "   WindGustSpeed WindDir9am WindDir3pm  WindSpeed9am  ...  Humidity9am  \\\n",
       "0       1.544685        SSW         SW      2.442634  ...    -0.095994   \n",
       "1       0.059860        SSW        WSW      0.794926  ...    -0.589850   \n",
       "2       1.168150        WNW        WNW      0.693755  ...    -1.519058   \n",
       "3       0.208773        SSE         SE     -0.208219  ...    -0.374334   \n",
       "4      -0.892648         NE          W      0.036051  ...    -0.798771   \n",
       "\n",
       "   Humidity3pm   Pressure9am   Pressure3pm      Cloud9am      Cloud3pm  \\\n",
       "0     1.934305  1.226448e-01  3.412276e-01 -1.241944e+00  1.252493e+00   \n",
       "1    -0.761588 -1.651764e+00 -1.524783e+00  8.309664e-01 -1.265987e+00   \n",
       "2    -0.508746 -4.550241e-17 -7.427743e-16 -1.398193e-16 -1.584439e-16   \n",
       "3     0.377551 -1.024127e+00 -1.041904e+00  5.054857e-01  2.427855e-01   \n",
       "4    -1.121876 -4.550241e-17 -7.427743e-16 -1.398193e-16 -1.584439e-16   \n",
       "\n",
       "    Temp9am   Temp3pm  RainToday RainTomorrow  \n",
       "0  0.123056 -0.872719        Yes          Yes  \n",
       "1  0.888287  0.563184        Yes           No  \n",
       "2 -0.586004 -0.952249         No           No  \n",
       "3  2.208499  1.470187         No           No  \n",
       "4 -0.435408 -0.026011         No           No  \n",
       "\n",
       "[5 rows x 21 columns]"
      ]
     },
     "execution_count": 18,
     "metadata": {},
     "output_type": "execute_result"
    }
   ],
   "source": [
    "#Copy the dataset to treat misisng values\n",
    "df_rain= df.copy()\n",
    "df_rain.head()"
   ]
  },
  {
   "cell_type": "code",
   "execution_count": 53,
   "metadata": {},
   "outputs": [
    {
     "data": {
      "image/png": "[encoded data removed]",
      "text/plain": [
       "<Figure size 720x576 with 2 Axes>"
      ]
     },
     "metadata": {
      "needs_background": "light"
     },
     "output_type": "display_data"
    }
   ],
   "source": [
    "# assuming 'df' is your dataframe\n",
    "corr = df_rain.corr()\n",
    "\n",
    "# plot correlation matrix\n",
    "plt.figure(figsize=(10,8))\n",
    "sns.heatmap(corr, annot=True, cmap='coolwarm')\n",
    "plt.title('Correlation Matrix')\n",
    "plt.show()"
   ]
  },
  {
   "cell_type": "markdown",
   "metadata": {},
   "source": [
    "<a id=\"dummy\"></a>\n",
    "## 2.6 Dummy Encode the Categorical Variables"
   ]
  },
  {
   "cell_type": "markdown",
   "metadata": {},
   "source": [
    "#### Split the dependent and independent variables."
   ]
  },
  {
   "cell_type": "code",
   "execution_count": 19,
   "metadata": {},
   "outputs": [],
   "source": [
    "y=df_rain['RainTomorrow']\n",
    "x=df_rain.drop('RainTomorrow', axis=1)"
   ]
  },
  {
   "cell_type": "code",
   "execution_count": 20,
   "metadata": {},
   "outputs": [
    {
     "data": {
      "text/plain": [
       "0    Yes\n",
       "1     No\n",
       "2     No\n",
       "3     No\n",
       "4     No\n",
       "Name: RainTomorrow, dtype: object"
      ]
     },
     "execution_count": 20,
     "metadata": {},
     "output_type": "execute_result"
    }
   ],
   "source": [
    "y.head()"
   ]
  },
  {
   "cell_type": "markdown",
   "metadata": {},
   "source": [
    "#### Filter numerical and categorical variables."
   ]
  },
  {
   "cell_type": "code",
   "execution_count": 21,
   "metadata": {},
   "outputs": [],
   "source": [
    "x_num=x.select_dtypes(include=np.number)\n",
    "x_cat=x.select_dtypes(include=object)"
   ]
  },
  {
   "cell_type": "code",
   "execution_count": 22,
   "metadata": {},
   "outputs": [
    {
     "data": {
      "text/html": [
       "<div>\n",
       "<style scoped>\n",
       "    .dataframe tbody tr th:only-of-type {\n",
       "        vertical-align: middle;\n",
       "    }\n",
       "\n",
       "    .dataframe tbody tr th {\n",
       "        vertical-align: top;\n",
       "    }\n",
       "\n",
       "    .dataframe thead th {\n",
       "        text-align: right;\n",
       "    }\n",
       "</style>\n",
       "<table border=\"1\" class=\"dataframe\">\n",
       "  <thead>\n",
       "    <tr style=\"text-align: right;\">\n",
       "      <th></th>\n",
       "      <th>MinTemp</th>\n",
       "      <th>MaxTemp</th>\n",
       "      <th>Rainfall</th>\n",
       "      <th>Evaporation</th>\n",
       "      <th>Sunshine</th>\n",
       "      <th>WindGustSpeed</th>\n",
       "      <th>WindSpeed9am</th>\n",
       "      <th>WindSpeed3pm</th>\n",
       "      <th>Humidity9am</th>\n",
       "      <th>Humidity3pm</th>\n",
       "      <th>Pressure9am</th>\n",
       "      <th>Pressure3pm</th>\n",
       "      <th>Cloud9am</th>\n",
       "      <th>Cloud3pm</th>\n",
       "      <th>Temp9am</th>\n",
       "      <th>Temp3pm</th>\n",
       "    </tr>\n",
       "  </thead>\n",
       "  <tbody>\n",
       "    <tr>\n",
       "      <th>0</th>\n",
       "      <td>0.656502</td>\n",
       "      <td>-0.351342</td>\n",
       "      <td>1.810998</td>\n",
       "      <td>2.756482e-16</td>\n",
       "      <td>-2.349590e-16</td>\n",
       "      <td>1.544685</td>\n",
       "      <td>2.442634</td>\n",
       "      <td>0.256337</td>\n",
       "      <td>-0.095994</td>\n",
       "      <td>1.934305</td>\n",
       "      <td>1.226448e-01</td>\n",
       "      <td>3.412276e-01</td>\n",
       "      <td>-1.241944e+00</td>\n",
       "      <td>1.252493e+00</td>\n",
       "      <td>0.123056</td>\n",
       "      <td>-0.872719</td>\n",
       "    </tr>\n",
       "    <tr>\n",
       "      <th>1</th>\n",
       "      <td>1.041761</td>\n",
       "      <td>0.451833</td>\n",
       "      <td>1.857185</td>\n",
       "      <td>3.039936e-01</td>\n",
       "      <td>1.159927e+00</td>\n",
       "      <td>0.059860</td>\n",
       "      <td>0.794926</td>\n",
       "      <td>0.479961</td>\n",
       "      <td>-0.589850</td>\n",
       "      <td>-0.761588</td>\n",
       "      <td>-1.651764e+00</td>\n",
       "      <td>-1.524783e+00</td>\n",
       "      <td>8.309664e-01</td>\n",
       "      <td>-1.265987e+00</td>\n",
       "      <td>0.888287</td>\n",
       "      <td>0.563184</td>\n",
       "    </tr>\n",
       "    <tr>\n",
       "      <th>2</th>\n",
       "      <td>-0.507424</td>\n",
       "      <td>-0.958935</td>\n",
       "      <td>-0.694282</td>\n",
       "      <td>2.756482e-16</td>\n",
       "      <td>-2.349590e-16</td>\n",
       "      <td>1.168150</td>\n",
       "      <td>0.693755</td>\n",
       "      <td>0.479961</td>\n",
       "      <td>-1.519058</td>\n",
       "      <td>-0.508746</td>\n",
       "      <td>-4.550241e-17</td>\n",
       "      <td>-7.427743e-16</td>\n",
       "      <td>-1.398193e-16</td>\n",
       "      <td>-1.584439e-16</td>\n",
       "      <td>-0.586004</td>\n",
       "      <td>-0.952249</td>\n",
       "    </tr>\n",
       "    <tr>\n",
       "      <th>3</th>\n",
       "      <td>2.095096</td>\n",
       "      <td>1.537136</td>\n",
       "      <td>-0.041217</td>\n",
       "      <td>1.826794e-01</td>\n",
       "      <td>-2.183917e-01</td>\n",
       "      <td>0.208773</td>\n",
       "      <td>-0.208219</td>\n",
       "      <td>0.141966</td>\n",
       "      <td>-0.374334</td>\n",
       "      <td>0.377551</td>\n",
       "      <td>-1.024127e+00</td>\n",
       "      <td>-1.041904e+00</td>\n",
       "      <td>5.054857e-01</td>\n",
       "      <td>2.427855e-01</td>\n",
       "      <td>2.208499</td>\n",
       "      <td>1.470187</td>\n",
       "    </tr>\n",
       "    <tr>\n",
       "      <th>4</th>\n",
       "      <td>-1.340833</td>\n",
       "      <td>0.035211</td>\n",
       "      <td>-0.694282</td>\n",
       "      <td>2.756482e-16</td>\n",
       "      <td>-2.349590e-16</td>\n",
       "      <td>-0.892648</td>\n",
       "      <td>0.036051</td>\n",
       "      <td>-1.431486</td>\n",
       "      <td>-0.798771</td>\n",
       "      <td>-1.121876</td>\n",
       "      <td>-4.550241e-17</td>\n",
       "      <td>-7.427743e-16</td>\n",
       "      <td>-1.398193e-16</td>\n",
       "      <td>-1.584439e-16</td>\n",
       "      <td>-0.435408</td>\n",
       "      <td>-0.026011</td>\n",
       "    </tr>\n",
       "    <tr>\n",
       "      <th>...</th>\n",
       "      <td>...</td>\n",
       "      <td>...</td>\n",
       "      <td>...</td>\n",
       "      <td>...</td>\n",
       "      <td>...</td>\n",
       "      <td>...</td>\n",
       "      <td>...</td>\n",
       "      <td>...</td>\n",
       "      <td>...</td>\n",
       "      <td>...</td>\n",
       "      <td>...</td>\n",
       "      <td>...</td>\n",
       "      <td>...</td>\n",
       "      <td>...</td>\n",
       "      <td>...</td>\n",
       "      <td>...</td>\n",
       "    </tr>\n",
       "    <tr>\n",
       "      <th>1035</th>\n",
       "      <td>-0.857370</td>\n",
       "      <td>-1.488528</td>\n",
       "      <td>1.688862</td>\n",
       "      <td>2.756482e-16</td>\n",
       "      <td>-2.349590e-16</td>\n",
       "      <td>0.813201</td>\n",
       "      <td>1.800227</td>\n",
       "      <td>1.318580</td>\n",
       "      <td>1.764397</td>\n",
       "      <td>1.141359</td>\n",
       "      <td>-1.698350e+00</td>\n",
       "      <td>-1.374129e+00</td>\n",
       "      <td>8.309664e-01</td>\n",
       "      <td>1.252493e+00</td>\n",
       "      <td>-1.202671</td>\n",
       "      <td>-1.324734</td>\n",
       "    </tr>\n",
       "    <tr>\n",
       "      <th>1036</th>\n",
       "      <td>2.493179</td>\n",
       "      <td>1.885951</td>\n",
       "      <td>-0.694282</td>\n",
       "      <td>9.572056e-01</td>\n",
       "      <td>1.219954e+00</td>\n",
       "      <td>-0.427733</td>\n",
       "      <td>0.693755</td>\n",
       "      <td>0.141966</td>\n",
       "      <td>-0.374334</td>\n",
       "      <td>-1.018104</td>\n",
       "      <td>-9.112407e-01</td>\n",
       "      <td>-1.119283e+00</td>\n",
       "      <td>-5.108824e-01</td>\n",
       "      <td>-1.265987e+00</td>\n",
       "      <td>2.163348</td>\n",
       "      <td>2.005209</td>\n",
       "    </tr>\n",
       "    <tr>\n",
       "      <th>1037</th>\n",
       "      <td>0.202027</td>\n",
       "      <td>-0.534460</td>\n",
       "      <td>-0.694282</td>\n",
       "      <td>-4.746466e-01</td>\n",
       "      <td>-1.246438e+00</td>\n",
       "      <td>-0.892648</td>\n",
       "      <td>0.036051</td>\n",
       "      <td>-0.335474</td>\n",
       "      <td>-0.428819</td>\n",
       "      <td>0.474111</td>\n",
       "      <td>9.746950e-01</td>\n",
       "      <td>9.642436e-01</td>\n",
       "      <td>8.309664e-01</td>\n",
       "      <td>9.233732e-01</td>\n",
       "      <td>-0.023288</td>\n",
       "      <td>-0.497302</td>\n",
       "    </tr>\n",
       "    <tr>\n",
       "      <th>1038</th>\n",
       "      <td>0.249465</td>\n",
       "      <td>0.536312</td>\n",
       "      <td>-0.694282</td>\n",
       "      <td>2.756482e-16</td>\n",
       "      <td>-2.349590e-16</td>\n",
       "      <td>-0.095425</td>\n",
       "      <td>0.484930</td>\n",
       "      <td>0.141966</td>\n",
       "      <td>-0.900685</td>\n",
       "      <td>-1.069901</td>\n",
       "      <td>1.095134e+00</td>\n",
       "      <td>8.464726e-01</td>\n",
       "      <td>-1.398193e-16</td>\n",
       "      <td>-1.265987e+00</td>\n",
       "      <td>0.556452</td>\n",
       "      <td>0.678790</td>\n",
       "    </tr>\n",
       "    <tr>\n",
       "      <th>1039</th>\n",
       "      <td>0.217851</td>\n",
       "      <td>0.841468</td>\n",
       "      <td>-0.694282</td>\n",
       "      <td>4.186236e-01</td>\n",
       "      <td>1.583899e+00</td>\n",
       "      <td>-0.699185</td>\n",
       "      <td>-0.907609</td>\n",
       "      <td>-0.853444</td>\n",
       "      <td>0.075633</td>\n",
       "      <td>-0.408525</td>\n",
       "      <td>1.087384e-01</td>\n",
       "      <td>8.762356e-02</td>\n",
       "      <td>-1.640239e+00</td>\n",
       "      <td>-8.607197e-01</td>\n",
       "      <td>0.524620</td>\n",
       "      <td>0.793716</td>\n",
       "    </tr>\n",
       "  </tbody>\n",
       "</table>\n",
       "<p>1040 rows × 16 columns</p>\n",
       "</div>"
      ],
      "text/plain": [
       "       MinTemp   MaxTemp  Rainfall   Evaporation      Sunshine  WindGustSpeed  \\\n",
       "0     0.656502 -0.351342  1.810998  2.756482e-16 -2.349590e-16       1.544685   \n",
       "1     1.041761  0.451833  1.857185  3.039936e-01  1.159927e+00       0.059860   \n",
       "2    -0.507424 -0.958935 -0.694282  2.756482e-16 -2.349590e-16       1.168150   \n",
       "3     2.095096  1.537136 -0.041217  1.826794e-01 -2.183917e-01       0.208773   \n",
       "4    -1.340833  0.035211 -0.694282  2.756482e-16 -2.349590e-16      -0.892648   \n",
       "...        ...       ...       ...           ...           ...            ...   \n",
       "1035 -0.857370 -1.488528  1.688862  2.756482e-16 -2.349590e-16       0.813201   \n",
       "1036  2.493179  1.885951 -0.694282  9.572056e-01  1.219954e+00      -0.427733   \n",
       "1037  0.202027 -0.534460 -0.694282 -4.746466e-01 -1.246438e+00      -0.892648   \n",
       "1038  0.249465  0.536312 -0.694282  2.756482e-16 -2.349590e-16      -0.095425   \n",
       "1039  0.217851  0.841468 -0.694282  4.186236e-01  1.583899e+00      -0.699185   \n",
       "\n",
       "      WindSpeed9am  WindSpeed3pm  Humidity9am  Humidity3pm   Pressure9am  \\\n",
       "0         2.442634      0.256337    -0.095994     1.934305  1.226448e-01   \n",
       "1         0.794926      0.479961    -0.589850    -0.761588 -1.651764e+00   \n",
       "2         0.693755      0.479961    -1.519058    -0.508746 -4.550241e-17   \n",
       "3        -0.208219      0.141966    -0.374334     0.377551 -1.024127e+00   \n",
       "4         0.036051     -1.431486    -0.798771    -1.121876 -4.550241e-17   \n",
       "...            ...           ...          ...          ...           ...   \n",
       "1035      1.800227      1.318580     1.764397     1.141359 -1.698350e+00   \n",
       "1036      0.693755      0.141966    -0.374334    -1.018104 -9.112407e-01   \n",
       "1037      0.036051     -0.335474    -0.428819     0.474111  9.746950e-01   \n",
       "1038      0.484930      0.141966    -0.900685    -1.069901  1.095134e+00   \n",
       "1039     -0.907609     -0.853444     0.075633    -0.408525  1.087384e-01   \n",
       "\n",
       "       Pressure3pm      Cloud9am      Cloud3pm   Temp9am   Temp3pm  \n",
       "0     3.412276e-01 -1.241944e+00  1.252493e+00  0.123056 -0.872719  \n",
       "1    -1.524783e+00  8.309664e-01 -1.265987e+00  0.888287  0.563184  \n",
       "2    -7.427743e-16 -1.398193e-16 -1.584439e-16 -0.586004 -0.952249  \n",
       "3    -1.041904e+00  5.054857e-01  2.427855e-01  2.208499  1.470187  \n",
       "4    -7.427743e-16 -1.398193e-16 -1.584439e-16 -0.435408 -0.026011  \n",
       "...            ...           ...           ...       ...       ...  \n",
       "1035 -1.374129e+00  8.309664e-01  1.252493e+00 -1.202671 -1.324734  \n",
       "1036 -1.119283e+00 -5.108824e-01 -1.265987e+00  2.163348  2.005209  \n",
       "1037  9.642436e-01  8.309664e-01  9.233732e-01 -0.023288 -0.497302  \n",
       "1038  8.464726e-01 -1.398193e-16 -1.265987e+00  0.556452  0.678790  \n",
       "1039  8.762356e-02 -1.640239e+00 -8.607197e-01  0.524620  0.793716  \n",
       "\n",
       "[1040 rows x 16 columns]"
      ]
     },
     "execution_count": 22,
     "metadata": {},
     "output_type": "execute_result"
    }
   ],
   "source": [
    "x_num"
   ]
  },
  {
   "cell_type": "code",
   "execution_count": 23,
   "metadata": {},
   "outputs": [
    {
     "data": {
      "text/html": [
       "<div>\n",
       "<style scoped>\n",
       "    .dataframe tbody tr th:only-of-type {\n",
       "        vertical-align: middle;\n",
       "    }\n",
       "\n",
       "    .dataframe tbody tr th {\n",
       "        vertical-align: top;\n",
       "    }\n",
       "\n",
       "    .dataframe thead th {\n",
       "        text-align: right;\n",
       "    }\n",
       "</style>\n",
       "<table border=\"1\" class=\"dataframe\">\n",
       "  <thead>\n",
       "    <tr style=\"text-align: right;\">\n",
       "      <th></th>\n",
       "      <th>WindGustDir</th>\n",
       "      <th>WindDir9am</th>\n",
       "      <th>WindDir3pm</th>\n",
       "      <th>RainToday</th>\n",
       "    </tr>\n",
       "  </thead>\n",
       "  <tbody>\n",
       "    <tr>\n",
       "      <th>0</th>\n",
       "      <td>S</td>\n",
       "      <td>SSW</td>\n",
       "      <td>SW</td>\n",
       "      <td>Yes</td>\n",
       "    </tr>\n",
       "    <tr>\n",
       "      <th>1</th>\n",
       "      <td>WSW</td>\n",
       "      <td>SSW</td>\n",
       "      <td>WSW</td>\n",
       "      <td>Yes</td>\n",
       "    </tr>\n",
       "    <tr>\n",
       "      <th>2</th>\n",
       "      <td>WNW</td>\n",
       "      <td>WNW</td>\n",
       "      <td>WNW</td>\n",
       "      <td>No</td>\n",
       "    </tr>\n",
       "    <tr>\n",
       "      <th>3</th>\n",
       "      <td>SSE</td>\n",
       "      <td>SSE</td>\n",
       "      <td>SE</td>\n",
       "      <td>No</td>\n",
       "    </tr>\n",
       "    <tr>\n",
       "      <th>4</th>\n",
       "      <td>N</td>\n",
       "      <td>NE</td>\n",
       "      <td>W</td>\n",
       "      <td>No</td>\n",
       "    </tr>\n",
       "    <tr>\n",
       "      <th>...</th>\n",
       "      <td>...</td>\n",
       "      <td>...</td>\n",
       "      <td>...</td>\n",
       "      <td>...</td>\n",
       "    </tr>\n",
       "    <tr>\n",
       "      <th>1035</th>\n",
       "      <td>WNW</td>\n",
       "      <td>W</td>\n",
       "      <td>NW</td>\n",
       "      <td>Yes</td>\n",
       "    </tr>\n",
       "    <tr>\n",
       "      <th>1036</th>\n",
       "      <td>WNW</td>\n",
       "      <td>NNE</td>\n",
       "      <td>NNW</td>\n",
       "      <td>No</td>\n",
       "    </tr>\n",
       "    <tr>\n",
       "      <th>1037</th>\n",
       "      <td>E</td>\n",
       "      <td>ENE</td>\n",
       "      <td>NE</td>\n",
       "      <td>No</td>\n",
       "    </tr>\n",
       "    <tr>\n",
       "      <th>1038</th>\n",
       "      <td>E</td>\n",
       "      <td>E</td>\n",
       "      <td>ESE</td>\n",
       "      <td>No</td>\n",
       "    </tr>\n",
       "    <tr>\n",
       "      <th>1039</th>\n",
       "      <td>SSE</td>\n",
       "      <td>E</td>\n",
       "      <td>SE</td>\n",
       "      <td>No</td>\n",
       "    </tr>\n",
       "  </tbody>\n",
       "</table>\n",
       "<p>1040 rows × 4 columns</p>\n",
       "</div>"
      ],
      "text/plain": [
       "     WindGustDir WindDir9am WindDir3pm RainToday\n",
       "0              S        SSW         SW       Yes\n",
       "1            WSW        SSW        WSW       Yes\n",
       "2            WNW        WNW        WNW        No\n",
       "3            SSE        SSE         SE        No\n",
       "4              N         NE          W        No\n",
       "...          ...        ...        ...       ...\n",
       "1035         WNW          W         NW       Yes\n",
       "1036         WNW        NNE        NNW        No\n",
       "1037           E        ENE         NE        No\n",
       "1038           E          E        ESE        No\n",
       "1039         SSE          E         SE        No\n",
       "\n",
       "[1040 rows x 4 columns]"
      ]
     },
     "execution_count": 23,
     "metadata": {},
     "output_type": "execute_result"
    }
   ],
   "source": [
    "x_cat"
   ]
  },
  {
   "cell_type": "markdown",
   "metadata": {},
   "source": [
    "The logistic regression method fails in presence of categorical variables. To overcome this we use (n-1) dummy encoding. \n",
    "\n",
    "**Encode the each categorical variable and create (n-1) dummy variables for n categories of the variable.**"
   ]
  },
  {
   "cell_type": "code",
   "execution_count": 24,
   "metadata": {},
   "outputs": [],
   "source": [
    "from sklearn.preprocessing import OneHotEncoder\n",
    "\n",
    "enc = OneHotEncoder(sparse=False, handle_unknown='ignore')\n",
    "x_enc = enc.fit_transform(x_cat[['RainToday']])\n",
    "x_enc_df = pd.DataFrame(x_enc, columns=['RainToday_No', 'RainToday_Yes'])\n",
    "x_enc_df.drop('RainToday_No', axis=1, inplace=True)\n",
    "\n",
    "yn = pd.DataFrame(y, columns=['RainTomorrow'])\n",
    "y_enc = enc.fit_transform(yn[['RainTomorrow']])\n",
    "y_enc_df = pd.DataFrame(y_enc, columns=['RainTomorrow_No', 'RainTomorrow_Yes'])\n",
    "y_enc_df.drop('RainTomorrow_No', axis=1, inplace=True)"
   ]
  },
  {
   "cell_type": "markdown",
   "metadata": {},
   "source": [
    "<a id=\"scale\"></a>\n",
    "## 2.7 Scale the Data "
   ]
  },
  {
   "cell_type": "markdown",
   "metadata": {},
   "source": [
    "We scale the variables to get all the variables in the same range. With this, we can avoid a problem in which some features come to dominate solely because they tend to have larger values than others."
   ]
  },
  {
   "cell_type": "code",
   "execution_count": 25,
   "metadata": {},
   "outputs": [],
   "source": [
    "from sklearn.preprocessing import StandardScaler\n",
    "scaler = StandardScaler()\n",
    "x_scal=scaler.fit_transform(x_num)\n",
    "x_scale=pd.DataFrame(x_scal,columns=x_num.columns)"
   ]
  },
  {
   "cell_type": "markdown",
   "metadata": {},
   "source": [
    "#### Concatenate scaled numerical and dummy encoded categorical variables."
   ]
  },
  {
   "cell_type": "code",
   "execution_count": 26,
   "metadata": {},
   "outputs": [],
   "source": [
    "X = pd.concat([x_enc_df, x_scale], axis=1)\n",
    "Y = y_enc_df"
   ]
  },
  {
   "cell_type": "markdown",
   "metadata": {},
   "source": [
    "<a id=\"split\"></a>\n",
    "## 2.8 Train-Test Split"
   ]
  },
  {
   "cell_type": "markdown",
   "metadata": {},
   "source": [
    "Before applying various classification techniques to predict the patient having cardiovascular disease or not, let us split the dataset in train and test set."
   ]
  },
  {
   "cell_type": "code",
   "execution_count": 27,
   "metadata": {},
   "outputs": [],
   "source": [
    "x2 = sm.add_constant(X)"
   ]
  },
  {
   "cell_type": "code",
   "execution_count": 28,
   "metadata": {},
   "outputs": [
    {
     "name": "stdout",
     "output_type": "stream",
     "text": [
      "X_train shape: (832, 18)\n",
      "X_test shape: (208, 18)\n",
      "y_train shape: (832, 1)\n",
      "y_test shape: (208, 1)\n"
     ]
    }
   ],
   "source": [
    "x_train, x_test, y_train, y_test = train_test_split(x2, y_enc_df, test_size=0.2, random_state=42)\n",
    "print(\"X_train shape:\", x_train.shape)\n",
    "print(\"X_test shape:\", x_test.shape)\n",
    "print(\"y_train shape:\", y_train.shape)\n",
    "print(\"y_test shape:\", y_test.shape)"
   ]
  },
  {
   "cell_type": "markdown",
   "metadata": {},
   "source": [
    "<a id=\"logit\"></a>\n",
    "# 3. Logistic Regression (Full Model)"
   ]
  },
  {
   "cell_type": "markdown",
   "metadata": {},
   "source": [
    "#### Build a full logistic model on a training dataset."
   ]
  },
  {
   "cell_type": "code",
   "execution_count": 29,
   "metadata": {},
   "outputs": [
    {
     "name": "stdout",
     "output_type": "stream",
     "text": [
      "Optimization terminated successfully.\n",
      "         Current function value: 0.346959\n",
      "         Iterations 7\n",
      "                           Logit Regression Results                           \n",
      "==============================================================================\n",
      "Dep. Variable:       RainTomorrow_Yes   No. Observations:                  832\n",
      "Model:                          Logit   Df Residuals:                      814\n",
      "Method:                           MLE   Df Model:                           17\n",
      "Date:                Mon, 01 May 2023   Pseudo R-squ.:                  0.3317\n",
      "Time:                        12:06:11   Log-Likelihood:                -288.67\n",
      "converged:                       True   LL-Null:                       -431.92\n",
      "Covariance Type:            nonrobust   LLR p-value:                 6.831e-51\n",
      "=================================================================================\n",
      "                    coef    std err          z      P>|z|      [0.025      0.975]\n",
      "---------------------------------------------------------------------------------\n",
      "const            -1.8338      0.174    -10.550      0.000      -2.174      -1.493\n",
      "RainToday_Yes    -0.6921      0.535     -1.293      0.196      -1.741       0.357\n",
      "MinTemp          -0.3306      0.325     -1.018      0.309      -0.967       0.306\n",
      "MaxTemp          -0.3919      0.502     -0.781      0.435      -1.375       0.591\n",
      "Rainfall          0.5564      0.247      2.252      0.024       0.072       1.041\n",
      "Evaporation       0.0944      0.133      0.712      0.477      -0.166       0.354\n",
      "Sunshine         -0.1871      0.146     -1.285      0.199      -0.473       0.098\n",
      "WindGustSpeed     0.5735      0.153      3.737      0.000       0.273       0.874\n",
      "WindSpeed9am      0.1156      0.143      0.810      0.418      -0.164       0.395\n",
      "WindSpeed3pm     -0.0433      0.140     -0.310      0.757      -0.317       0.230\n",
      "Humidity9am      -0.1151      0.211     -0.546      0.585      -0.528       0.298\n",
      "Humidity3pm       1.6141      0.270      5.975      0.000       1.085       2.144\n",
      "Pressure9am       1.4595      0.459      3.180      0.001       0.560       2.359\n",
      "Pressure3pm      -1.8815      0.451     -4.170      0.000      -2.766      -0.997\n",
      "Cloud9am          0.0052      0.161      0.033      0.974      -0.310       0.321\n",
      "Cloud3pm          0.3509      0.167      2.102      0.036       0.024       0.678\n",
      "Temp9am          -0.4140      0.498     -0.832      0.406      -1.390       0.562\n",
      "Temp3pm           0.9478      0.564      1.682      0.093      -0.157       2.053\n",
      "=================================================================================\n"
     ]
    }
   ],
   "source": [
    "# build the model on train data (X_train and y_train)\n",
    "# use fit() to fit the logistic regression model\n",
    "logistic_regression_model = sm.Logit(y_train, x_train).fit()\n",
    "# print the summary of the model\n",
    "print(logistic_regression_model.summary())"
   ]
  },
  {
   "cell_type": "markdown",
   "metadata": {},
   "source": [
    "**Calculate the AIC (Akaike Information Criterion) value.**\n",
    "\n",
    "It is a relative measure of model evaluation. It gives a trade-off between model accuracy and model complexity."
   ]
  },
  {
   "cell_type": "code",
   "execution_count": 30,
   "metadata": {},
   "outputs": [
    {
     "name": "stdout",
     "output_type": "stream",
     "text": [
      "AIC: 613.3401215584756\n"
     ]
    }
   ],
   "source": [
    "# 'aic' retuns the AIC value for the model\n",
    "print('AIC:', logistic_regression_model.aic)"
   ]
  },
  {
   "cell_type": "markdown",
   "metadata": {},
   "source": [
    "We can use the AIC value to compare different models created on the same dataset."
   ]
  },
  {
   "cell_type": "markdown",
   "metadata": {},
   "source": [
    "### Interpret the odds for each variable "
   ]
  },
  {
   "cell_type": "code",
   "execution_count": 31,
   "metadata": {},
   "outputs": [
    {
     "data": {
      "text/html": [
       "<div>\n",
       "<style scoped>\n",
       "    .dataframe tbody tr th:only-of-type {\n",
       "        vertical-align: middle;\n",
       "    }\n",
       "\n",
       "    .dataframe tbody tr th {\n",
       "        vertical-align: top;\n",
       "    }\n",
       "\n",
       "    .dataframe thead th {\n",
       "        text-align: right;\n",
       "    }\n",
       "</style>\n",
       "<table border=\"1\" class=\"dataframe\">\n",
       "  <thead>\n",
       "    <tr style=\"text-align: right;\">\n",
       "      <th></th>\n",
       "      <th>Odds</th>\n",
       "    </tr>\n",
       "  </thead>\n",
       "  <tbody>\n",
       "    <tr>\n",
       "      <th>const</th>\n",
       "      <td>0.159804</td>\n",
       "    </tr>\n",
       "    <tr>\n",
       "      <th>RainToday_Yes</th>\n",
       "      <td>0.500521</td>\n",
       "    </tr>\n",
       "    <tr>\n",
       "      <th>MinTemp</th>\n",
       "      <td>0.718463</td>\n",
       "    </tr>\n",
       "    <tr>\n",
       "      <th>MaxTemp</th>\n",
       "      <td>0.675739</td>\n",
       "    </tr>\n",
       "    <tr>\n",
       "      <th>Rainfall</th>\n",
       "      <td>1.744464</td>\n",
       "    </tr>\n",
       "    <tr>\n",
       "      <th>Evaporation</th>\n",
       "      <td>1.098950</td>\n",
       "    </tr>\n",
       "    <tr>\n",
       "      <th>Sunshine</th>\n",
       "      <td>0.829352</td>\n",
       "    </tr>\n",
       "    <tr>\n",
       "      <th>WindGustSpeed</th>\n",
       "      <td>1.774425</td>\n",
       "    </tr>\n",
       "    <tr>\n",
       "      <th>WindSpeed9am</th>\n",
       "      <td>1.122541</td>\n",
       "    </tr>\n",
       "    <tr>\n",
       "      <th>WindSpeed3pm</th>\n",
       "      <td>0.957642</td>\n",
       "    </tr>\n",
       "    <tr>\n",
       "      <th>Humidity9am</th>\n",
       "      <td>0.891290</td>\n",
       "    </tr>\n",
       "    <tr>\n",
       "      <th>Humidity3pm</th>\n",
       "      <td>5.023437</td>\n",
       "    </tr>\n",
       "    <tr>\n",
       "      <th>Pressure9am</th>\n",
       "      <td>4.303856</td>\n",
       "    </tr>\n",
       "    <tr>\n",
       "      <th>Pressure3pm</th>\n",
       "      <td>0.152368</td>\n",
       "    </tr>\n",
       "    <tr>\n",
       "      <th>Cloud9am</th>\n",
       "      <td>1.005261</td>\n",
       "    </tr>\n",
       "    <tr>\n",
       "      <th>Cloud3pm</th>\n",
       "      <td>1.420325</td>\n",
       "    </tr>\n",
       "    <tr>\n",
       "      <th>Temp9am</th>\n",
       "      <td>0.661019</td>\n",
       "    </tr>\n",
       "    <tr>\n",
       "      <th>Temp3pm</th>\n",
       "      <td>2.580129</td>\n",
       "    </tr>\n",
       "  </tbody>\n",
       "</table>\n",
       "</div>"
      ],
      "text/plain": [
       "                   Odds\n",
       "const          0.159804\n",
       "RainToday_Yes  0.500521\n",
       "MinTemp        0.718463\n",
       "MaxTemp        0.675739\n",
       "Rainfall       1.744464\n",
       "Evaporation    1.098950\n",
       "Sunshine       0.829352\n",
       "WindGustSpeed  1.774425\n",
       "WindSpeed9am   1.122541\n",
       "WindSpeed3pm   0.957642\n",
       "Humidity9am    0.891290\n",
       "Humidity3pm    5.023437\n",
       "Pressure9am    4.303856\n",
       "Pressure3pm    0.152368\n",
       "Cloud9am       1.005261\n",
       "Cloud3pm       1.420325\n",
       "Temp9am        0.661019\n",
       "Temp3pm        2.580129"
      ]
     },
     "execution_count": 31,
     "metadata": {},
     "output_type": "execute_result"
    }
   ],
   "source": [
    "# take the exponential of the coefficient of a variable to calculate the odds\n",
    "# 'params' returns the coefficients of all the independent variables\n",
    "# pass the required column name to the parameter, 'columns'\n",
    "df_odds = pd.DataFrame(np.exp(logistic_regression_model.params), columns= ['Odds']) \n",
    "\n",
    "# print the dataframe\n",
    "df_odds"
   ]
  },
  {
   "cell_type": "markdown",
   "metadata": {},
   "source": [
    "**Interpretation:** \n",
    "\n",
    "Write the interpretation of How does a unit change in each feature influence the odds of a patient having a cardiocascular disease?"
   ]
  },
  {
   "cell_type": "markdown",
   "metadata": {},
   "source": [
    "odds_const: The odds of getting Rainfall tomorrow is 0.128111, considering all other variables take zero value\n",
    "\n",
    "odds_MinTemp: The odds of getting Rainfall tomorrow increase by a factor of  0.791075, due to increase in one unit of MinTemp, keeping other variable constant\n",
    "\n",
    "odds_MaxTemp: The odds of getting Rainfall tomorrow increase by a factor of  0.597228, due to increase in one unit of MaxTemp, keeping other variable constant\n",
    "\n",
    "odds_Rainfall: The odds of getting Rainfall tomorrow increase by a factor of  0.975947, due to increase in one unit of Rainfall, keeping other variable constant\n",
    "\n",
    "odds_Evoporation: The odds of getting Rainfall tomorrow increase by a factor of  1.0262, due to increase in one unit of Evoporation, keeping other variable constant\n",
    "\n",
    "odds_SunShine: The odds of getting Rainfall tomorrow increase by a factor of  0.86158, due to increase in one unit of SunShine, keeping other variable constant\n",
    "\n",
    "odds_WindGustSpeed: The odds of getting Rainfall tomorrow increase by a factor of  1.8020, due to increase in one unit of WindGustSpeed, keeping other variable constant\n",
    "\n",
    "odds_WindSpeed9am: The odds of getting Rainfall tomorrow increase by a factor of  1.085721, due to increase in one unit of WindSpeed9am, keeping other variable constant\n",
    "\n",
    "odds_WindSpeed3pm: The odds of getting Rainfall tomorrow increase by a factor of  0.952418, due to increase in one unit of WindSpeed3pm, keeping other variable constant\n",
    "\n",
    "odds_Humidity9am: The odds of getting Rainfall tomorrow increase by a factor of  0.950129, due to increase in one unit of Humidity9am, keeping other variable constant\n",
    "\n",
    "odds_Humidity9am: The odds of getting Rainfall tomorrow increase by a factor of  0.950129, due to increase in one unit of Humidity9am, keeping other variable constant"
   ]
  },
  {
   "cell_type": "markdown",
   "metadata": {},
   "source": [
    "**Do predictions on the test set.**"
   ]
  },
  {
   "cell_type": "code",
   "execution_count": 32,
   "metadata": {},
   "outputs": [
    {
     "data": {
      "text/plain": [
       "136    0.511413\n",
       "628    0.252906\n",
       "184    0.138294\n",
       "31     0.493182\n",
       "677    0.767038\n",
       "dtype: float64"
      ]
     },
     "execution_count": 32,
     "metadata": {},
     "output_type": "execute_result"
    }
   ],
   "source": [
    "# let 'y_pred_prob' be the predicted values of y\n",
    "y_pred_prob = logistic_regression_model.predict(x_test)\n",
    "\n",
    "# print the y_pred_prob\n",
    "y_pred_prob.head()"
   ]
  },
  {
   "cell_type": "markdown",
   "metadata": {},
   "source": [
    "Since the target variable can take only two values either 0 or 1. We decide the cut-off of 0.5. i.e. if 'y_pred_prob' is less than 0.5, then consider it to be 0 else consider it to be 1."
   ]
  },
  {
   "cell_type": "code",
   "execution_count": 33,
   "metadata": {},
   "outputs": [],
   "source": [
    "# convert probabilities to 0 and 1 using 'if_else'\n",
    "y_pred = [ 0 if x < 0.5 else 1 for x in y_pred_prob]"
   ]
  },
  {
   "cell_type": "code",
   "execution_count": 34,
   "metadata": {},
   "outputs": [
    {
     "data": {
      "text/plain": [
       "[1, 0, 0, 0, 1]"
      ]
     },
     "execution_count": 34,
     "metadata": {},
     "output_type": "execute_result"
    }
   ],
   "source": [
    "# print the first five observations of y_pred\n",
    "y_pred[0:5]"
   ]
  },
  {
   "cell_type": "markdown",
   "metadata": {},
   "source": [
    "#### Plot the confusion matrix."
   ]
  },
  {
   "cell_type": "code",
   "execution_count": 35,
   "metadata": {},
   "outputs": [
    {
     "data": {
      "image/png": "[encoded data removed]",
      "text/plain": [
       "<Figure size 432x288 with 1 Axes>"
      ]
     },
     "metadata": {
      "needs_background": "light"
     },
     "output_type": "display_data"
    }
   ],
   "source": [
    "# create a confusion matrix\n",
    "# pass the actual and predicted target values to the confusion_matrix()\n",
    "cm = confusion_matrix(y_test, y_pred)\n",
    "\n",
    "# label the confusion matrix  \n",
    "# pass the matrix as 'data'\n",
    "# pass the required column names to the parameter, 'columns'\n",
    "# pass the required row names to the parameter, 'index'\n",
    "conf_matrix = pd.DataFrame(data = cm,columns = ['Predicted:0','Predicted:1'], index = ['Actual:0','Actual:1'])\n",
    "\n",
    "# plot a heatmap to visualize the confusion matrix\n",
    "# 'annot' prints the value of each grid \n",
    "# 'fmt = d' returns the integer value in each grid\n",
    "# 'cmap' assigns color to each grid\n",
    "# as we do not require different colors for each grid in the heatmap,\n",
    "# use 'ListedColormap' to assign the specified color to the grid\n",
    "# 'cbar = False' will not return the color bar to the right side of the heatmap\n",
    "# 'linewidths' assigns the width to the line that divides each grid\n",
    "# 'annot_kws = {'size':25})' assigns the font size of the annotated text \n",
    "sns.heatmap(conf_matrix, annot = True, fmt = 'd', cmap = ListedColormap(['green']), cbar = False, \n",
    "            linewidths = 0.1, annot_kws = {'size':25})\n",
    "\n",
    "# set the font size of x-axis ticks using 'fontsize'\n",
    "plt.xticks(fontsize = 20)\n",
    "\n",
    "# set the font size of y-axis ticks using 'fontsize'\n",
    "plt.yticks(fontsize = 20)\n",
    "\n",
    "# display the plot\n",
    "plt.show()"
   ]
  },
  {
   "cell_type": "code",
   "execution_count": 36,
   "metadata": {},
   "outputs": [],
   "source": [
    "# True Negatives are denoted by 'TN'\n",
    "# Actual 'O' values which are classified correctly\n",
    "TN = cm[0,0]\n",
    "\n",
    "# True Positives are denoted by 'TP'\n",
    "# Actual '1' values which are classified correctly\n",
    "TP = cm[1,1]\n",
    "\n",
    "# False Positives are denoted by 'FP'\n",
    "# it is the type 1 error\n",
    "# Actual 'O' values which are classified wrongly as '1'\n",
    "FP = cm[0,1]\n",
    "\n",
    "# False Negatives are denoted by 'FN'\n",
    "# it is the type 2 error\n",
    "# Actual '1' values which are classified wrongly as '0'\n",
    "FN = cm[1,0]"
   ]
  },
  {
   "cell_type": "markdown",
   "metadata": {},
   "source": [
    "**Compute various performance metrics.**"
   ]
  },
  {
   "cell_type": "markdown",
   "metadata": {},
   "source": [
    "**Precision:** It is defined as the ratio of true positives to the total positive predictions."
   ]
  },
  {
   "cell_type": "code",
   "execution_count": 37,
   "metadata": {},
   "outputs": [
    {
     "data": {
      "text/plain": [
       "0.5666666666666667"
      ]
     },
     "execution_count": 37,
     "metadata": {},
     "output_type": "execute_result"
    }
   ],
   "source": [
    "# calculate the precision value\n",
    "precision = TP / (TP+FP)\n",
    "\n",
    "# print the value\n",
    "precision"
   ]
  },
  {
   "cell_type": "markdown",
   "metadata": {},
   "source": [
    "**Recall:** It is the ratio of true positives to the total actual positive observations. It is also known as, `Sensitivity` or `True Positive Rate`."
   ]
  },
  {
   "cell_type": "code",
   "execution_count": 38,
   "metadata": {},
   "outputs": [
    {
     "data": {
      "text/plain": [
       "0.5151515151515151"
      ]
     },
     "execution_count": 38,
     "metadata": {},
     "output_type": "execute_result"
    }
   ],
   "source": [
    "# calculate the recall value\n",
    "recall = TP / (TP+FN)\n",
    "\n",
    "# print the value\n",
    "recall"
   ]
  },
  {
   "cell_type": "markdown",
   "metadata": {},
   "source": [
    "**Specificity:** It is the ratio of true negatives to the total actual negative observations."
   ]
  },
  {
   "cell_type": "code",
   "execution_count": 39,
   "metadata": {},
   "outputs": [
    {
     "data": {
      "text/plain": [
       "0.9257142857142857"
      ]
     },
     "execution_count": 39,
     "metadata": {},
     "output_type": "execute_result"
    }
   ],
   "source": [
    "# calculate the specificity value\n",
    "specificity = TN / (TN+FP)\n",
    "\n",
    "# print the value\n",
    "specificity"
   ]
  },
  {
   "cell_type": "markdown",
   "metadata": {},
   "source": [
    "**f1-score:** It is defined as the harmonic mean of precision and recall."
   ]
  },
  {
   "cell_type": "code",
   "execution_count": 40,
   "metadata": {},
   "outputs": [
    {
     "data": {
      "text/plain": [
       "0.5396825396825397"
      ]
     },
     "execution_count": 40,
     "metadata": {},
     "output_type": "execute_result"
    }
   ],
   "source": [
    "# calculate the f1_score\n",
    "f1_score = 2*((precision*recall)/(precision+recall))\n",
    "\n",
    "# print the f1_score\n",
    "f1_score"
   ]
  },
  {
   "cell_type": "markdown",
   "metadata": {},
   "source": [
    "**Accuracy:** It is the ratio of correct predictions (i.e. TN+TP) to the total observations. According to the confusion matrix, it is the ratio of the sum of diagonal elements to the sum of all the in the matrix. It is not a very good measure if the dataset is imbalanced."
   ]
  },
  {
   "cell_type": "code",
   "execution_count": 41,
   "metadata": {},
   "outputs": [
    {
     "data": {
      "text/plain": [
       "0.8605769230769231"
      ]
     },
     "execution_count": 41,
     "metadata": {},
     "output_type": "execute_result"
    }
   ],
   "source": [
    "# calculate the accuracy\n",
    "accuracy = (TN+TP) / (TN+FP+FN+TP)\n",
    "\n",
    "# print the accuracy\n",
    "accuracy"
   ]
  },
  {
   "cell_type": "code",
   "execution_count": 42,
   "metadata": {},
   "outputs": [
    {
     "name": "stdout",
     "output_type": "stream",
     "text": [
      "              precision    recall  f1-score   support\n",
      "\n",
      "         0.0       0.91      0.93      0.92       175\n",
      "         1.0       0.57      0.52      0.54        33\n",
      "\n",
      "    accuracy                           0.86       208\n",
      "   macro avg       0.74      0.72      0.73       208\n",
      "weighted avg       0.86      0.86      0.86       208\n",
      "\n"
     ]
    }
   ],
   "source": [
    "# calculate various performance measures\n",
    "acc_table = classification_report(y_test, y_pred)\n",
    "\n",
    "# print the table\n",
    "print(acc_table)"
   ]
  },
  {
   "cell_type": "markdown",
   "metadata": {},
   "source": [
    "**Interpretation:** Write inference regarding the accuracy of the logistic regression model."
   ]
  },
  {
   "cell_type": "markdown",
   "metadata": {},
   "source": [
    "We can also calculate the above measures using the `classification_report()`"
   ]
  },
  {
   "cell_type": "markdown",
   "metadata": {},
   "source": []
  },
  {
   "cell_type": "markdown",
   "metadata": {},
   "source": [
    "**Kappa score:** It is a measure of inter-rater reliability. For logistic regression, the actual and predicted values of the target variable are the raters."
   ]
  },
  {
   "cell_type": "code",
   "execution_count": 43,
   "metadata": {},
   "outputs": [
    {
     "name": "stdout",
     "output_type": "stream",
     "text": [
      "kappa value: 0.45774901114706945\n"
     ]
    }
   ],
   "source": [
    "# compute the kappa value\n",
    "kappa = cohen_kappa_score(y_test, y_pred)\n",
    "\n",
    "# print the kappa value\n",
    "print('kappa value:',kappa)"
   ]
  },
  {
   "cell_type": "markdown",
   "metadata": {},
   "source": [
    "**Interpretation:** As the kappa score for the full model (with cut-off probability 0.5) is 0.4696, we can say that there is substantial agreement between the actual and predicted values."
   ]
  },
  {
   "cell_type": "markdown",
   "metadata": {},
   "source": [
    "#### Plot the ROC curve.\n",
    "\n",
    "ROC curve is plotted with the true positive rate (tpr) on the y-axis and false positive rate (fpr) on the x-axis. The area under this curve is used as a measure of separability of the model."
   ]
  },
  {
   "cell_type": "code",
   "execution_count": 44,
   "metadata": {},
   "outputs": [
    {
     "data": {
      "image/png": "[encoded data removed]",
      "text/plain": [
       "<Figure size 432x288 with 1 Axes>"
      ]
     },
     "metadata": {
      "needs_background": "light"
     },
     "output_type": "display_data"
    }
   ],
   "source": [
    "# import required libraries\n",
    "from sklearn.metrics import roc_curve, roc_auc_score\n",
    "import matplotlib.pyplot as plt\n",
    "\n",
    "# calculate the false positive rate, true positive rate, and threshold\n",
    "fpr, tpr, thresholds = roc_curve(y_test, y_pred_prob)\n",
    "\n",
    "# calculate the AUC score\n",
    "auc_score = roc_auc_score(y_test, y_pred_prob)\n",
    "\n",
    "# plot the ROC curve\n",
    "plt.plot(fpr, tpr, label='ROC Curve (area = %0.2f)' % auc_score)\n",
    "\n",
    "# plot the diagonal line representing the baseline model\n",
    "plt.plot([0, 1], [0, 1], 'k--', label='Baseline Model')\n",
    "\n",
    "# set the x and y axis limits\n",
    "plt.xlim([0.0, 1.0])\n",
    "plt.ylim([0.0, 1.05])\n",
    "\n",
    "# set the labels and title\n",
    "plt.xlabel('False Positive Rate')\n",
    "plt.ylabel('True Positive Rate')\n",
    "plt.title('Receiver Operating Characteristic (ROC) Curve')\n",
    "\n",
    "# add the legend\n",
    "plt.legend(loc=\"lower right\")\n",
    "\n",
    "# display the plot\n",
    "plt.show()"
   ]
  },
  {
   "cell_type": "markdown",
   "metadata": {},
   "source": [
    "**Interpretation:** The red dotted line represents the ROC curve of a purely random classifier; a good classifier stays as far away from that line as possible (toward the top-left corner).\n",
    "From the above plot, we can see that our classifier (logistic regression) is away from the dotted line; with the AUC score 0.8473."
   ]
  },
  {
   "cell_type": "markdown",
   "metadata": {},
   "source": [
    "<a id=\"cut_off\"></a>\n",
    "## 3.1 Identify the Best Cut-off Value"
   ]
  },
  {
   "cell_type": "markdown",
   "metadata": {},
   "source": []
  },
  {
   "cell_type": "code",
   "execution_count": 45,
   "metadata": {},
   "outputs": [],
   "source": [
    "# create an empty dataframe to store the scores for various algorithms\n",
    "score_card = pd.DataFrame(columns=['Probability Cutoff', 'AUC Score', 'Precision Score', 'Recall Score',\n",
    "                                       'Accuracy Score', 'Kappa Score', 'f1-score'])\n",
    "\n",
    "# append the result table for all performance scores\n",
    "# performance measures considered for model comparision are 'AUC Score', 'Precision Score', 'Recall Score','Accuracy Score',\n",
    "# 'Kappa Score', and 'f1-score'\n",
    "# compile the required information in a user defined function \n",
    "def update_score_card(model, cutoff):\n",
    "    \n",
    "    # let 'y_pred_prob' be the predicted values of y\n",
    "    y_pred_prob = logistic_regression_model.predict(x_test)\n",
    "\n",
    "    # convert probabilities to 0 and 1 using 'if_else'\n",
    "    y_pred = [ 0 if x < cutoff else 1 for x in y_pred_prob]\n",
    "    \n",
    "    # assign 'score_card' as global variable\n",
    "    global score_card\n",
    "\n",
    "    # append the results to the dataframe 'score_card'\n",
    "    # 'ignore_index = True' do not consider the index labels\n",
    "    score_card = score_card.append({'Probability Cutoff': cutoff,\n",
    "                                    'AUC Score' : metrics.roc_auc_score(y_test, y_pred),\n",
    "                                    'Precision Score': metrics.precision_score(y_test, y_pred),\n",
    "                                    'Recall Score': metrics.recall_score(y_test, y_pred),\n",
    "                                    'Accuracy Score': metrics.accuracy_score(y_test, y_pred),\n",
    "                                    'Kappa Score':metrics.cohen_kappa_score(y_test, y_pred),\n",
    "                                    'f1-score': metrics.f1_score(y_test, y_pred)}, \n",
    "                                    ignore_index = True)"
   ]
  },
  {
   "cell_type": "code",
   "execution_count": 46,
   "metadata": {},
   "outputs": [],
   "source": [
    "# consider a list of values for cut-off\n",
    "cutoff = [0.1, 0.2, 0.3, 0.4, 0.5, 0.6, 0.7, 0.8, 0.9]\n",
    "\n",
    "# use the for loop to compute performance measures for each value of the cut-off\n",
    "# call the update_score_card() to update the score card for each cut-off\n",
    "# pass the model and cut-off value to the function\n",
    "for value in cutoff:\n",
    "    update_score_card(logistic_regression_model, value)"
   ]
  },
  {
   "cell_type": "code",
   "execution_count": 47,
   "metadata": {},
   "outputs": [
    {
     "name": "stdout",
     "output_type": "stream",
     "text": [
      "Score Card for Logistic regression:\n"
     ]
    },
    {
     "data": {
      "text/html": [
       "<style type=\"text/css\">\n",
       "#T_74d75_row0_col1, #T_74d75_row5_col4, #T_74d75_row5_col5, #T_74d75_row5_col6 {\n",
       "  background-color: lightblue;\n",
       "}\n",
       "</style>\n",
       "<table id=\"T_74d75\">\n",
       "  <thead>\n",
       "    <tr>\n",
       "      <th class=\"blank level0\" >&nbsp;</th>\n",
       "      <th id=\"T_74d75_level0_col0\" class=\"col_heading level0 col0\" >Probability Cutoff</th>\n",
       "      <th id=\"T_74d75_level0_col1\" class=\"col_heading level0 col1\" >AUC Score</th>\n",
       "      <th id=\"T_74d75_level0_col2\" class=\"col_heading level0 col2\" >Precision Score</th>\n",
       "      <th id=\"T_74d75_level0_col3\" class=\"col_heading level0 col3\" >Recall Score</th>\n",
       "      <th id=\"T_74d75_level0_col4\" class=\"col_heading level0 col4\" >Accuracy Score</th>\n",
       "      <th id=\"T_74d75_level0_col5\" class=\"col_heading level0 col5\" >Kappa Score</th>\n",
       "      <th id=\"T_74d75_level0_col6\" class=\"col_heading level0 col6\" >f1-score</th>\n",
       "    </tr>\n",
       "  </thead>\n",
       "  <tbody>\n",
       "    <tr>\n",
       "      <th id=\"T_74d75_level0_row0\" class=\"row_heading level0 row0\" >0</th>\n",
       "      <td id=\"T_74d75_row0_col0\" class=\"data row0 col0\" >0.100000</td>\n",
       "      <td id=\"T_74d75_row0_col1\" class=\"data row0 col1\" >0.786840</td>\n",
       "      <td id=\"T_74d75_row0_col2\" class=\"data row0 col2\" >0.326316</td>\n",
       "      <td id=\"T_74d75_row0_col3\" class=\"data row0 col3\" >0.939394</td>\n",
       "      <td id=\"T_74d75_row0_col4\" class=\"data row0 col4\" >0.682692</td>\n",
       "      <td id=\"T_74d75_row0_col5\" class=\"data row0 col5\" >0.325538</td>\n",
       "      <td id=\"T_74d75_row0_col6\" class=\"data row0 col6\" >0.484375</td>\n",
       "    </tr>\n",
       "    <tr>\n",
       "      <th id=\"T_74d75_level0_row1\" class=\"row_heading level0 row1\" >1</th>\n",
       "      <td id=\"T_74d75_row1_col0\" class=\"data row1 col0\" >0.200000</td>\n",
       "      <td id=\"T_74d75_row1_col1\" class=\"data row1 col1\" >0.719913</td>\n",
       "      <td id=\"T_74d75_row1_col2\" class=\"data row1 col2\" >0.338235</td>\n",
       "      <td id=\"T_74d75_row1_col3\" class=\"data row1 col3\" >0.696970</td>\n",
       "      <td id=\"T_74d75_row1_col4\" class=\"data row1 col4\" >0.735577</td>\n",
       "      <td id=\"T_74d75_row1_col5\" class=\"data row1 col5\" >0.307506</td>\n",
       "      <td id=\"T_74d75_row1_col6\" class=\"data row1 col6\" >0.455446</td>\n",
       "    </tr>\n",
       "    <tr>\n",
       "      <th id=\"T_74d75_level0_row2\" class=\"row_heading level0 row2\" >2</th>\n",
       "      <td id=\"T_74d75_row2_col0\" class=\"data row2 col0\" >0.300000</td>\n",
       "      <td id=\"T_74d75_row2_col1\" class=\"data row2 col1\" >0.728745</td>\n",
       "      <td id=\"T_74d75_row2_col2\" class=\"data row2 col2\" >0.434783</td>\n",
       "      <td id=\"T_74d75_row2_col3\" class=\"data row2 col3\" >0.606061</td>\n",
       "      <td id=\"T_74d75_row2_col4\" class=\"data row2 col4\" >0.812500</td>\n",
       "      <td id=\"T_74d75_row2_col5\" class=\"data row2 col5\" >0.394446</td>\n",
       "      <td id=\"T_74d75_row2_col6\" class=\"data row2 col6\" >0.506329</td>\n",
       "    </tr>\n",
       "    <tr>\n",
       "      <th id=\"T_74d75_level0_row3\" class=\"row_heading level0 row3\" >3</th>\n",
       "      <td id=\"T_74d75_row3_col0\" class=\"data row3 col0\" >0.400000</td>\n",
       "      <td id=\"T_74d75_row3_col1\" class=\"data row3 col1\" >0.709870</td>\n",
       "      <td id=\"T_74d75_row3_col2\" class=\"data row3 col2\" >0.450000</td>\n",
       "      <td id=\"T_74d75_row3_col3\" class=\"data row3 col3\" >0.545455</td>\n",
       "      <td id=\"T_74d75_row3_col4\" class=\"data row3 col4\" >0.822115</td>\n",
       "      <td id=\"T_74d75_row3_col5\" class=\"data row3 col5\" >0.386480</td>\n",
       "      <td id=\"T_74d75_row3_col6\" class=\"data row3 col6\" >0.493151</td>\n",
       "    </tr>\n",
       "    <tr>\n",
       "      <th id=\"T_74d75_level0_row4\" class=\"row_heading level0 row4\" >4</th>\n",
       "      <td id=\"T_74d75_row4_col0\" class=\"data row4 col0\" >0.500000</td>\n",
       "      <td id=\"T_74d75_row4_col1\" class=\"data row4 col1\" >0.720433</td>\n",
       "      <td id=\"T_74d75_row4_col2\" class=\"data row4 col2\" >0.566667</td>\n",
       "      <td id=\"T_74d75_row4_col3\" class=\"data row4 col3\" >0.515152</td>\n",
       "      <td id=\"T_74d75_row4_col4\" class=\"data row4 col4\" >0.860577</td>\n",
       "      <td id=\"T_74d75_row4_col5\" class=\"data row4 col5\" >0.457749</td>\n",
       "      <td id=\"T_74d75_row4_col6\" class=\"data row4 col6\" >0.539683</td>\n",
       "    </tr>\n",
       "    <tr>\n",
       "      <th id=\"T_74d75_level0_row5\" class=\"row_heading level0 row5\" >5</th>\n",
       "      <td id=\"T_74d75_row5_col0\" class=\"data row5 col0\" >0.600000</td>\n",
       "      <td id=\"T_74d75_row5_col1\" class=\"data row5 col1\" >0.712987</td>\n",
       "      <td id=\"T_74d75_row5_col2\" class=\"data row5 col2\" >0.750000</td>\n",
       "      <td id=\"T_74d75_row5_col3\" class=\"data row5 col3\" >0.454545</td>\n",
       "      <td id=\"T_74d75_row5_col4\" class=\"data row5 col4\" >0.889423</td>\n",
       "      <td id=\"T_74d75_row5_col5\" class=\"data row5 col5\" >0.507007</td>\n",
       "      <td id=\"T_74d75_row5_col6\" class=\"data row5 col6\" >0.566038</td>\n",
       "    </tr>\n",
       "    <tr>\n",
       "      <th id=\"T_74d75_level0_row6\" class=\"row_heading level0 row6\" >6</th>\n",
       "      <td id=\"T_74d75_row6_col0\" class=\"data row6 col0\" >0.700000</td>\n",
       "      <td id=\"T_74d75_row6_col1\" class=\"data row6 col1\" >0.642944</td>\n",
       "      <td id=\"T_74d75_row6_col2\" class=\"data row6 col2\" >0.769231</td>\n",
       "      <td id=\"T_74d75_row6_col3\" class=\"data row6 col3\" >0.303030</td>\n",
       "      <td id=\"T_74d75_row6_col4\" class=\"data row6 col4\" >0.875000</td>\n",
       "      <td id=\"T_74d75_row6_col5\" class=\"data row6 col5\" >0.379104</td>\n",
       "      <td id=\"T_74d75_row6_col6\" class=\"data row6 col6\" >0.434783</td>\n",
       "    </tr>\n",
       "    <tr>\n",
       "      <th id=\"T_74d75_level0_row7\" class=\"row_heading level0 row7\" >7</th>\n",
       "      <td id=\"T_74d75_row7_col0\" class=\"data row7 col0\" >0.800000</td>\n",
       "      <td id=\"T_74d75_row7_col1\" class=\"data row7 col1\" >0.585195</td>\n",
       "      <td id=\"T_74d75_row7_col2\" class=\"data row7 col2\" >0.750000</td>\n",
       "      <td id=\"T_74d75_row7_col3\" class=\"data row7 col3\" >0.181818</td>\n",
       "      <td id=\"T_74d75_row7_col4\" class=\"data row7 col4\" >0.860577</td>\n",
       "      <td id=\"T_74d75_row7_col5\" class=\"data row7 col5\" >0.246000</td>\n",
       "      <td id=\"T_74d75_row7_col6\" class=\"data row7 col6\" >0.292683</td>\n",
       "    </tr>\n",
       "    <tr>\n",
       "      <th id=\"T_74d75_level0_row8\" class=\"row_heading level0 row8\" >8</th>\n",
       "      <td id=\"T_74d75_row8_col0\" class=\"data row8 col0\" >0.900000</td>\n",
       "      <td id=\"T_74d75_row8_col1\" class=\"data row8 col1\" >0.545455</td>\n",
       "      <td id=\"T_74d75_row8_col2\" class=\"data row8 col2\" >1.000000</td>\n",
       "      <td id=\"T_74d75_row8_col3\" class=\"data row8 col3\" >0.090909</td>\n",
       "      <td id=\"T_74d75_row8_col4\" class=\"data row8 col4\" >0.855769</td>\n",
       "      <td id=\"T_74d75_row8_col5\" class=\"data row8 col5\" >0.144033</td>\n",
       "      <td id=\"T_74d75_row8_col6\" class=\"data row8 col6\" >0.166667</td>\n",
       "    </tr>\n",
       "  </tbody>\n",
       "</table>\n"
      ],
      "text/plain": [
       "<pandas.io.formats.style.Styler at 0x210d853ec40>"
      ]
     },
     "execution_count": 47,
     "metadata": {},
     "output_type": "execute_result"
    }
   ],
   "source": [
    "# print the score card \n",
    "print('Score Card for Logistic regression:')\n",
    "\n",
    "# sort the dataframe based on the probability cut-off values ascending order\n",
    "# 'reset_index' resets the index of the dataframe\n",
    "# 'drop = True' drops the previous index\n",
    "score_card = score_card.sort_values('Probability Cutoff').reset_index(drop = True)\n",
    "\n",
    "# color the cell in the columns 'AUC Score', 'Accuracy Score', 'Kappa Score', 'f1-score' having maximum values\n",
    "# 'style.highlight_max' assigns color to the maximum value\n",
    "# pass specified color to the parameter, 'color'\n",
    "# pass the data to limit the color assignment to the parameter, 'subset' \n",
    "score_card.style.highlight_max(color = 'lightblue', subset = ['AUC Score', 'Accuracy Score', 'Kappa Score', 'f1-score'])"
   ]
  },
  {
   "cell_type": "markdown",
   "metadata": {},
   "source": [
    "<a id=\"youden\"></a>\n",
    "### 3.1.1 Youden's Index"
   ]
  },
  {
   "cell_type": "code",
   "execution_count": 48,
   "metadata": {},
   "outputs": [
    {
     "data": {
      "text/html": [
       "<div>\n",
       "<style scoped>\n",
       "    .dataframe tbody tr th:only-of-type {\n",
       "        vertical-align: middle;\n",
       "    }\n",
       "\n",
       "    .dataframe tbody tr th {\n",
       "        vertical-align: top;\n",
       "    }\n",
       "\n",
       "    .dataframe thead th {\n",
       "        text-align: right;\n",
       "    }\n",
       "</style>\n",
       "<table border=\"1\" class=\"dataframe\">\n",
       "  <thead>\n",
       "    <tr style=\"text-align: right;\">\n",
       "      <th></th>\n",
       "      <th>TPR</th>\n",
       "      <th>FPR</th>\n",
       "      <th>Threshold</th>\n",
       "      <th>Difference</th>\n",
       "    </tr>\n",
       "  </thead>\n",
       "  <tbody>\n",
       "    <tr>\n",
       "      <th>0</th>\n",
       "      <td>0.939394</td>\n",
       "      <td>0.360000</td>\n",
       "      <td>0.102598</td>\n",
       "      <td>0.579394</td>\n",
       "    </tr>\n",
       "    <tr>\n",
       "      <th>1</th>\n",
       "      <td>0.878788</td>\n",
       "      <td>0.354286</td>\n",
       "      <td>0.108219</td>\n",
       "      <td>0.524502</td>\n",
       "    </tr>\n",
       "    <tr>\n",
       "      <th>2</th>\n",
       "      <td>0.878788</td>\n",
       "      <td>0.360000</td>\n",
       "      <td>0.106266</td>\n",
       "      <td>0.518788</td>\n",
       "    </tr>\n",
       "    <tr>\n",
       "      <th>3</th>\n",
       "      <td>0.848485</td>\n",
       "      <td>0.342857</td>\n",
       "      <td>0.127068</td>\n",
       "      <td>0.505628</td>\n",
       "    </tr>\n",
       "    <tr>\n",
       "      <th>4</th>\n",
       "      <td>0.666667</td>\n",
       "      <td>0.165714</td>\n",
       "      <td>0.265667</td>\n",
       "      <td>0.500952</td>\n",
       "    </tr>\n",
       "  </tbody>\n",
       "</table>\n",
       "</div>"
      ],
      "text/plain": [
       "        TPR       FPR  Threshold  Difference\n",
       "0  0.939394  0.360000   0.102598    0.579394\n",
       "1  0.878788  0.354286   0.108219    0.524502\n",
       "2  0.878788  0.360000   0.106266    0.518788\n",
       "3  0.848485  0.342857   0.127068    0.505628\n",
       "4  0.666667  0.165714   0.265667    0.500952"
      ]
     },
     "execution_count": 48,
     "metadata": {},
     "output_type": "execute_result"
    }
   ],
   "source": [
    "# create a dataframe to store the values for false positive rate, true positive rate and threshold\n",
    "youdens_table = pd.DataFrame({'TPR': tpr,\n",
    "                             'FPR': fpr,\n",
    "                             'Threshold': thresholds})\n",
    "\n",
    "# calculate the difference between TPR and FPR for each threshold and store the values in a new column 'Difference'\n",
    "youdens_table['Difference'] = youdens_table.TPR - youdens_table.FPR\n",
    "\n",
    "# sort the dataframe based on the values of difference \n",
    "# 'ascending = False' sorts the data in descending order\n",
    "# 'reset_index' resets the index of the dataframe\n",
    "# 'drop = True' drops the previous index\n",
    "youdens_table = youdens_table.sort_values('Difference', ascending = False).reset_index(drop = True)\n",
    "\n",
    "# print the first five observations\n",
    "youdens_table.head()"
   ]
  },
  {
   "cell_type": "markdown",
   "metadata": {},
   "source": [
    "We can able to see the Optimal Threshold value is 0.31, Let us consider the same for further computation"
   ]
  },
  {
   "cell_type": "markdown",
   "metadata": {},
   "source": [
    "#### Plot the confusion matrix, with the optimal threshold computed using Youden's index method."
   ]
  },
  {
   "cell_type": "code",
   "execution_count": 49,
   "metadata": {},
   "outputs": [],
   "source": [
    "# convert probabilities to 0 and 1 using 'if_else'\n",
    "y_pred_youden = [ 0 if x < 0.31 else 1 for x in y_pred_prob]"
   ]
  },
  {
   "cell_type": "code",
   "execution_count": 50,
   "metadata": {},
   "outputs": [
    {
     "data": {
      "image/png": "[encoded data removed]",
      "text/plain": [
       "<Figure size 432x288 with 1 Axes>"
      ]
     },
     "metadata": {
      "needs_background": "light"
     },
     "output_type": "display_data"
    }
   ],
   "source": [
    "# create a confusion matrix\n",
    "# pass the actual and predicted target values to the confusion_matrix()\n",
    "cm = confusion_matrix(y_test, y_pred_youden)\n",
    "\n",
    "# label the confusion matrix  \n",
    "# pass the matrix as 'data'\n",
    "# pass the required column names to the parameter, 'columns'\n",
    "# pass the required row names to the parameter, 'index'\n",
    "conf_matrix = pd.DataFrame(data = cm,columns = ['Predicted:0','Predicted:1'], index = ['Actual:0','Actual:1'])\n",
    "\n",
    "# plot a heatmap to visualize the confusion matrix\n",
    "# 'annot' prints the value of each grid \n",
    "# 'fmt = d' returns the integer value in each grid\n",
    "# 'cmap' assigns color to each grid\n",
    "# as we do not require different colors for each grid in the heatmap,\n",
    "# use 'ListedColormap' to assign the specified color to the grid\n",
    "# 'cbar = False' will not return the color bar to the right side of the heatmap\n",
    "# 'linewidths' assigns the width to the line that divides each grid\n",
    "# 'annot_kws = {'size':25})' assigns the font size of the annotated text \n",
    "sns.heatmap(conf_matrix, annot = True, fmt = 'd', cmap = ListedColormap(['green']), cbar = False, \n",
    "            linewidths = 0.1, annot_kws = {'size':25})\n",
    "\n",
    "# set the font size of x-axis ticks using 'fontsize'\n",
    "plt.xticks(fontsize = 20)\n",
    "\n",
    "# set the font size of y-axis ticks using 'fontsize'\n",
    "plt.yticks(fontsize = 20)\n",
    "\n",
    "# display the plot\n",
    "plt.show()"
   ]
  },
  {
   "cell_type": "markdown",
   "metadata": {},
   "source": [
    "**Compute various performance metrics using classification report.**"
   ]
  },
  {
   "cell_type": "code",
   "execution_count": 51,
   "metadata": {},
   "outputs": [
    {
     "name": "stdout",
     "output_type": "stream",
     "text": [
      "              precision    recall  f1-score   support\n",
      "\n",
      "         0.0       0.92      0.85      0.88       175\n",
      "         1.0       0.43      0.61      0.51        33\n",
      "\n",
      "    accuracy                           0.81       208\n",
      "   macro avg       0.68      0.73      0.70       208\n",
      "weighted avg       0.84      0.81      0.82       208\n",
      "\n"
     ]
    }
   ],
   "source": [
    "# calculate various performance measures\n",
    "acc_table = classification_report(y_test, y_pred_youden)\n",
    "\n",
    "# print the table\n",
    "print(acc_table)"
   ]
  },
  {
   "cell_type": "code",
   "execution_count": 52,
   "metadata": {},
   "outputs": [
    {
     "name": "stdout",
     "output_type": "stream",
     "text": [
      "kappa value: 0.3944461033144223\n"
     ]
    }
   ],
   "source": [
    "# compute the kappa value\n",
    "kappa = cohen_kappa_score(y_test, y_pred_youden)\n",
    "\n",
    "# print the kappa value\n",
    "print('kappa value:',kappa)"
   ]
  },
  {
   "cell_type": "markdown",
   "metadata": {},
   "source": [
    "**Interpretation:** From the above output, write your inference."
   ]
  }
 ],
 "metadata": {
  "kernelspec": {
   "display_name": "Python 3 (ipykernel)",
   "language": "python",
   "name": "python3"
  },
  "language_info": {
   "codemirror_mode": {
    "name": "ipython",
    "version": 3
   },
   "file_extension": ".py",
   "mimetype": "text/x-python",
   "name": "python",
   "nbconvert_exporter": "python",
   "pygments_lexer": "ipython3",
   "version": "3.9.12"
  }
 },
 "nbformat": 4,
 "nbformat_minor": 2
}
