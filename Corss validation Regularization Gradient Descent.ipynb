{
 "cells": [
  {
   "cell_type": "markdown",
   "metadata": {
    "colab_type": "text",
    "id": "ejk-L1wueLE6"
   },
   "source": [
    "## Problem Statement\n",
    "\n",
    "Indian Premier League (IPL) is a league for Twenty20 (T20) cricket championships started in India. The auction price of the player depends on his performance in test matches or one-day internationals. The primary skill of the player also contributes to the auction price. We use different regression techniques to predict the auction price of the player."
   ]
  },
  {
   "cell_type": "markdown",
   "metadata": {
    "colab_type": "text",
    "id": "qcKPJa8YeLE7"
   },
   "source": [
    "## About the dataset (IPL Auction data)\n",
    "\n",
    "**PLAYER NAME**: Name of the player<br>\n",
    "**AGE**: The age of the player is classified into three categories. Category 1 means the player is less than 25 years old. Category 2 means the player is between 25 and 35 years and Category 3 means the player has aged more than 35.<br>\n",
    "**COUNTRY**: Country of the player<br>\n",
    "**PLAYING ROLE**: Player's primary skill<br>\n",
    "**T-RUNS**: Total runs scored in the test matches<br>\n",
    "**T-WKTS**: Total wickets taken in the test matches<br>\n",
    "**ODI-RUNS-S**: Runs scored in One Day Internationals<br>\n",
    "**ODI-SR-B**: Batting strike rate in One Day Internationals<br>\n",
    "**ODI-WKTS**: Wickets taken in One Day Internationals<br>\n",
    "**ODI-SR-BL**: Bowling strike rate in One Day Internationals<br>\n",
    "**CAPTAINCY EXP**: Captained a team or not<br>\n",
    "**RUNS-S**: Number of runs scored by a player<br>\n",
    "**HS**: Highest score by a batsman in IPL<br>\n",
    "**AVE**: Average runs scored by a batsman in IPL<br>\n",
    "**SR-B**: Batting strike rate (ratio of the number of runs scored to the number of basses faced) in IPL.<br>\n",
    "**SIXERS**: Number of six runs scored by a player in IPL.<br>\n",
    "**RUNS-C**: Number of runs conceded by a player<br>\n",
    "**WKTS**: Number of wickets were taken by a player in IPL.<br>\n",
    "**AVE-BL**: Bowling average (number of runs conceded / number of wickets taken) in IPL.<br>\n",
    "**ECON**: Economy rate of a bowler in IPL (number of runs conceded by the bowler per over).<br>\n",
    "**SR-BL**: Bowling strike rate (ratio of the number of balls bowled to the number of wickets taken) in IPL.<br>\n",
    "**SOLD PRICE**: Auction price of the player (Target Variable)<br>"
   ]
  },
  {
   "cell_type": "markdown",
   "metadata": {
    "colab_type": "text",
    "id": "AfzalB2HeLE7"
   },
   "source": [
    "## Table of Content\n",
    "\n",
    "1. **[Import Libraries](#lib)**\n",
    "2. **[Data Preparation](#prep)**\n",
    "    - 2.1 - **[Read the Data](#read)**\n",
    "    - 2.2 - **[Check the Data Type](#dtype)**\n",
    "    - 2.3 - **[Remove Insignificant Variables](#drop)**\n",
    "    - 2.4 - **[Missing Value Treatment](#null)**\n",
    "    - 2.5 - **[Dummy Encode the Categorical Variables](#dummy)**\n",
    "    - 2.6 - **[Scale the Data](#scale)**\n",
    "    - 2.7 - **[Train-Test Split](#split)**\n",
    "3. **[Multiple Linear Regression (OLS)](#linreg)**\n",
    "4. **[Cross-Validation (CV)](#cv)**\n",
    "\t- 4.1 - **[k-Fold CV](#kfold)**\n",
    "    - 4.2 - **[Leave One Out Cross Validation (LOOCV)](#loocv)**    \n",
    "5. **[Gradient Descent](#GD)**\n",
    "    - 5.1 - **[Stochastic Gradient Descent (SGD)](#SGD)**\n",
    "6. **[Regularization](#regu)**\n",
    "    - 6.1 - **[Ridge Regression](#ridge)**\n",
    "    - 6.2 - **[Lasso Regression](#lasso)**\n",
    "    - 6.3 - **[Elastic Net Regression](#elastic)**\n",
    "7. **[GridSearchCV](#GScv)**"
   ]
  },
  {
   "cell_type": "markdown",
   "metadata": {
    "colab_type": "text",
    "id": "l6Sj_e7aeLE8"
   },
   "source": [
    "<a id=\"lib\"></a>\n",
    "# 1. Import Libraries"
   ]
  },
  {
   "cell_type": "markdown",
   "metadata": {
    "colab_type": "text",
    "id": "XqwPIHjbeLE8"
   },
   "source": [
    "**Let us import the required libraries.**"
   ]
  },
  {
   "cell_type": "code",
   "execution_count": 52,
   "metadata": {
    "colab": {},
    "colab_type": "code",
    "executionInfo": {
     "elapsed": 1486,
     "status": "ok",
     "timestamp": 1598880406265,
     "user": {
      "displayName": "Sutithi Chakraborty",
      "photoUrl": "",
      "userId": "12749148906436566424"
     },
     "user_tz": -330
    },
    "id": "BSo6J2qHeLE9"
   },
   "outputs": [],
   "source": [
    "# import 'Numpy' \n",
    "import numpy as np\n",
    "\n",
    "# import 'Pandas' \n",
    "import pandas as pd\n",
    "\n",
    "# import subpackage of Matplotlib\n",
    "import matplotlib.pyplot as plt\n",
    "\n",
    "# import 'Seaborn' \n",
    "import seaborn as sns\n",
    "\n",
    "# to suppress warnings \n",
    "from warnings import filterwarnings\n",
    "filterwarnings('ignore')\n",
    "\n",
    "# display all columns of the dataframe\n",
    "pd.options.display.max_columns = None\n",
    "\n",
    "# display all rows of the dataframe\n",
    "pd.options.display.max_rows = None\n",
    " \n",
    "# to display the float values upto 6 decimal places     \n",
    "pd.options.display.float_format = '{:.6f}'.format\n",
    "\n",
    "# import train-test split \n",
    "from sklearn.model_selection import train_test_split\n",
    "\n",
    "# import various functions from statsmodels\n",
    "import statsmodels\n",
    "import statsmodels.api as sm\n",
    "\n",
    "# import 'stats'\n",
    "from scipy import stats\n",
    "\n",
    "# 'metrics' from sklearn is used for evaluating the model performance\n",
    "from sklearn.metrics import mean_squared_error\n",
    "from sklearn.metrics import mean_absolute_error\n",
    "\n",
    "\n",
    "# import function to perform linear regression\n",
    "from sklearn.linear_model import LinearRegression\n",
    "\n",
    "# import StandardScaler to perform scaling\n",
    "from sklearn.preprocessing import StandardScaler \n",
    "\n",
    "# import SGDRegressor from sklearn to perform linear regression with stochastic gradient descent\n",
    "from sklearn.linear_model import SGDRegressor\n",
    "\n",
    "# import function for ridge regression\n",
    "from sklearn.linear_model import Ridge\n",
    "\n",
    "# import function for lasso regression\n",
    "from sklearn.linear_model import Lasso\n",
    "\n",
    "# import function for elastic net regression\n",
    "from sklearn.linear_model import ElasticNet\n",
    "\n",
    "# import function to perform GridSearchCV\n",
    "from sklearn.model_selection import GridSearchCV\n",
    "\n",
    "# import functions to perform cross validation\n",
    "from sklearn.model_selection import LeaveOneOut\n",
    "from sklearn.model_selection import cross_val_score\n",
    "from sklearn.model_selection import KFold"
   ]
  },
  {
   "cell_type": "code",
   "execution_count": 53,
   "metadata": {
    "colab": {},
    "colab_type": "code",
    "executionInfo": {
     "elapsed": 1374,
     "status": "ok",
     "timestamp": 1598880411661,
     "user": {
      "displayName": "Sutithi Chakraborty",
      "photoUrl": "",
      "userId": "12749148906436566424"
     },
     "user_tz": -330
    },
    "id": "i_ELmHrneLFB"
   },
   "outputs": [],
   "source": [
    "# set the plot size using 'rcParams'\n",
    "# once the plot size is set using 'rcParams', it sets the size of all the forthcoming plots in the file\n",
    "# pass width and height in inches to 'figure.figsize' \n",
    "plt.rcParams['figure.figsize'] = [15,8]"
   ]
  },
  {
   "cell_type": "markdown",
   "metadata": {
    "colab_type": "text",
    "id": "bHeDNryeeLFD"
   },
   "source": [
    "<a id=\"prep\"></a>\n",
    "# 2. Data Preparation"
   ]
  },
  {
   "cell_type": "markdown",
   "metadata": {
    "colab_type": "text",
    "id": "_o9G54YNeLFE"
   },
   "source": [
    "<a id=\"read\"></a>\n",
    "## 2.1 Read the Data"
   ]
  },
  {
   "cell_type": "markdown",
   "metadata": {
    "colab_type": "text",
    "id": "UqXY_QbZeLFE"
   },
   "source": [
    "#### Read the dataset and print the first five observations."
   ]
  },
  {
   "cell_type": "code",
   "execution_count": 54,
   "metadata": {
    "colab": {
     "base_uri": "https://localhost:8080/",
     "height": 316
    },
    "colab_type": "code",
    "executionInfo": {
     "elapsed": 1098,
     "status": "ok",
     "timestamp": 1598880414291,
     "user": {
      "displayName": "Sutithi Chakraborty",
      "photoUrl": "",
      "userId": "12749148906436566424"
     },
     "user_tz": -330
    },
    "id": "A-1VOfkmeLFE",
    "outputId": "487c59c7-eb85-4939-80ec-39cf1357b9e8",
    "scrolled": false
   },
   "outputs": [
    {
     "data": {
      "text/html": [
       "<div>\n",
       "<style scoped>\n",
       "    .dataframe tbody tr th:only-of-type {\n",
       "        vertical-align: middle;\n",
       "    }\n",
       "\n",
       "    .dataframe tbody tr th {\n",
       "        vertical-align: top;\n",
       "    }\n",
       "\n",
       "    .dataframe thead th {\n",
       "        text-align: right;\n",
       "    }\n",
       "</style>\n",
       "<table border=\"1\" class=\"dataframe\">\n",
       "  <thead>\n",
       "    <tr style=\"text-align: right;\">\n",
       "      <th></th>\n",
       "      <th>PLAYER NAME</th>\n",
       "      <th>AGE</th>\n",
       "      <th>COUNTRY</th>\n",
       "      <th>PLAYING ROLE</th>\n",
       "      <th>T-RUNS</th>\n",
       "      <th>T-WKTS</th>\n",
       "      <th>ODI-RUNS-S</th>\n",
       "      <th>ODI-SR-B</th>\n",
       "      <th>ODI-WKTS</th>\n",
       "      <th>ODI-SR-BL</th>\n",
       "      <th>CAPTAINCY EXP</th>\n",
       "      <th>RUNS-S</th>\n",
       "      <th>HS</th>\n",
       "      <th>AVE</th>\n",
       "      <th>SR-B</th>\n",
       "      <th>SIXERS</th>\n",
       "      <th>RUNS-C</th>\n",
       "      <th>WKTS</th>\n",
       "      <th>AVE-BL</th>\n",
       "      <th>ECON</th>\n",
       "      <th>SR-BL</th>\n",
       "      <th>SOLD PRICE</th>\n",
       "    </tr>\n",
       "  </thead>\n",
       "  <tbody>\n",
       "    <tr>\n",
       "      <th>0</th>\n",
       "      <td>Abdulla, YA</td>\n",
       "      <td>2</td>\n",
       "      <td>SA</td>\n",
       "      <td>Allrounder</td>\n",
       "      <td>0</td>\n",
       "      <td>0</td>\n",
       "      <td>0</td>\n",
       "      <td>0.000000</td>\n",
       "      <td>0</td>\n",
       "      <td>0.000000</td>\n",
       "      <td>0</td>\n",
       "      <td>0</td>\n",
       "      <td>0</td>\n",
       "      <td>0.000000</td>\n",
       "      <td>0.000000</td>\n",
       "      <td>0</td>\n",
       "      <td>307</td>\n",
       "      <td>15</td>\n",
       "      <td>20.470000</td>\n",
       "      <td>8.900000</td>\n",
       "      <td>13.930000</td>\n",
       "      <td>50000</td>\n",
       "    </tr>\n",
       "    <tr>\n",
       "      <th>1</th>\n",
       "      <td>Abdur Razzak</td>\n",
       "      <td>2</td>\n",
       "      <td>BAN</td>\n",
       "      <td>Bowler</td>\n",
       "      <td>214</td>\n",
       "      <td>18</td>\n",
       "      <td>657</td>\n",
       "      <td>71.410000</td>\n",
       "      <td>185</td>\n",
       "      <td>37.600000</td>\n",
       "      <td>0</td>\n",
       "      <td>0</td>\n",
       "      <td>0</td>\n",
       "      <td>0.000000</td>\n",
       "      <td>0.000000</td>\n",
       "      <td>0</td>\n",
       "      <td>29</td>\n",
       "      <td>0</td>\n",
       "      <td>0.000000</td>\n",
       "      <td>14.500000</td>\n",
       "      <td>0.000000</td>\n",
       "      <td>50000</td>\n",
       "    </tr>\n",
       "    <tr>\n",
       "      <th>2</th>\n",
       "      <td>Agarkar, AB</td>\n",
       "      <td>2</td>\n",
       "      <td>IND</td>\n",
       "      <td>Bowler</td>\n",
       "      <td>571</td>\n",
       "      <td>58</td>\n",
       "      <td>1269</td>\n",
       "      <td>80.620000</td>\n",
       "      <td>288</td>\n",
       "      <td>32.900000</td>\n",
       "      <td>0</td>\n",
       "      <td>167</td>\n",
       "      <td>39</td>\n",
       "      <td>18.560000</td>\n",
       "      <td>121.010000</td>\n",
       "      <td>5</td>\n",
       "      <td>1059</td>\n",
       "      <td>29</td>\n",
       "      <td>36.520000</td>\n",
       "      <td>8.810000</td>\n",
       "      <td>24.900000</td>\n",
       "      <td>350000</td>\n",
       "    </tr>\n",
       "    <tr>\n",
       "      <th>3</th>\n",
       "      <td>Ashwin, R</td>\n",
       "      <td>1</td>\n",
       "      <td>IND</td>\n",
       "      <td>Bowler</td>\n",
       "      <td>284</td>\n",
       "      <td>31</td>\n",
       "      <td>241</td>\n",
       "      <td>84.560000</td>\n",
       "      <td>51</td>\n",
       "      <td>36.800000</td>\n",
       "      <td>0</td>\n",
       "      <td>58</td>\n",
       "      <td>11</td>\n",
       "      <td>5.800000</td>\n",
       "      <td>76.320000</td>\n",
       "      <td>0</td>\n",
       "      <td>1125</td>\n",
       "      <td>49</td>\n",
       "      <td>22.960000</td>\n",
       "      <td>6.230000</td>\n",
       "      <td>22.140000</td>\n",
       "      <td>850000</td>\n",
       "    </tr>\n",
       "    <tr>\n",
       "      <th>4</th>\n",
       "      <td>Badrinath, S</td>\n",
       "      <td>2</td>\n",
       "      <td>IND</td>\n",
       "      <td>Batsman</td>\n",
       "      <td>63</td>\n",
       "      <td>0</td>\n",
       "      <td>79</td>\n",
       "      <td>45.930000</td>\n",
       "      <td>0</td>\n",
       "      <td>0.000000</td>\n",
       "      <td>0</td>\n",
       "      <td>1317</td>\n",
       "      <td>71</td>\n",
       "      <td>32.930000</td>\n",
       "      <td>120.710000</td>\n",
       "      <td>28</td>\n",
       "      <td>0</td>\n",
       "      <td>0</td>\n",
       "      <td>0.000000</td>\n",
       "      <td>0.000000</td>\n",
       "      <td>0.000000</td>\n",
       "      <td>800000</td>\n",
       "    </tr>\n",
       "  </tbody>\n",
       "</table>\n",
       "</div>"
      ],
      "text/plain": [
       "    PLAYER NAME  AGE COUNTRY PLAYING ROLE  T-RUNS  T-WKTS  ODI-RUNS-S  \\\n",
       "0   Abdulla, YA    2      SA   Allrounder       0       0           0   \n",
       "1  Abdur Razzak    2     BAN       Bowler     214      18         657   \n",
       "2   Agarkar, AB    2     IND       Bowler     571      58        1269   \n",
       "3     Ashwin, R    1     IND       Bowler     284      31         241   \n",
       "4  Badrinath, S    2     IND      Batsman      63       0          79   \n",
       "\n",
       "   ODI-SR-B  ODI-WKTS  ODI-SR-BL  CAPTAINCY EXP  RUNS-S  HS       AVE  \\\n",
       "0  0.000000         0   0.000000              0       0   0  0.000000   \n",
       "1 71.410000       185  37.600000              0       0   0  0.000000   \n",
       "2 80.620000       288  32.900000              0     167  39 18.560000   \n",
       "3 84.560000        51  36.800000              0      58  11  5.800000   \n",
       "4 45.930000         0   0.000000              0    1317  71 32.930000   \n",
       "\n",
       "        SR-B  SIXERS  RUNS-C  WKTS    AVE-BL      ECON     SR-BL  SOLD PRICE  \n",
       "0   0.000000       0     307    15 20.470000  8.900000 13.930000       50000  \n",
       "1   0.000000       0      29     0  0.000000 14.500000  0.000000       50000  \n",
       "2 121.010000       5    1059    29 36.520000  8.810000 24.900000      350000  \n",
       "3  76.320000       0    1125    49 22.960000  6.230000 22.140000      850000  \n",
       "4 120.710000      28       0     0  0.000000  0.000000  0.000000      800000  "
      ]
     },
     "execution_count": 54,
     "metadata": {
      "tags": []
     },
     "output_type": "execute_result"
    }
   ],
   "source": [
    "# load the csv file\n",
    "# store the data in 'df_ipl'\n",
    "df_ipl = pd.read_csv('IPL_IMB_data.csv')\n",
    "\n",
    "# display first five observations using head()\n",
    "df_ipl.head()"
   ]
  },
  {
   "cell_type": "markdown",
   "metadata": {
    "colab_type": "text",
    "id": "gIcQPJ9IeLFH"
   },
   "source": [
    "**Let us now see the number of variables and observations in the data.**"
   ]
  },
  {
   "cell_type": "code",
   "execution_count": 55,
   "metadata": {
    "colab": {
     "base_uri": "https://localhost:8080/",
     "height": 34
    },
    "colab_type": "code",
    "executionInfo": {
     "elapsed": 1058,
     "status": "ok",
     "timestamp": 1598880418329,
     "user": {
      "displayName": "Sutithi Chakraborty",
      "photoUrl": "",
      "userId": "12749148906436566424"
     },
     "user_tz": -330
    },
    "id": "g08NkLFaeLFH",
    "outputId": "c445b461-cbca-4bd1-d14f-e6635bdf37f7"
   },
   "outputs": [
    {
     "data": {
      "text/plain": [
       "(130, 22)"
      ]
     },
     "execution_count": 55,
     "metadata": {
      "tags": []
     },
     "output_type": "execute_result"
    }
   ],
   "source": [
    "# use 'shape' to check the dimension of data\n",
    "df_ipl.shape"
   ]
  },
  {
   "cell_type": "markdown",
   "metadata": {
    "colab_type": "text",
    "id": "KqdGzY3FeLFK"
   },
   "source": [
    "**Interpretation:** The data has 130 observations and 22 variables."
   ]
  },
  {
   "cell_type": "markdown",
   "metadata": {
    "colab_type": "text",
    "id": "cDP9-THXeLFK"
   },
   "source": [
    "<a id=\"dtype\"></a>\n",
    "## 2.2 Check the Data Type"
   ]
  },
  {
   "cell_type": "markdown",
   "metadata": {
    "colab_type": "text",
    "id": "id_tDl7VeLFL"
   },
   "source": [
    "**Check the data type of each variable. If the data type is not as per the data definition, change the data type.**"
   ]
  },
  {
   "cell_type": "code",
   "execution_count": 56,
   "metadata": {
    "colab": {
     "base_uri": "https://localhost:8080/",
     "height": 403
    },
    "colab_type": "code",
    "executionInfo": {
     "elapsed": 1302,
     "status": "ok",
     "timestamp": 1598880421690,
     "user": {
      "displayName": "Sutithi Chakraborty",
      "photoUrl": "",
      "userId": "12749148906436566424"
     },
     "user_tz": -330
    },
    "id": "nIRijD6JeLFL",
    "outputId": "669852ce-dffd-466b-b0ae-f1d4ff09eef3",
    "scrolled": false
   },
   "outputs": [
    {
     "data": {
      "text/plain": [
       "PLAYER NAME       object\n",
       "AGE                int64\n",
       "COUNTRY           object\n",
       "PLAYING ROLE      object\n",
       "T-RUNS             int64\n",
       "T-WKTS             int64\n",
       "ODI-RUNS-S         int64\n",
       "ODI-SR-B         float64\n",
       "ODI-WKTS           int64\n",
       "ODI-SR-BL        float64\n",
       "CAPTAINCY EXP      int64\n",
       "RUNS-S             int64\n",
       "HS                 int64\n",
       "AVE              float64\n",
       "SR-B             float64\n",
       "SIXERS             int64\n",
       "RUNS-C             int64\n",
       "WKTS               int64\n",
       "AVE-BL           float64\n",
       "ECON             float64\n",
       "SR-BL            float64\n",
       "SOLD PRICE         int64\n",
       "dtype: object"
      ]
     },
     "execution_count": 56,
     "metadata": {
      "tags": []
     },
     "output_type": "execute_result"
    }
   ],
   "source": [
    "# use 'dtypes' to check the data type of a variable\n",
    "df_ipl.dtypes"
   ]
  },
  {
   "cell_type": "markdown",
   "metadata": {
    "colab_type": "text",
    "id": "H26fWYuMeLFO"
   },
   "source": [
    "**Interpretation:** The variables `PLAYER NAME`, `COUNTRY` and `PLAYING ROLE` are categorical. All the remaining variables are numerical. \n",
    "\n",
    "From the above output, we see that the data type of `AGE` and `CAPTAINCY EXP` is 'int64'.\n",
    "\n",
    "But according to the data definition, `AGE` and `CAPTAINCY EXP` are categorical variables, which are wrongly interpreted as 'int64', so we will convert these variables data type to 'object'."
   ]
  },
  {
   "cell_type": "markdown",
   "metadata": {
    "colab_type": "text",
    "id": "XUZ4LRc_eLFO"
   },
   "source": [
    "#### Change the data type as per the data definition."
   ]
  },
  {
   "cell_type": "code",
   "execution_count": 57,
   "metadata": {
    "colab": {},
    "colab_type": "code",
    "executionInfo": {
     "elapsed": 1064,
     "status": "ok",
     "timestamp": 1598880425272,
     "user": {
      "displayName": "Sutithi Chakraborty",
      "photoUrl": "",
      "userId": "12749148906436566424"
     },
     "user_tz": -330
    },
    "id": "ToyaeeM7eLFP"
   },
   "outputs": [],
   "source": [
    "# convert numerical variables to categorical (object) \n",
    "# use astype() to change the data type\n",
    "\n",
    "# change the data type of 'AGE' \n",
    "df_ipl['AGE'] = df_ipl['AGE'].astype('object')\n",
    "\n",
    "# change the data type of 'CAPTAINCY EXP'\n",
    "df_ipl['CAPTAINCY EXP'] = df_ipl['CAPTAINCY EXP'].astype('object')"
   ]
  },
  {
   "cell_type": "markdown",
   "metadata": {
    "colab_type": "text",
    "id": "5gJR6Ap6eLFR"
   },
   "source": [
    "#### Recheck the data type after the conversion. "
   ]
  },
  {
   "cell_type": "code",
   "execution_count": 58,
   "metadata": {
    "colab": {
     "base_uri": "https://localhost:8080/",
     "height": 403
    },
    "colab_type": "code",
    "executionInfo": {
     "elapsed": 714,
     "status": "ok",
     "timestamp": 1598880426517,
     "user": {
      "displayName": "Sutithi Chakraborty",
      "photoUrl": "",
      "userId": "12749148906436566424"
     },
     "user_tz": -330
    },
    "id": "LRRm649geLFR",
    "outputId": "27bb09f5-6663-4455-9fa7-7f2493105a07"
   },
   "outputs": [
    {
     "data": {
      "text/plain": [
       "PLAYER NAME       object\n",
       "AGE               object\n",
       "COUNTRY           object\n",
       "PLAYING ROLE      object\n",
       "T-RUNS             int64\n",
       "T-WKTS             int64\n",
       "ODI-RUNS-S         int64\n",
       "ODI-SR-B         float64\n",
       "ODI-WKTS           int64\n",
       "ODI-SR-BL        float64\n",
       "CAPTAINCY EXP     object\n",
       "RUNS-S             int64\n",
       "HS                 int64\n",
       "AVE              float64\n",
       "SR-B             float64\n",
       "SIXERS             int64\n",
       "RUNS-C             int64\n",
       "WKTS               int64\n",
       "AVE-BL           float64\n",
       "ECON             float64\n",
       "SR-BL            float64\n",
       "SOLD PRICE         int64\n",
       "dtype: object"
      ]
     },
     "execution_count": 58,
     "metadata": {
      "tags": []
     },
     "output_type": "execute_result"
    }
   ],
   "source": [
    "# recheck the data types using 'dtypes'\n",
    "df_ipl.dtypes"
   ]
  },
  {
   "cell_type": "markdown",
   "metadata": {
    "colab_type": "text",
    "id": "tYm22SP8eLFU"
   },
   "source": [
    "**Interpretation:** Now, all the variables have the correct data type."
   ]
  },
  {
   "cell_type": "markdown",
   "metadata": {
    "colab_type": "text",
    "id": "MQ4HaYKjeLFU"
   },
   "source": [
    "<a id=\"drop\"></a>\n",
    "## 2.3 Remove Insignificant Variables"
   ]
  },
  {
   "cell_type": "markdown",
   "metadata": {
    "colab_type": "text",
    "id": "8wdnjTR5eLFU"
   },
   "source": [
    "The column `PLAYER NAME` contains the name of the player, which is redundant for further analysis. Thus, we drop the column."
   ]
  },
  {
   "cell_type": "code",
   "execution_count": 59,
   "metadata": {
    "colab": {},
    "colab_type": "code",
    "executionInfo": {
     "elapsed": 1274,
     "status": "ok",
     "timestamp": 1598880429870,
     "user": {
      "displayName": "Sutithi Chakraborty",
      "photoUrl": "",
      "userId": "12749148906436566424"
     },
     "user_tz": -330
    },
    "id": "qxoYeNH7eLFV"
   },
   "outputs": [],
   "source": [
    "# drop the column 'PLAYER NAME' using drop()\n",
    "# 'axis = 1' drops the specified column\n",
    "df_ipl = df_ipl.drop('PLAYER NAME', axis = 1)"
   ]
  },
  {
   "cell_type": "markdown",
   "metadata": {
    "colab_type": "text",
    "id": "gMD5jLvbeLFY"
   },
   "source": [
    "<a id=\"null\"></a>\n",
    "## 2.4 Missing Value Treatment"
   ]
  },
  {
   "cell_type": "markdown",
   "metadata": {
    "colab_type": "text",
    "id": "fo3R0DtWeLFY"
   },
   "source": [
    "First run a check for the presence of missing values and their percentage for each column. Then choose the right approach to treat them."
   ]
  },
  {
   "cell_type": "code",
   "execution_count": 60,
   "metadata": {
    "colab": {
     "base_uri": "https://localhost:8080/",
     "height": 669
    },
    "colab_type": "code",
    "executionInfo": {
     "elapsed": 1173,
     "status": "ok",
     "timestamp": 1598880431628,
     "user": {
      "displayName": "Sutithi Chakraborty",
      "photoUrl": "",
      "userId": "12749148906436566424"
     },
     "user_tz": -330
    },
    "id": "lwVGnkgNeLFY",
    "outputId": "5f0ca1cc-68f7-4460-a7f8-30c6b0e54b4d"
   },
   "outputs": [
    {
     "data": {
      "text/html": [
       "<div>\n",
       "<style scoped>\n",
       "    .dataframe tbody tr th:only-of-type {\n",
       "        vertical-align: middle;\n",
       "    }\n",
       "\n",
       "    .dataframe tbody tr th {\n",
       "        vertical-align: top;\n",
       "    }\n",
       "\n",
       "    .dataframe thead th {\n",
       "        text-align: right;\n",
       "    }\n",
       "</style>\n",
       "<table border=\"1\" class=\"dataframe\">\n",
       "  <thead>\n",
       "    <tr style=\"text-align: right;\">\n",
       "      <th></th>\n",
       "      <th>Total</th>\n",
       "      <th>Percentage of Missing Values</th>\n",
       "    </tr>\n",
       "  </thead>\n",
       "  <tbody>\n",
       "    <tr>\n",
       "      <th>SOLD PRICE</th>\n",
       "      <td>0</td>\n",
       "      <td>0.000000</td>\n",
       "    </tr>\n",
       "    <tr>\n",
       "      <th>CAPTAINCY EXP</th>\n",
       "      <td>0</td>\n",
       "      <td>0.000000</td>\n",
       "    </tr>\n",
       "    <tr>\n",
       "      <th>COUNTRY</th>\n",
       "      <td>0</td>\n",
       "      <td>0.000000</td>\n",
       "    </tr>\n",
       "    <tr>\n",
       "      <th>PLAYING ROLE</th>\n",
       "      <td>0</td>\n",
       "      <td>0.000000</td>\n",
       "    </tr>\n",
       "    <tr>\n",
       "      <th>T-RUNS</th>\n",
       "      <td>0</td>\n",
       "      <td>0.000000</td>\n",
       "    </tr>\n",
       "    <tr>\n",
       "      <th>T-WKTS</th>\n",
       "      <td>0</td>\n",
       "      <td>0.000000</td>\n",
       "    </tr>\n",
       "    <tr>\n",
       "      <th>ODI-RUNS-S</th>\n",
       "      <td>0</td>\n",
       "      <td>0.000000</td>\n",
       "    </tr>\n",
       "    <tr>\n",
       "      <th>ODI-SR-B</th>\n",
       "      <td>0</td>\n",
       "      <td>0.000000</td>\n",
       "    </tr>\n",
       "    <tr>\n",
       "      <th>ODI-WKTS</th>\n",
       "      <td>0</td>\n",
       "      <td>0.000000</td>\n",
       "    </tr>\n",
       "    <tr>\n",
       "      <th>ODI-SR-BL</th>\n",
       "      <td>0</td>\n",
       "      <td>0.000000</td>\n",
       "    </tr>\n",
       "    <tr>\n",
       "      <th>RUNS-S</th>\n",
       "      <td>0</td>\n",
       "      <td>0.000000</td>\n",
       "    </tr>\n",
       "    <tr>\n",
       "      <th>SR-BL</th>\n",
       "      <td>0</td>\n",
       "      <td>0.000000</td>\n",
       "    </tr>\n",
       "    <tr>\n",
       "      <th>HS</th>\n",
       "      <td>0</td>\n",
       "      <td>0.000000</td>\n",
       "    </tr>\n",
       "    <tr>\n",
       "      <th>AVE</th>\n",
       "      <td>0</td>\n",
       "      <td>0.000000</td>\n",
       "    </tr>\n",
       "    <tr>\n",
       "      <th>SR-B</th>\n",
       "      <td>0</td>\n",
       "      <td>0.000000</td>\n",
       "    </tr>\n",
       "    <tr>\n",
       "      <th>SIXERS</th>\n",
       "      <td>0</td>\n",
       "      <td>0.000000</td>\n",
       "    </tr>\n",
       "    <tr>\n",
       "      <th>RUNS-C</th>\n",
       "      <td>0</td>\n",
       "      <td>0.000000</td>\n",
       "    </tr>\n",
       "    <tr>\n",
       "      <th>WKTS</th>\n",
       "      <td>0</td>\n",
       "      <td>0.000000</td>\n",
       "    </tr>\n",
       "    <tr>\n",
       "      <th>AVE-BL</th>\n",
       "      <td>0</td>\n",
       "      <td>0.000000</td>\n",
       "    </tr>\n",
       "    <tr>\n",
       "      <th>ECON</th>\n",
       "      <td>0</td>\n",
       "      <td>0.000000</td>\n",
       "    </tr>\n",
       "    <tr>\n",
       "      <th>AGE</th>\n",
       "      <td>0</td>\n",
       "      <td>0.000000</td>\n",
       "    </tr>\n",
       "  </tbody>\n",
       "</table>\n",
       "</div>"
      ],
      "text/plain": [
       "               Total  Percentage of Missing Values\n",
       "SOLD PRICE         0                      0.000000\n",
       "CAPTAINCY EXP      0                      0.000000\n",
       "COUNTRY            0                      0.000000\n",
       "PLAYING ROLE       0                      0.000000\n",
       "T-RUNS             0                      0.000000\n",
       "T-WKTS             0                      0.000000\n",
       "ODI-RUNS-S         0                      0.000000\n",
       "ODI-SR-B           0                      0.000000\n",
       "ODI-WKTS           0                      0.000000\n",
       "ODI-SR-BL          0                      0.000000\n",
       "RUNS-S             0                      0.000000\n",
       "SR-BL              0                      0.000000\n",
       "HS                 0                      0.000000\n",
       "AVE                0                      0.000000\n",
       "SR-B               0                      0.000000\n",
       "SIXERS             0                      0.000000\n",
       "RUNS-C             0                      0.000000\n",
       "WKTS               0                      0.000000\n",
       "AVE-BL             0                      0.000000\n",
       "ECON               0                      0.000000\n",
       "AGE                0                      0.000000"
      ]
     },
     "execution_count": 60,
     "metadata": {
      "tags": []
     },
     "output_type": "execute_result"
    }
   ],
   "source": [
    "# sort the variables on the basis of total null values in the variable\n",
    "# 'isnull().sum()' returns the number of missing values in each variable\n",
    "# 'ascending = False' sorts values in the descending order\n",
    "# the variable with highest number of missing values will appear first\n",
    "Total = df_ipl.isnull().sum().sort_values(ascending=False)          \n",
    "\n",
    "# calculate percentage of missing values\n",
    "# 'ascending = False' sorts values in the descending order\n",
    "# the variable with highest percentage of missing values will appear first\n",
    "Percent = (df_ipl.isnull().sum()*100/df_ipl.isnull().count()).sort_values(ascending=False)   \n",
    "\n",
    "# concat the 'Total' and 'Percent' columns using 'concat' function\n",
    "# pass a list of column names in parameter 'keys' \n",
    "# 'axis = 1' concats along the columns\n",
    "missing_data = pd.concat([Total, Percent], axis = 1, keys = ['Total', 'Percentage of Missing Values'])    \n",
    "missing_data"
   ]
  },
  {
   "cell_type": "markdown",
   "metadata": {
    "colab_type": "text",
    "id": "sZQCFk-teLFb"
   },
   "source": [
    "**Interpretation:** The above output shows that there are no missing values in the data."
   ]
  },
  {
   "cell_type": "markdown",
   "metadata": {
    "colab_type": "text",
    "id": "wXKLLa8heLFb"
   },
   "source": [
    "<a id=\"dummy\"></a>\n",
    "## 2.5 Dummy Encode the Categorical Variables"
   ]
  },
  {
   "cell_type": "markdown",
   "metadata": {
    "colab_type": "text",
    "id": "4dfWWhGqeLFc"
   },
   "source": [
    "#### Split the dependent and independent variables."
   ]
  },
  {
   "cell_type": "code",
   "execution_count": 61,
   "metadata": {
    "colab": {},
    "colab_type": "code",
    "executionInfo": {
     "elapsed": 1062,
     "status": "ok",
     "timestamp": 1598880438688,
     "user": {
      "displayName": "Sutithi Chakraborty",
      "photoUrl": "",
      "userId": "12749148906436566424"
     },
     "user_tz": -330
    },
    "id": "IZ9m6MLjeLFc"
   },
   "outputs": [],
   "source": [
    "# store the target variable 'SOLD PRICE' in a dataframe 'df_target'\n",
    "df_target = df_ipl['SOLD PRICE']\n",
    "\n",
    "# store all the independent variables in a dataframe 'df_feature' \n",
    "# drop the column 'SOLD PRICE' using drop()\n",
    "# 'axis = 1' drops the specified column\n",
    "df_feature = df_ipl.drop('SOLD PRICE', axis = 1)"
   ]
  },
  {
   "cell_type": "markdown",
   "metadata": {
    "colab_type": "text",
    "id": "XpF635WjeLFe"
   },
   "source": [
    "#### Filter numerical and categorical variables."
   ]
  },
  {
   "cell_type": "code",
   "execution_count": 62,
   "metadata": {
    "colab": {
     "base_uri": "https://localhost:8080/",
     "height": 84
    },
    "colab_type": "code",
    "executionInfo": {
     "elapsed": 800,
     "status": "ok",
     "timestamp": 1598880439980,
     "user": {
      "displayName": "Sutithi Chakraborty",
      "photoUrl": "",
      "userId": "12749148906436566424"
     },
     "user_tz": -330
    },
    "id": "stSQkNpteLFf",
    "outputId": "2dec1d3f-609f-4d5e-aa07-dc04f313f634"
   },
   "outputs": [
    {
     "data": {
      "text/plain": [
       "Index(['T-RUNS', 'T-WKTS', 'ODI-RUNS-S', 'ODI-SR-B', 'ODI-WKTS', 'ODI-SR-BL',\n",
       "       'RUNS-S', 'HS', 'AVE', 'SR-B', 'SIXERS', 'RUNS-C', 'WKTS', 'AVE-BL',\n",
       "       'ECON', 'SR-BL'],\n",
       "      dtype='object')"
      ]
     },
     "execution_count": 62,
     "metadata": {
      "tags": []
     },
     "output_type": "execute_result"
    }
   ],
   "source": [
    "# filter the numerical features in the dataset\n",
    "# 'select_dtypes' is used to select the variables with given data type\n",
    "# 'include = [np.number]' will include all the numerical variables\n",
    "df_num = df_feature.select_dtypes(include = [np.number])\n",
    "\n",
    "# display numerical features\n",
    "df_num.columns"
   ]
  },
  {
   "cell_type": "code",
   "execution_count": 63,
   "metadata": {
    "colab": {
     "base_uri": "https://localhost:8080/",
     "height": 34
    },
    "colab_type": "code",
    "executionInfo": {
     "elapsed": 1228,
     "status": "ok",
     "timestamp": 1598880444473,
     "user": {
      "displayName": "Sutithi Chakraborty",
      "photoUrl": "",
      "userId": "12749148906436566424"
     },
     "user_tz": -330
    },
    "id": "IeXYeoPJeLFh",
    "outputId": "6e21cc69-f749-45af-ca83-8ed869718c0a"
   },
   "outputs": [
    {
     "data": {
      "text/plain": [
       "Index(['AGE', 'COUNTRY', 'PLAYING ROLE', 'CAPTAINCY EXP'], dtype='object')"
      ]
     },
     "execution_count": 63,
     "metadata": {
      "tags": []
     },
     "output_type": "execute_result"
    }
   ],
   "source": [
    "# filter the categorical features in the dataset\n",
    "# 'select_dtypes' is used to select the variables with given data type\n",
    "# 'include = [np.object]' will include all the categorical variables\n",
    "df_cat = df_feature.select_dtypes(include = [np.object])\n",
    "\n",
    "# display categorical features\n",
    "df_cat.columns"
   ]
  },
  {
   "cell_type": "markdown",
   "metadata": {
    "colab_type": "text",
    "id": "SlHC0awGeLFj"
   },
   "source": [
    "The regression method fails in presence of categorical variables. To overcome this we use (n-1) dummy encoding. \n",
    "\n",
    "**Encode the each categorical variable and create (n-1) dummy variables for n categories of the variable.**"
   ]
  },
  {
   "cell_type": "code",
   "execution_count": 64,
   "metadata": {
    "colab": {},
    "colab_type": "code",
    "executionInfo": {
     "elapsed": 1020,
     "status": "ok",
     "timestamp": 1598880446780,
     "user": {
      "displayName": "Sutithi Chakraborty",
      "photoUrl": "",
      "userId": "12749148906436566424"
     },
     "user_tz": -330
    },
    "id": "3UfynRJSeLFj"
   },
   "outputs": [],
   "source": [
    "# use 'get_dummies' from pandas to create dummy variables\n",
    "# use 'drop_first' to create (n-1) dummy variables\n",
    "dummy_var = pd.get_dummies(data = df_cat, drop_first = True)"
   ]
  },
  {
   "cell_type": "markdown",
   "metadata": {
    "colab_type": "text",
    "id": "t2au4_PheLFn"
   },
   "source": [
    "<a id=\"scale\"></a>\n",
    "## 2.6 Scale the Data "
   ]
  },
  {
   "cell_type": "markdown",
   "metadata": {
    "colab_type": "text",
    "id": "45FwuHCReLFn"
   },
   "source": [
    "We scale the variables to get all the variables in the same range. With this, we can avoid a problem in which some features come to dominate solely because they tend to have larger values than others."
   ]
  },
  {
   "cell_type": "code",
   "execution_count": 65,
   "metadata": {
    "colab": {},
    "colab_type": "code",
    "executionInfo": {
     "elapsed": 988,
     "status": "ok",
     "timestamp": 1598880449613,
     "user": {
      "displayName": "Sutithi Chakraborty",
      "photoUrl": "",
      "userId": "12749148906436566424"
     },
     "user_tz": -330
    },
    "id": "URh53b_2eLFo"
   },
   "outputs": [],
   "source": [
    "# initialize the standard scalar\n",
    "X_scaler = StandardScaler()\n",
    "\n",
    "# scale all the numeric variables\n",
    "# standardize all the columns of the dataframe 'df_num'\n",
    "num_scaled = X_scaler.fit_transform(df_num)\n",
    "\n",
    "# create a dataframe of scaled numerical variables\n",
    "# pass the required column names to the parameter 'columns'\n",
    "df_num_scaled = pd.DataFrame(num_scaled, columns = df_num.columns)\n",
    "\n",
    "# standardize the target variable explicitly and store it in a new variable 'y'\n",
    "y = (df_target - df_target.mean()) / df_target.std()"
   ]
  },
  {
   "cell_type": "markdown",
   "metadata": {
    "colab_type": "text",
    "id": "63X583CEeLFq"
   },
   "source": [
    "#### Concatenate scaled numerical and dummy encoded categorical variables."
   ]
  },
  {
   "cell_type": "code",
   "execution_count": 66,
   "metadata": {
    "colab": {
     "base_uri": "https://localhost:8080/",
     "height": 249
    },
    "colab_type": "code",
    "executionInfo": {
     "elapsed": 1053,
     "status": "ok",
     "timestamp": 1598880452668,
     "user": {
      "displayName": "Sutithi Chakraborty",
      "photoUrl": "",
      "userId": "12749148906436566424"
     },
     "user_tz": -330
    },
    "id": "FbJAyVjbeLFr",
    "outputId": "48158b77-ff10-4a00-eaa9-d7718b0d6648"
   },
   "outputs": [
    {
     "data": {
      "text/html": [
       "<div>\n",
       "<style scoped>\n",
       "    .dataframe tbody tr th:only-of-type {\n",
       "        vertical-align: middle;\n",
       "    }\n",
       "\n",
       "    .dataframe tbody tr th {\n",
       "        vertical-align: top;\n",
       "    }\n",
       "\n",
       "    .dataframe thead th {\n",
       "        text-align: right;\n",
       "    }\n",
       "</style>\n",
       "<table border=\"1\" class=\"dataframe\">\n",
       "  <thead>\n",
       "    <tr style=\"text-align: right;\">\n",
       "      <th></th>\n",
       "      <th>T-RUNS</th>\n",
       "      <th>T-WKTS</th>\n",
       "      <th>ODI-RUNS-S</th>\n",
       "      <th>ODI-SR-B</th>\n",
       "      <th>ODI-WKTS</th>\n",
       "      <th>ODI-SR-BL</th>\n",
       "      <th>RUNS-S</th>\n",
       "      <th>HS</th>\n",
       "      <th>AVE</th>\n",
       "      <th>SR-B</th>\n",
       "      <th>SIXERS</th>\n",
       "      <th>RUNS-C</th>\n",
       "      <th>WKTS</th>\n",
       "      <th>AVE-BL</th>\n",
       "      <th>ECON</th>\n",
       "      <th>SR-BL</th>\n",
       "      <th>AGE_2</th>\n",
       "      <th>AGE_3</th>\n",
       "      <th>COUNTRY_BAN</th>\n",
       "      <th>COUNTRY_ENG</th>\n",
       "      <th>COUNTRY_IND</th>\n",
       "      <th>COUNTRY_NZ</th>\n",
       "      <th>COUNTRY_PAK</th>\n",
       "      <th>COUNTRY_SA</th>\n",
       "      <th>COUNTRY_SL</th>\n",
       "      <th>COUNTRY_WI</th>\n",
       "      <th>COUNTRY_ZIM</th>\n",
       "      <th>PLAYING ROLE_Batsman</th>\n",
       "      <th>PLAYING ROLE_Bowler</th>\n",
       "      <th>PLAYING ROLE_W. Keeper</th>\n",
       "      <th>CAPTAINCY EXP_1</th>\n",
       "    </tr>\n",
       "  </thead>\n",
       "  <tbody>\n",
       "    <tr>\n",
       "      <th>0</th>\n",
       "      <td>-0.657994</td>\n",
       "      <td>-0.468108</td>\n",
       "      <td>-0.703043</td>\n",
       "      <td>-2.758455</td>\n",
       "      <td>-0.686760</td>\n",
       "      <td>-1.277132</td>\n",
       "      <td>-0.839099</td>\n",
       "      <td>-1.307954</td>\n",
       "      <td>-1.693829</td>\n",
       "      <td>-3.102880</td>\n",
       "      <td>-0.745369</td>\n",
       "      <td>-0.303010</td>\n",
       "      <td>-0.099814</td>\n",
       "      <td>-0.127413</td>\n",
       "      <td>0.547597</td>\n",
       "      <td>-0.226928</td>\n",
       "      <td>1</td>\n",
       "      <td>0</td>\n",
       "      <td>0</td>\n",
       "      <td>0</td>\n",
       "      <td>0</td>\n",
       "      <td>0</td>\n",
       "      <td>0</td>\n",
       "      <td>1</td>\n",
       "      <td>0</td>\n",
       "      <td>0</td>\n",
       "      <td>0</td>\n",
       "      <td>0</td>\n",
       "      <td>0</td>\n",
       "      <td>0</td>\n",
       "      <td>0</td>\n",
       "    </tr>\n",
       "    <tr>\n",
       "      <th>1</th>\n",
       "      <td>-0.593006</td>\n",
       "      <td>-0.341460</td>\n",
       "      <td>-0.518927</td>\n",
       "      <td>0.009520</td>\n",
       "      <td>0.983269</td>\n",
       "      <td>0.133821</td>\n",
       "      <td>-0.839099</td>\n",
       "      <td>-1.307954</td>\n",
       "      <td>-1.693829</td>\n",
       "      <td>-3.102880</td>\n",
       "      <td>-0.745369</td>\n",
       "      <td>-0.802864</td>\n",
       "      <td>-0.790019</td>\n",
       "      <td>-1.115257</td>\n",
       "      <td>1.685233</td>\n",
       "      <td>-1.142498</td>\n",
       "      <td>1</td>\n",
       "      <td>0</td>\n",
       "      <td>1</td>\n",
       "      <td>0</td>\n",
       "      <td>0</td>\n",
       "      <td>0</td>\n",
       "      <td>0</td>\n",
       "      <td>0</td>\n",
       "      <td>0</td>\n",
       "      <td>0</td>\n",
       "      <td>0</td>\n",
       "      <td>0</td>\n",
       "      <td>1</td>\n",
       "      <td>0</td>\n",
       "      <td>0</td>\n",
       "    </tr>\n",
       "    <tr>\n",
       "      <th>2</th>\n",
       "      <td>-0.484592</td>\n",
       "      <td>-0.060022</td>\n",
       "      <td>-0.347421</td>\n",
       "      <td>0.366516</td>\n",
       "      <td>1.913068</td>\n",
       "      <td>-0.042548</td>\n",
       "      <td>-0.566604</td>\n",
       "      <td>-0.232487</td>\n",
       "      <td>-0.014415</td>\n",
       "      <td>0.278190</td>\n",
       "      <td>-0.534721</td>\n",
       "      <td>1.049112</td>\n",
       "      <td>0.544377</td>\n",
       "      <td>0.647130</td>\n",
       "      <td>0.529313</td>\n",
       "      <td>0.494091</td>\n",
       "      <td>1</td>\n",
       "      <td>0</td>\n",
       "      <td>0</td>\n",
       "      <td>0</td>\n",
       "      <td>1</td>\n",
       "      <td>0</td>\n",
       "      <td>0</td>\n",
       "      <td>0</td>\n",
       "      <td>0</td>\n",
       "      <td>0</td>\n",
       "      <td>0</td>\n",
       "      <td>0</td>\n",
       "      <td>1</td>\n",
       "      <td>0</td>\n",
       "      <td>0</td>\n",
       "    </tr>\n",
       "    <tr>\n",
       "      <th>3</th>\n",
       "      <td>-0.571749</td>\n",
       "      <td>-0.249993</td>\n",
       "      <td>-0.635505</td>\n",
       "      <td>0.519237</td>\n",
       "      <td>-0.226374</td>\n",
       "      <td>0.103801</td>\n",
       "      <td>-0.744460</td>\n",
       "      <td>-1.004617</td>\n",
       "      <td>-1.169012</td>\n",
       "      <td>-0.970467</td>\n",
       "      <td>-0.745369</td>\n",
       "      <td>1.167783</td>\n",
       "      <td>1.464649</td>\n",
       "      <td>-0.007250</td>\n",
       "      <td>0.005188</td>\n",
       "      <td>0.312686</td>\n",
       "      <td>0</td>\n",
       "      <td>0</td>\n",
       "      <td>0</td>\n",
       "      <td>0</td>\n",
       "      <td>1</td>\n",
       "      <td>0</td>\n",
       "      <td>0</td>\n",
       "      <td>0</td>\n",
       "      <td>0</td>\n",
       "      <td>0</td>\n",
       "      <td>0</td>\n",
       "      <td>0</td>\n",
       "      <td>1</td>\n",
       "      <td>0</td>\n",
       "      <td>0</td>\n",
       "    </tr>\n",
       "    <tr>\n",
       "      <th>4</th>\n",
       "      <td>-0.638862</td>\n",
       "      <td>-0.468108</td>\n",
       "      <td>-0.680904</td>\n",
       "      <td>-0.978129</td>\n",
       "      <td>-0.686760</td>\n",
       "      <td>-1.277132</td>\n",
       "      <td>1.309858</td>\n",
       "      <td>0.649946</td>\n",
       "      <td>1.285864</td>\n",
       "      <td>0.269808</td>\n",
       "      <td>0.434258</td>\n",
       "      <td>-0.855007</td>\n",
       "      <td>-0.790019</td>\n",
       "      <td>-1.115257</td>\n",
       "      <td>-1.260432</td>\n",
       "      <td>-1.142498</td>\n",
       "      <td>1</td>\n",
       "      <td>0</td>\n",
       "      <td>0</td>\n",
       "      <td>0</td>\n",
       "      <td>1</td>\n",
       "      <td>0</td>\n",
       "      <td>0</td>\n",
       "      <td>0</td>\n",
       "      <td>0</td>\n",
       "      <td>0</td>\n",
       "      <td>0</td>\n",
       "      <td>1</td>\n",
       "      <td>0</td>\n",
       "      <td>0</td>\n",
       "      <td>0</td>\n",
       "    </tr>\n",
       "  </tbody>\n",
       "</table>\n",
       "</div>"
      ],
      "text/plain": [
       "     T-RUNS    T-WKTS  ODI-RUNS-S  ODI-SR-B  ODI-WKTS  ODI-SR-BL    RUNS-S  \\\n",
       "0 -0.657994 -0.468108   -0.703043 -2.758455 -0.686760  -1.277132 -0.839099   \n",
       "1 -0.593006 -0.341460   -0.518927  0.009520  0.983269   0.133821 -0.839099   \n",
       "2 -0.484592 -0.060022   -0.347421  0.366516  1.913068  -0.042548 -0.566604   \n",
       "3 -0.571749 -0.249993   -0.635505  0.519237 -0.226374   0.103801 -0.744460   \n",
       "4 -0.638862 -0.468108   -0.680904 -0.978129 -0.686760  -1.277132  1.309858   \n",
       "\n",
       "         HS       AVE      SR-B    SIXERS    RUNS-C      WKTS    AVE-BL  \\\n",
       "0 -1.307954 -1.693829 -3.102880 -0.745369 -0.303010 -0.099814 -0.127413   \n",
       "1 -1.307954 -1.693829 -3.102880 -0.745369 -0.802864 -0.790019 -1.115257   \n",
       "2 -0.232487 -0.014415  0.278190 -0.534721  1.049112  0.544377  0.647130   \n",
       "3 -1.004617 -1.169012 -0.970467 -0.745369  1.167783  1.464649 -0.007250   \n",
       "4  0.649946  1.285864  0.269808  0.434258 -0.855007 -0.790019 -1.115257   \n",
       "\n",
       "       ECON     SR-BL  AGE_2  AGE_3  COUNTRY_BAN  COUNTRY_ENG  COUNTRY_IND  \\\n",
       "0  0.547597 -0.226928      1      0            0            0            0   \n",
       "1  1.685233 -1.142498      1      0            1            0            0   \n",
       "2  0.529313  0.494091      1      0            0            0            1   \n",
       "3  0.005188  0.312686      0      0            0            0            1   \n",
       "4 -1.260432 -1.142498      1      0            0            0            1   \n",
       "\n",
       "   COUNTRY_NZ  COUNTRY_PAK  COUNTRY_SA  COUNTRY_SL  COUNTRY_WI  COUNTRY_ZIM  \\\n",
       "0           0            0           1           0           0            0   \n",
       "1           0            0           0           0           0            0   \n",
       "2           0            0           0           0           0            0   \n",
       "3           0            0           0           0           0            0   \n",
       "4           0            0           0           0           0            0   \n",
       "\n",
       "   PLAYING ROLE_Batsman  PLAYING ROLE_Bowler  PLAYING ROLE_W. Keeper  \\\n",
       "0                     0                    0                       0   \n",
       "1                     0                    1                       0   \n",
       "2                     0                    1                       0   \n",
       "3                     0                    1                       0   \n",
       "4                     1                    0                       0   \n",
       "\n",
       "   CAPTAINCY EXP_1  \n",
       "0                0  \n",
       "1                0  \n",
       "2                0  \n",
       "3                0  \n",
       "4                0  "
      ]
     },
     "execution_count": 66,
     "metadata": {
      "tags": []
     },
     "output_type": "execute_result"
    }
   ],
   "source": [
    "# concat the dummy variables with numeric features to create a dataframe of all independent variables\n",
    "# 'axis=1' concats the dataframes along columns \n",
    "X = pd.concat([df_num_scaled, dummy_var], axis = 1)\n",
    "\n",
    "# display first five observations\n",
    "X.head()"
   ]
  },
  {
   "cell_type": "markdown",
   "metadata": {
    "colab_type": "text",
    "id": "Nj8O3UixeLFt"
   },
   "source": [
    "**Interpretation:** We can see that the dummy variables are added to the data. '1' in the column 'AGE_2' represents that the age of the corresponding player is between 25 to 35 years. Also, the '0' in both the columns 'AGE_2' and 'AGE_3' indicates that the age of the corresponding player is less than 25."
   ]
  },
  {
   "cell_type": "markdown",
   "metadata": {
    "colab_type": "text",
    "id": "sFGOlAFeeLFt"
   },
   "source": [
    "<a id=\"split\"></a>\n",
    "## 2.7 Train-Test Split"
   ]
  },
  {
   "cell_type": "markdown",
   "metadata": {
    "colab_type": "text",
    "id": "DrUQXAsKeLFu"
   },
   "source": [
    "Before applying variour regression techniques to predict the auction price of the player, let us split the dataset in train and test set."
   ]
  },
  {
   "cell_type": "code",
   "execution_count": 67,
   "metadata": {
    "colab": {
     "base_uri": "https://localhost:8080/",
     "height": 84
    },
    "colab_type": "code",
    "executionInfo": {
     "elapsed": 1162,
     "status": "ok",
     "timestamp": 1598880456385,
     "user": {
      "displayName": "Sutithi Chakraborty",
      "photoUrl": "",
      "userId": "12749148906436566424"
     },
     "user_tz": -330
    },
    "id": "Mlqzw8pveLFu",
    "outputId": "c95918d1-99c8-4466-8666-7bd0ea401f60"
   },
   "outputs": [
    {
     "name": "stdout",
     "output_type": "stream",
     "text": [
      "X_train (104, 31)\n",
      "y_train (104,)\n",
      "X_test (26, 31)\n",
      "y_test (26,)\n"
     ]
    }
   ],
   "source": [
    "# split data into train subset and test subset\n",
    "# set 'random_state' to generate the same dataset each time you run the code \n",
    "# 'test_size' returns the proportion of data to be included in the testing set\n",
    "X_train, X_test, y_train, y_test = train_test_split(X, y, random_state = 10, test_size = 0.2)\n",
    "\n",
    "# check the dimensions of the train & test subset using 'shape'\n",
    "# print dimension of train set\n",
    "print('X_train', X_train.shape)\n",
    "print('y_train', y_train.shape)\n",
    "\n",
    "# print dimension of test set\n",
    "print('X_test', X_test.shape)\n",
    "print('y_test', y_test.shape)"
   ]
  },
  {
   "cell_type": "markdown",
   "metadata": {
    "colab_type": "text",
    "id": "atSLXMSaeLFx"
   },
   "source": [
    "## Create generalized functions to calculate various metrics for models"
   ]
  },
  {
   "cell_type": "markdown",
   "metadata": {
    "colab_type": "text",
    "id": "pll6YLx8eLFx"
   },
   "source": [
    "#### Create a generalized function to calculate the RMSE for train and test set."
   ]
  },
  {
   "cell_type": "code",
   "execution_count": 68,
   "metadata": {
    "colab": {},
    "colab_type": "code",
    "executionInfo": {
     "elapsed": 1272,
     "status": "ok",
     "timestamp": 1598880459848,
     "user": {
      "displayName": "Sutithi Chakraborty",
      "photoUrl": "",
      "userId": "12749148906436566424"
     },
     "user_tz": -330
    },
    "id": "xwlh3BhOeLFy"
   },
   "outputs": [],
   "source": [
    "# create a generalized function to calculate the RMSE values for train set\n",
    "def get_train_rmse(model):\n",
    "    \n",
    "    # For training set:\n",
    "    # train_pred: prediction made by the model on the training dataset 'X_train'\n",
    "    # y_train: actual values ofthe target variable for the train dataset\n",
    "\n",
    "    # predict the output of the target variable from the train data \n",
    "    train_pred = model.predict(X_train)\n",
    "\n",
    "    # calculate the MSE using the \"mean_squared_error\" function\n",
    "\n",
    "    # MSE for the train data\n",
    "    mse_train = mean_squared_error(y_train, train_pred)\n",
    "\n",
    "    # take the square root of the MSE to calculate the RMSE\n",
    "    # round the value upto 4 digits using 'round()'\n",
    "    rmse_train = round(np.sqrt(mse_train), 4)\n",
    "    \n",
    "    # return the training RMSE\n",
    "    return(rmse_train)"
   ]
  },
  {
   "cell_type": "code",
   "execution_count": 69,
   "metadata": {
    "colab": {},
    "colab_type": "code",
    "executionInfo": {
     "elapsed": 1196,
     "status": "ok",
     "timestamp": 1598880462067,
     "user": {
      "displayName": "Sutithi Chakraborty",
      "photoUrl": "",
      "userId": "12749148906436566424"
     },
     "user_tz": -330
    },
    "id": "_CMWxJEVeLF0"
   },
   "outputs": [],
   "source": [
    "# create a generalized function to calculate the RMSE values test set\n",
    "def get_test_rmse(model):\n",
    "    \n",
    "    # For testing set:\n",
    "    # test_pred: prediction made by the model on the test dataset 'X_test'\n",
    "    # y_test: actual values of the target variable for the test dataset\n",
    "\n",
    "    # predict the output of the target variable from the test data\n",
    "    test_pred = model.predict(X_test)\n",
    "\n",
    "    # MSE for the test data\n",
    "    mse_test = mean_squared_error(y_test, test_pred)\n",
    "\n",
    "    # take the square root of the MSE to calculate the RMSE\n",
    "    # round the value upto 4 digits using 'round()'\n",
    "    rmse_test = round(np.sqrt(mse_test), 4)\n",
    "\n",
    "    # return the test RMSE\n",
    "    return(rmse_test)"
   ]
  },
  {
   "cell_type": "markdown",
   "metadata": {
    "colab_type": "text",
    "id": "Jdsq8LJ0eLF3"
   },
   "source": [
    "#### Create a generalized function to calculate the MAPE for test set."
   ]
  },
  {
   "cell_type": "code",
   "execution_count": 70,
   "metadata": {
    "colab": {},
    "colab_type": "code",
    "executionInfo": {
     "elapsed": 1085,
     "status": "ok",
     "timestamp": 1598880465816,
     "user": {
      "displayName": "Sutithi Chakraborty",
      "photoUrl": "",
      "userId": "12749148906436566424"
     },
     "user_tz": -330
    },
    "id": "jEd3PqPVeLF3"
   },
   "outputs": [],
   "source": [
    "# define a function to calculate MAPE\n",
    "# pass the actual and predicted values as input to the function\n",
    "# return the calculated MAPE \n",
    "def mape(actual, predicted):\n",
    "    return (np.mean(np.abs((actual - predicted) / actual)) * 100)\n",
    "\n",
    "def get_test_mape(model):\n",
    "    \n",
    "    # For testing set:\n",
    "    # test_pred: prediction made by the model on the test dataset 'X_test'\n",
    "    # y_test: actual values of the target variable for the test dataset\n",
    "\n",
    "    # predict the output of the target variable from the test data\n",
    "    test_pred = model.predict(X_test)\n",
    "    \n",
    "    # calculate the mape using the \"mape()\" function created above\n",
    "    # calculate the MAPE for the test data\n",
    "    mape_test = mape(y_test, test_pred)\n",
    "\n",
    "    # return the MAPE for the test set\n",
    "    return(mape_test)"
   ]
  },
  {
   "cell_type": "markdown",
   "metadata": {
    "colab_type": "text",
    "id": "O85PnnxveLF6"
   },
   "source": [
    "#### Create a generalized function to calculate the R-Squared and Adjusted R- Squared"
   ]
  },
  {
   "cell_type": "code",
   "execution_count": 71,
   "metadata": {
    "colab": {},
    "colab_type": "code",
    "executionInfo": {
     "elapsed": 1216,
     "status": "ok",
     "timestamp": 1598880473238,
     "user": {
      "displayName": "Sutithi Chakraborty",
      "photoUrl": "",
      "userId": "12749148906436566424"
     },
     "user_tz": -330
    },
    "id": "U20cKGXaeLF7"
   },
   "outputs": [],
   "source": [
    "# define a function to get R-squared and adjusted R-squared value\n",
    "def get_score(model):\n",
    "    \n",
    "    # score() returns the R-squared value\n",
    "    r_sq = model.score(X_train, y_train)\n",
    "    \n",
    "    # calculate adjusted R-squared value\n",
    "    # 'n' denotes number of observations in train set\n",
    "    # 'shape[0]' returns number of rows \n",
    "    n = X_train.shape[0]\n",
    "    \n",
    "    # 'k' denotes number of variables in train set\n",
    "    # 'shape[1]' returns number of columns\n",
    "    k = X_train.shape[1]\n",
    "    \n",
    "    # calculate adjusted R-squared using the formula\n",
    "    r_sq_adj = 1 - ((1-r_sq)*(n-1)/(n-k-1))\n",
    "    \n",
    "    # return the R-squared and adjusted R-squared value \n",
    "    return ([r_sq, r_sq_adj])"
   ]
  },
  {
   "cell_type": "markdown",
   "metadata": {
    "colab_type": "text",
    "id": "L9oiAddteLF9"
   },
   "source": [
    "#### Create a generalized function to create a dataframe containing the scores from all the models"
   ]
  },
  {
   "cell_type": "code",
   "execution_count": 72,
   "metadata": {
    "colab": {},
    "colab_type": "code",
    "executionInfo": {
     "elapsed": 1170,
     "status": "ok",
     "timestamp": 1598880477256,
     "user": {
      "displayName": "Sutithi Chakraborty",
      "photoUrl": "",
      "userId": "12749148906436566424"
     },
     "user_tz": -330
    },
    "id": "jt_c8dCjeLF9"
   },
   "outputs": [],
   "source": [
    "# create an empty dataframe to store the scores for various algorithms\n",
    "score_card = pd.DataFrame(columns=['Model_Name', 'Alpha (Wherever Required)', 'l1-ratio', 'R-Squared',\n",
    "                                       'Adj. R-Squared', 'Test_RMSE', 'Test_MAPE'])\n",
    "\n",
    "# create a function to update the score card for comparision of the scores from different algorithms\n",
    "# pass the model name, model build, alpha and l1_ration as input parameters\n",
    "# if 'alpha' and/or 'l1_ratio' is not specified, the function assigns '-'\n",
    "def update_score_card(algorithm_name, model, alpha = '-', l1_ratio = '-'):\n",
    "    \n",
    "    # assign 'score_card' as global variable\n",
    "    global score_card\n",
    "\n",
    "    # append the results to the dataframe 'score_card'\n",
    "    # 'ignore_index = True' do not consider the index labels\n",
    "    score_card = score_card.append({'Model_Name': algorithm_name,\n",
    "                       'Alpha (Wherever Required)': alpha, \n",
    "                       'l1-ratio': l1_ratio, \n",
    "                       'Test_MAPE': get_test_mape(model), \n",
    "                       'Test_RMSE': get_test_rmse(model), \n",
    "                       'R-Squared': get_score(model)[0], \n",
    "                       'Adj. R-Squared': get_score(model)[1]}, ignore_index = True)"
   ]
  },
  {
   "cell_type": "markdown",
   "metadata": {
    "colab_type": "text",
    "id": "JV1gH-bJeLGA"
   },
   "source": [
    "#### Create a generalized function to plot a barchart for the coefficients"
   ]
  },
  {
   "cell_type": "code",
   "execution_count": 73,
   "metadata": {
    "colab": {},
    "colab_type": "code",
    "executionInfo": {
     "elapsed": 1385,
     "status": "ok",
     "timestamp": 1598880484217,
     "user": {
      "displayName": "Sutithi Chakraborty",
      "photoUrl": "",
      "userId": "12749148906436566424"
     },
     "user_tz": -330
    },
    "id": "eIdVdilWeLGA"
   },
   "outputs": [],
   "source": [
    "# define a function to plot a barplot\n",
    "# pass the model \n",
    "def plot_coefficients(model, algorithm_name):\n",
    "    # create a dataframe of variable names and their corresponding value of coefficients obtained from model\n",
    "    # 'columns' returns the column names of the dataframe 'X'\n",
    "    # 'coef_' returns the coefficient of each variable\n",
    "    df_coeff = pd.DataFrame({'Variable': X.columns, 'Coefficient': model.coef_})\n",
    "\n",
    "    # sort the dataframe in descending order\n",
    "    # 'sort_values' sorts the column based on the values\n",
    "    # 'ascending = False' sorts the values in the descending order\n",
    "    sorted_coeff = df_coeff.sort_values('Coefficient', ascending = False)\n",
    "\n",
    "    # plot a bar plot with Coefficient on the x-axis and Variable names on y-axis\n",
    "    # pass the data to the parameter, 'sorted_coeff' to plot the barplot\n",
    "    sns.barplot(x = \"Coefficient\", y = \"Variable\", data = sorted_coeff)\n",
    "    \n",
    "    # add x-axis label\n",
    "    # set the size of the text using 'fontsize'\n",
    "    plt.xlabel(\"Coefficients from {}\".format(algorithm_name), fontsize = 15)\n",
    "\n",
    "    # add y-axis label\n",
    "    # set the size of the text using 'fontsize'\n",
    "    plt.ylabel('Features', fontsize = 15)"
   ]
  },
  {
   "cell_type": "markdown",
   "metadata": {
    "colab_type": "text",
    "id": "tES6rlS1eLGC"
   },
   "source": [
    "<a id=\"linreg\"></a>\n",
    "# 3. Multiple Linear Regression (OLS)"
   ]
  },
  {
   "cell_type": "markdown",
   "metadata": {
    "colab_type": "text",
    "id": "EoxNvt9EeLGC"
   },
   "source": [
    "#### Build a MLR model on a training dataset."
   ]
  },
  {
   "cell_type": "code",
   "execution_count": 74,
   "metadata": {
    "colab": {
     "base_uri": "https://localhost:8080/",
     "height": 34
    },
    "colab_type": "code",
    "executionInfo": {
     "elapsed": 1109,
     "status": "ok",
     "timestamp": 1598880488771,
     "user": {
      "displayName": "Sutithi Chakraborty",
      "photoUrl": "",
      "userId": "12749148906436566424"
     },
     "user_tz": -330
    },
    "id": "YJxTxFEzeLGD",
    "outputId": "0469c884-4f90-464d-c922-c1caa609de86"
   },
   "outputs": [
    {
     "data": {
      "text/plain": [
       "0.5861565829183139"
      ]
     },
     "execution_count": 74,
     "metadata": {
      "tags": []
     },
     "output_type": "execute_result"
    }
   ],
   "source": [
    "# initiate linear regression model\n",
    "linreg = LinearRegression()\n",
    "\n",
    "# build the model using X_train and y_train\n",
    "# use fit() to fit the regression model\n",
    "MLR_model = linreg.fit(X_train, y_train)\n",
    "\n",
    "# print the R-squared value for the model\n",
    "# score() returns the R-squared value\n",
    "MLR_model.score(X_train, y_train)"
   ]
  },
  {
   "cell_type": "code",
   "execution_count": 75,
   "metadata": {
    "colab": {
     "base_uri": "https://localhost:8080/",
     "height": 67
    },
    "colab_type": "code",
    "executionInfo": {
     "elapsed": 1043,
     "status": "ok",
     "timestamp": 1598880492496,
     "user": {
      "displayName": "Sutithi Chakraborty",
      "photoUrl": "",
      "userId": "12749148906436566424"
     },
     "user_tz": -330
    },
    "id": "lrsN1EoFeLGG",
    "outputId": "8c877574-2a2f-4552-b9b0-a1de04758d05",
    "scrolled": true
   },
   "outputs": [
    {
     "name": "stdout",
     "output_type": "stream",
     "text": [
      "RMSE on train set:  0.6591\n",
      "RMSE on test set:  0.8634\n",
      "Difference between RMSE on train and test set:  0.20429999999999993\n"
     ]
    }
   ],
   "source": [
    "# print training RMSE\n",
    "print('RMSE on train set: ', get_train_rmse(MLR_model))\n",
    "\n",
    "# print training RMSE\n",
    "print('RMSE on test set: ', get_test_rmse(MLR_model))\n",
    "\n",
    "# calculate the difference between train and test set RMSE\n",
    "difference = abs(get_test_rmse(MLR_model) - get_train_rmse(MLR_model))\n",
    "\n",
    "# print the difference between train and test set RMSE\n",
    "print('Difference between RMSE on train and test set: ', difference)"
   ]
  },
  {
   "cell_type": "markdown",
   "metadata": {
    "colab_type": "text",
    "id": "S4ZareieeLGI"
   },
   "source": [
    "**Interpretation:** RMSE on the training set is 0.6591, while on the test set it is 0.8634. We can see that there is a large difference in the RMSE of the train and the test set. This implies that our model has overfitted on the train set. \n",
    "\n",
    "To deal with the problem of overfitting, we study the approach of `Regularization` in the later section. "
   ]
  },
  {
   "cell_type": "code",
   "execution_count": 76,
   "metadata": {
    "colab": {
     "base_uri": "https://localhost:8080/",
     "height": 77
    },
    "colab_type": "code",
    "executionInfo": {
     "elapsed": 1161,
     "status": "ok",
     "timestamp": 1598880496460,
     "user": {
      "displayName": "Sutithi Chakraborty",
      "photoUrl": "",
      "userId": "12749148906436566424"
     },
     "user_tz": -330
    },
    "id": "XRSvn9IWeLGI",
    "outputId": "ac88d978-365e-43be-974c-5383d57f0f2c"
   },
   "outputs": [
    {
     "data": {
      "text/html": [
       "<div>\n",
       "<style scoped>\n",
       "    .dataframe tbody tr th:only-of-type {\n",
       "        vertical-align: middle;\n",
       "    }\n",
       "\n",
       "    .dataframe tbody tr th {\n",
       "        vertical-align: top;\n",
       "    }\n",
       "\n",
       "    .dataframe thead th {\n",
       "        text-align: right;\n",
       "    }\n",
       "</style>\n",
       "<table border=\"1\" class=\"dataframe\">\n",
       "  <thead>\n",
       "    <tr style=\"text-align: right;\">\n",
       "      <th></th>\n",
       "      <th>Model_Name</th>\n",
       "      <th>Alpha (Wherever Required)</th>\n",
       "      <th>l1-ratio</th>\n",
       "      <th>R-Squared</th>\n",
       "      <th>Adj. R-Squared</th>\n",
       "      <th>Test_RMSE</th>\n",
       "      <th>Test_MAPE</th>\n",
       "    </tr>\n",
       "  </thead>\n",
       "  <tbody>\n",
       "    <tr>\n",
       "      <th>0</th>\n",
       "      <td>Linear Regression</td>\n",
       "      <td>-</td>\n",
       "      <td>-</td>\n",
       "      <td>0.586157</td>\n",
       "      <td>0.407974</td>\n",
       "      <td>0.863400</td>\n",
       "      <td>252.515937</td>\n",
       "    </tr>\n",
       "  </tbody>\n",
       "</table>\n",
       "</div>"
      ],
      "text/plain": [
       "          Model_Name Alpha (Wherever Required) l1-ratio  R-Squared  \\\n",
       "0  Linear Regression                         -        -   0.586157   \n",
       "\n",
       "   Adj. R-Squared  Test_RMSE  Test_MAPE  \n",
       "0        0.407974   0.863400 252.515937  "
      ]
     },
     "execution_count": 76,
     "metadata": {
      "tags": []
     },
     "output_type": "execute_result"
    }
   ],
   "source": [
    "# update the dataframe 'score_card'\n",
    "update_score_card(algorithm_name = 'Linear Regression', model = MLR_model)\n",
    "\n",
    "# print the dataframe\n",
    "score_card"
   ]
  },
  {
   "cell_type": "code",
   "execution_count": null,
   "metadata": {
    "colab": {},
    "colab_type": "code",
    "id": "jwrUAfuOeLGK"
   },
   "outputs": [],
   "source": []
  },
  {
   "cell_type": "markdown",
   "metadata": {
    "colab_type": "text",
    "id": "upVa8d0ceLGM"
   },
   "source": [
    "<a id=\"cv\"></a>\n",
    "# 4. Cross Validation"
   ]
  },
  {
   "cell_type": "markdown",
   "metadata": {
    "colab_type": "text",
    "id": "xdBunSVdeLGN"
   },
   "source": [
    "<a id=\"kfold\"></a>\n",
    "## 4.1 K-Fold Cross Validation\n",
    "K-Fold cross validation is where a given dataset is divided into `K` folds where at some stage each fold is used as a test set."
   ]
  },
  {
   "cell_type": "code",
   "execution_count": 77,
   "metadata": {
    "colab": {},
    "colab_type": "code",
    "executionInfo": {
     "elapsed": 1072,
     "status": "ok",
     "timestamp": 1598880501797,
     "user": {
      "displayName": "Sutithi Chakraborty",
      "photoUrl": "",
      "userId": "12749148906436566424"
     },
     "user_tz": -330
    },
    "id": "vsjtD9nzeLGN"
   },
   "outputs": [],
   "source": [
    "# n_splits: specify the number of k folds\n",
    "kf = KFold(n_splits = 5)"
   ]
  },
  {
   "cell_type": "code",
   "execution_count": 78,
   "metadata": {
    "colab": {},
    "colab_type": "code",
    "executionInfo": {
     "elapsed": 1092,
     "status": "ok",
     "timestamp": 1598880503657,
     "user": {
      "displayName": "Sutithi Chakraborty",
      "photoUrl": "",
      "userId": "12749148906436566424"
     },
     "user_tz": -330
    },
    "id": "xFrg61g3eLGP"
   },
   "outputs": [],
   "source": [
    "# create a function 'get_score' that returns the R-squared score for the training set\n",
    "# 'get_score' takes 5 input parameters\n",
    "def Get_score(model, X_train_k, X_test_k, y_train_k, y_test_k):\n",
    "    model.fit(X_train_k, y_train_k)                                   # fit the model\n",
    "    return model.score(X_test_k, y_test_k)                            # return the R-squared value"
   ]
  },
  {
   "cell_type": "code",
   "execution_count": 79,
   "metadata": {
    "colab": {},
    "colab_type": "code",
    "executionInfo": {
     "elapsed": 1091,
     "status": "ok",
     "timestamp": 1598880505872,
     "user": {
      "displayName": "Sutithi Chakraborty",
      "photoUrl": "",
      "userId": "12749148906436566424"
     },
     "user_tz": -330
    },
    "id": "bISn68C0nPx_"
   },
   "outputs": [],
   "source": [
    "# split data into train subset and test subset\n",
    "# set 'random_state' to generate the same dataset each time you run the code \n",
    "# 'test_size' returns the proportion of data to be included in the testing set\n",
    "X_train, X_test, y_train, y_test = train_test_split(X, y, random_state = 10, test_size = 0.3)"
   ]
  },
  {
   "cell_type": "code",
   "execution_count": 80,
   "metadata": {
    "colab": {
     "base_uri": "https://localhost:8080/",
     "height": 101
    },
    "colab_type": "code",
    "executionInfo": {
     "elapsed": 1275,
     "status": "ok",
     "timestamp": 1598880512015,
     "user": {
      "displayName": "Sutithi Chakraborty",
      "photoUrl": "",
      "userId": "12749148906436566424"
     },
     "user_tz": -330
    },
    "id": "Uqm_yVypeLGT",
    "outputId": "24eb82f4-99a9-4dfa-d367-5862d3f02b4f"
   },
   "outputs": [
    {
     "name": "stdout",
     "output_type": "stream",
     "text": [
      "All scores:  [-3.056908489366468, 0.04837632483674371, -0.23493810869189358, -0.2970685210304258, 0.0739571113428612]\n",
      "\n",
      "Minimum score obtained:  -3.0569\n",
      "Maximum score obtained:  0.074\n",
      "Average score obtained:  -0.6933\n"
     ]
    }
   ],
   "source": [
    "# create an empty list to store the scores\n",
    "scores = []\n",
    "\n",
    "# kf.split() splits the indices of X_train into train_index and test_index\n",
    "# further dividing the X_train and y_train sets into train and test sets for cross validation\n",
    "# Remember: Cross validation works on training set not on test set\n",
    "# use '\\' for stacking the code \n",
    "for train_index, test_index in kf.split(X_train):\n",
    "    X_train_k, X_test_k, y_train_k, y_test_k = X_train.iloc[train_index], X_train.iloc[test_index], \\\n",
    "                                               y_train.iloc[train_index], y_train.iloc[test_index]\n",
    "   \n",
    "    # call the function 'get_scores()' and append the scores in the list 'scores'\n",
    "    scores.append(Get_score(LinearRegression(), X_train_k, X_test_k, y_train_k, y_test_k)) \n",
    "    \n",
    "# print all scores\n",
    "print('All scores: ', scores)\n",
    "\n",
    "# print the minimum score from the list\n",
    "# use 'round()' to round-off the minimum score upto 4 digits\n",
    "# min() returns minimum score \n",
    "print(\"\\nMinimum score obtained: \", round(min(scores), 4))\n",
    "\n",
    "# print the maximum score from the list\n",
    "# use 'round()' to round-off the maximum score upto 4 digits\n",
    "# max() returns maximum score \n",
    "print(\"Maximum score obtained: \", round(max(scores), 4))\n",
    "\n",
    "# print the average score from the list\n",
    "# use 'round()' to round-off the average score upto 4 digits\n",
    "# np.mean() returns average score \n",
    "print(\"Average score obtained: \", round(np.mean(scores), 4))"
   ]
  },
  {
   "cell_type": "markdown",
   "metadata": {
    "colab_type": "text",
    "id": "cO2iosLFeLGV"
   },
   "source": [
    "### K-Fold Cross Validation using `cross_val_score()`"
   ]
  },
  {
   "cell_type": "markdown",
   "metadata": {
    "colab_type": "text",
    "id": "4lLLkB9peLGW"
   },
   "source": [
    "`cross_val_score()` also does the stratified sampling internally if required"
   ]
  },
  {
   "cell_type": "code",
   "execution_count": 81,
   "metadata": {
    "colab": {},
    "colab_type": "code",
    "executionInfo": {
     "elapsed": 1152,
     "status": "ok",
     "timestamp": 1598880516615,
     "user": {
      "displayName": "Sutithi Chakraborty",
      "photoUrl": "",
      "userId": "12749148906436566424"
     },
     "user_tz": -330
    },
    "id": "p09O1k2weLGW"
   },
   "outputs": [],
   "source": [
    "# using cross_val_score() for k-fold cross validation\n",
    "# estimator: pass the machine learning function. Here we are performing linear regression\n",
    "# pass the X_train and y_train sets\n",
    "# cv: stands for number of folds. Similar to k in KFold\n",
    "# scoring: pass the scoring parameter e.g. 'r2' for r-squared, 'neg_mean_squared_error' for mean squared error (negative)\n",
    "scores = cross_val_score(estimator = LinearRegression(), \n",
    "                         X = X_train, \n",
    "                         y = y_train, \n",
    "                         cv = 5, \n",
    "                         scoring = 'r2')"
   ]
  },
  {
   "cell_type": "code",
   "execution_count": 82,
   "metadata": {
    "colab": {
     "base_uri": "https://localhost:8080/",
     "height": 101
    },
    "colab_type": "code",
    "executionInfo": {
     "elapsed": 1041,
     "status": "ok",
     "timestamp": 1598880520396,
     "user": {
      "displayName": "Sutithi Chakraborty",
      "photoUrl": "",
      "userId": "12749148906436566424"
     },
     "user_tz": -330
    },
    "id": "FboH4OnNeLGY",
    "outputId": "9ef8f242-2c0b-4c4e-b32b-70809189a0e1"
   },
   "outputs": [
    {
     "name": "stdout",
     "output_type": "stream",
     "text": [
      "All scores:  [-3.05690849  0.04837632 -0.23493811 -0.29706852  0.07395711]\n",
      "\n",
      "Minimum score obtained:  -3.0569\n",
      "Maximum score obtained:  0.074\n",
      "Average score obtained:  -0.6933\n"
     ]
    }
   ],
   "source": [
    "# print all scores\n",
    "print('All scores: ', scores)\n",
    "\n",
    "# print the minimum score from the list\n",
    "# use 'round()' to round-off the minimum score upto 4 digits\n",
    "# min() returns minimum score \n",
    "print(\"\\nMinimum score obtained: \", round(min(scores), 4))\n",
    "\n",
    "# print the maximum score from the list\n",
    "# use 'round()' to round-off the maximum score upto 4 digits\n",
    "# max() returns maximum score \n",
    "print(\"Maximum score obtained: \", round(max(scores), 4))\n",
    "\n",
    "# print the average score from the list\n",
    "# use 'round()' to round-off the average score upto 4 digits\n",
    "# np.mean() returns average score \n",
    "print(\"Average score obtained: \", round(np.mean(scores), 4))"
   ]
  },
  {
   "cell_type": "markdown",
   "metadata": {
    "colab_type": "text",
    "id": "ca9Srp5EeLGb"
   },
   "source": [
    "We can see that we got the same scores from `KFold()` and `cross_val_score()`."
   ]
  },
  {
   "cell_type": "markdown",
   "metadata": {
    "colab_type": "text",
    "id": "mhraZsGslCSZ"
   },
   "source": [
    "<a id=\"loocv\"></a>\n",
    "## 4.2 Leave One Out Cross Validation (LOOCV)\n",
    "It is a process in which the model is trained on the training dataset, with the exception of only one data point, which is used to test the model. This method increases the variance, as only one data point is used for testing. LOOCV can be time consuming as k is equal to the number of observations.\n",
    "\n",
    "In LOOCV, the estimates from each fold are highly correlated and their average can have a high level of variance."
   ]
  },
  {
   "cell_type": "code",
   "execution_count": 83,
   "metadata": {
    "colab": {},
    "colab_type": "code",
    "executionInfo": {
     "elapsed": 1026,
     "status": "ok",
     "timestamp": 1598880525153,
     "user": {
      "displayName": "Sutithi Chakraborty",
      "photoUrl": "",
      "userId": "12749148906436566424"
     },
     "user_tz": -330
    },
    "id": "-yhgsvDhmp2s"
   },
   "outputs": [],
   "source": [
    "# split data into train subset and test subset\n",
    "# set 'random_state' to generate the same dataset each time you run the code \n",
    "# 'test_size' returns the proportion of data to be included in the testing set\n",
    "X_train, X_test, y_train, y_test = train_test_split(X, y, random_state = 10, test_size = 0.2)"
   ]
  },
  {
   "cell_type": "code",
   "execution_count": 84,
   "metadata": {
    "colab": {},
    "colab_type": "code",
    "executionInfo": {
     "elapsed": 993,
     "status": "ok",
     "timestamp": 1598880528642,
     "user": {
      "displayName": "Sutithi Chakraborty",
      "photoUrl": "",
      "userId": "12749148906436566424"
     },
     "user_tz": -330
    },
    "id": "ZlChpmffeLGj"
   },
   "outputs": [],
   "source": [
    "# creating a function 'get_score' that returns the R-squared score for the training set\n",
    "# 'get_score' takes 5 input parameters\n",
    "def Get_score(model, X_train_k, X_test_k, y_train_k, y_test_k):\n",
    "    model.fit(X_train_k, y_train_k)                               # fit the model\n",
    "    return model.score(X_test_k, y_test_k)                        # return the R-squared value"
   ]
  },
  {
   "cell_type": "code",
   "execution_count": 85,
   "metadata": {
    "colab": {},
    "colab_type": "code",
    "executionInfo": {
     "elapsed": 1363,
     "status": "ok",
     "timestamp": 1598880531640,
     "user": {
      "displayName": "Sutithi Chakraborty",
      "photoUrl": "",
      "userId": "12749148906436566424"
     },
     "user_tz": -330
    },
    "id": "kwNBWmUheLGl"
   },
   "outputs": [],
   "source": [
    "# create an empty to store the MSE for each model\n",
    "loocv_rmse = []\n",
    "\n",
    "# instantiate the LOOCV method \n",
    "loocv = LeaveOneOut()\n",
    "\n",
    "# use the for loop to build the regression model for each cross validation \n",
    "# use split() to split the dataset into two subsets; one with (n-1) data points and another with 1 data point\n",
    "# where, n = total number of observations\n",
    "\n",
    "for train_index, test_index in loocv.split(X_train):\n",
    "    # create the train dataset, use iloc[] to retrieve the corresponding observations in train data\n",
    "    # create the test dataset, use iloc[] to retrieve the corresponding observations in test data\n",
    "    # # use '\\' for stacking the code \n",
    "    X_train_l, X_test_l, y_train_l, y_test_l = X_train.iloc[train_index], X_train.iloc[test_index], \\\n",
    "                                               y_train.iloc[train_index], y_train.iloc[test_index]\n",
    "    \n",
    "    # instantiate the regression model\n",
    "    linreg = LinearRegression()\n",
    "    \n",
    "    # fit the model on training dataset\n",
    "    linreg.fit(X_train_l, y_train_l)\n",
    "    \n",
    "    # calculate MSE using test dataset\n",
    "    # use predict() to predict the values of target variable\n",
    "    mse = mean_squared_error(y_test_l, linreg.predict(X_test_l))\n",
    "    \n",
    "    # calculate the RMSE\n",
    "    rmse = np.sqrt(mse)\n",
    "    \n",
    "    # use append() to add each RMSE to the list 'loocv_rmse'\n",
    "    loocv_rmse.append(rmse)"
   ]
  },
  {
   "cell_type": "code",
   "execution_count": 86,
   "metadata": {
    "colab": {
     "base_uri": "https://localhost:8080/",
     "height": 84
    },
    "colab_type": "code",
    "executionInfo": {
     "elapsed": 995,
     "status": "ok",
     "timestamp": 1598880535348,
     "user": {
      "displayName": "Sutithi Chakraborty",
      "photoUrl": "",
      "userId": "12749148906436566424"
     },
     "user_tz": -330
    },
    "id": "jNrG4MbVeLGn",
    "outputId": "05eb7c5c-6a6d-4411-e7a6-b1d51f4e68be"
   },
   "outputs": [
    {
     "name": "stdout",
     "output_type": "stream",
     "text": [
      "\n",
      "Minimum rmse obtained:  0.0018\n",
      "Maximum rmse obtained:  2.887\n",
      "Average rmse obtained:  0.7281\n"
     ]
    }
   ],
   "source": [
    "# print the minimum rmse from the list\n",
    "# use 'round()' to round-off the minimum rmse upto 4 digits\n",
    "# min() returns minimum rmse \n",
    "print(\"\\nMinimum rmse obtained: \", round(min(loocv_rmse), 4))\n",
    "\n",
    "# print the maximum rmse from the list\n",
    "# use 'round()' to round-off the maximum rmse upto 4 digits\n",
    "# max() returns maximum rmse \n",
    "print(\"Maximum rmse obtained: \", round(max(loocv_rmse), 4))\n",
    "\n",
    "# print the average rmse from the list\n",
    "# use 'round()' to round-off the average rmse upto 4 digits\n",
    "# np.mean() returns average rmse \n",
    "print(\"Average rmse obtained: \", round(np.mean(loocv_rmse), 4))"
   ]
  },
  {
   "cell_type": "markdown",
   "metadata": {
    "colab_type": "text",
    "id": "eh-GSwXGeLGx"
   },
   "source": [
    "<a id=\"GD\"></a>\n",
    "# 5. Gradient Descent"
   ]
  },
  {
   "cell_type": "markdown",
   "metadata": {
    "colab_type": "text",
    "id": "xVHhFZnMeLGx"
   },
   "source": [
    "<a id=\"SGD\"></a>\n",
    "## 5.1 Stochastic Gradient Descent"
   ]
  },
  {
   "cell_type": "markdown",
   "metadata": {
    "colab_type": "text",
    "id": "JS_GVSEreLGx"
   },
   "source": [
    "The gradient descent method considers all the data points to calculate the values of the parameters at each step. For a very large dataset, this method becomes computationally expensive. To avoid this problem, we use Stochastic Gradient Descent (SGD) which considers a single data point (sample) to perform each iteration. Each sample is randomly selected for performing the iteration."
   ]
  },
  {
   "cell_type": "markdown",
   "metadata": {
    "colab_type": "text",
    "id": "clvLgIa6eLGy"
   },
   "source": [
    "####  Build MLR model using SGD method."
   ]
  },
  {
   "cell_type": "code",
   "execution_count": 87,
   "metadata": {
    "colab": {
     "base_uri": "https://localhost:8080/",
     "height": 50
    },
    "colab_type": "code",
    "executionInfo": {
     "elapsed": 1008,
     "status": "ok",
     "timestamp": 1598880539683,
     "user": {
      "displayName": "Sutithi Chakraborty",
      "photoUrl": "",
      "userId": "12749148906436566424"
     },
     "user_tz": -330
    },
    "id": "MnRBmT1MeLGy",
    "outputId": "3de847ea-a6dc-4e5b-85c3-838a5842747e"
   },
   "outputs": [
    {
     "name": "stdout",
     "output_type": "stream",
     "text": [
      "RMSE on train set: 0.7174\n",
      "RMSE on test set: 0.8136\n"
     ]
    }
   ],
   "source": [
    "# instantiate the SGDRegressor\n",
    "# set 'random_state' to generate the same dataset each time you run the code \n",
    "sgd = SGDRegressor(random_state = 10)\n",
    "\n",
    "# build the model on train data \n",
    "# use fit() to fit the model\n",
    "linreg_with_SGD = sgd.fit(X_train, y_train)\n",
    "\n",
    "# print RMSE for train set\n",
    "# call the function 'get_train_rmse'\n",
    "print('RMSE on train set:', get_train_rmse(linreg_with_SGD))\n",
    "\n",
    "# print RMSE for test set\n",
    "# call the function 'get_test_rmse'\n",
    "print('RMSE on test set:', get_test_rmse(linreg_with_SGD))"
   ]
  },
  {
   "cell_type": "markdown",
   "metadata": {
    "colab_type": "text",
    "id": "N6xhHI5xeLGz"
   },
   "source": [
    "#### Visualize the change in values of coefficients obtained from `MLR_model (using OLS)` and `linreg_with_SGD`"
   ]
  },
  {
   "cell_type": "code",
   "execution_count": 88,
   "metadata": {
    "colab": {
     "base_uri": "https://localhost:8080/",
     "height": 585
    },
    "colab_type": "code",
    "executionInfo": {
     "elapsed": 2401,
     "status": "ok",
     "timestamp": 1598880544162,
     "user": {
      "displayName": "Sutithi Chakraborty",
      "photoUrl": "",
      "userId": "12749148906436566424"
     },
     "user_tz": -330
    },
    "id": "ZgFGH_ZLeLG0",
    "outputId": "af8bce2a-0e74-4a85-bb10-b0929bcc35e4"
   },
   "outputs": [
    {
     "data": {
      "image/png": "[encoded data removed]",
      "text/plain": [
       "<Figure size 1080x576 with 2 Axes>"
      ]
     },
     "metadata": {
      "needs_background": "light",
      "tags": []
     },
     "output_type": "display_data"
    }
   ],
   "source": [
    "# subplot() is used to plot the multiple plots as a subplot\n",
    "# (1,2) plots a subplot of one row and two columns\n",
    "# pass the index of the plot as the third parameter of subplot()\n",
    "plt.subplot(1,2,1)\n",
    "plot_coefficients(MLR_model, 'Linear Regression (OLS)')\n",
    "\n",
    "# pass the index of the plot as the third parameter of subplot()\n",
    "plt.subplot(1,2,2)\n",
    "plot_coefficients(linreg_with_SGD, 'Linear Regression (SGD)')\n",
    "\n",
    "# to adjust the subplots\n",
    "plt.tight_layout()\n",
    "\n",
    "# display the plot\n",
    "plt.show()"
   ]
  },
  {
   "cell_type": "markdown",
   "metadata": {
    "colab_type": "text",
    "id": "9lwsmzGAeLG2"
   },
   "source": [
    "**Interpretation:** The coefficients obtained from SGD have smaller values as compared to the coefficients obtained from linear regression using OLS."
   ]
  },
  {
   "cell_type": "code",
   "execution_count": 89,
   "metadata": {
    "colab": {
     "base_uri": "https://localhost:8080/",
     "height": 106
    },
    "colab_type": "code",
    "executionInfo": {
     "elapsed": 1022,
     "status": "ok",
     "timestamp": 1598880547637,
     "user": {
      "displayName": "Sutithi Chakraborty",
      "photoUrl": "",
      "userId": "12749148906436566424"
     },
     "user_tz": -330
    },
    "id": "F-4BWAH-eLG3",
    "outputId": "af822ac7-0047-4d80-ef1f-666f0fa06cdd"
   },
   "outputs": [
    {
     "data": {
      "text/html": [
       "<div>\n",
       "<style scoped>\n",
       "    .dataframe tbody tr th:only-of-type {\n",
       "        vertical-align: middle;\n",
       "    }\n",
       "\n",
       "    .dataframe tbody tr th {\n",
       "        vertical-align: top;\n",
       "    }\n",
       "\n",
       "    .dataframe thead th {\n",
       "        text-align: right;\n",
       "    }\n",
       "</style>\n",
       "<table border=\"1\" class=\"dataframe\">\n",
       "  <thead>\n",
       "    <tr style=\"text-align: right;\">\n",
       "      <th></th>\n",
       "      <th>Model_Name</th>\n",
       "      <th>Alpha (Wherever Required)</th>\n",
       "      <th>l1-ratio</th>\n",
       "      <th>R-Squared</th>\n",
       "      <th>Adj. R-Squared</th>\n",
       "      <th>Test_RMSE</th>\n",
       "      <th>Test_MAPE</th>\n",
       "    </tr>\n",
       "  </thead>\n",
       "  <tbody>\n",
       "    <tr>\n",
       "      <th>0</th>\n",
       "      <td>Linear Regression</td>\n",
       "      <td>-</td>\n",
       "      <td>-</td>\n",
       "      <td>0.586157</td>\n",
       "      <td>0.407974</td>\n",
       "      <td>0.863400</td>\n",
       "      <td>252.515937</td>\n",
       "    </tr>\n",
       "    <tr>\n",
       "      <th>1</th>\n",
       "      <td>Linear Regression (using SGD)</td>\n",
       "      <td>-</td>\n",
       "      <td>-</td>\n",
       "      <td>0.509755</td>\n",
       "      <td>0.298677</td>\n",
       "      <td>0.813600</td>\n",
       "      <td>174.716611</td>\n",
       "    </tr>\n",
       "  </tbody>\n",
       "</table>\n",
       "</div>"
      ],
      "text/plain": [
       "                      Model_Name Alpha (Wherever Required) l1-ratio  \\\n",
       "0              Linear Regression                         -        -   \n",
       "1  Linear Regression (using SGD)                         -        -   \n",
       "\n",
       "   R-Squared  Adj. R-Squared  Test_RMSE  Test_MAPE  \n",
       "0   0.586157        0.407974   0.863400 252.515937  \n",
       "1   0.509755        0.298677   0.813600 174.716611  "
      ]
     },
     "execution_count": 89,
     "metadata": {
      "tags": []
     },
     "output_type": "execute_result"
    }
   ],
   "source": [
    "# update the dataframe 'score_card'\n",
    "update_score_card(algorithm_name = 'Linear Regression (using SGD)', model = linreg_with_SGD)\n",
    "\n",
    "# print the dataframe\n",
    "score_card"
   ]
  },
  {
   "cell_type": "markdown",
   "metadata": {
    "colab_type": "text",
    "id": "oiH434hkeLG6"
   },
   "source": [
    "<a id=\"regu\"></a>\n",
    "# 6. Regularization"
   ]
  },
  {
   "cell_type": "markdown",
   "metadata": {
    "colab_type": "text",
    "id": "JNis1ip8eLG6"
   },
   "source": [
    "One way to deal with the overfitting problem is by adding the `Regularization` to the model. It is observed that inflation of the coefficients cause overfitting. To prevent overfitting, it is important to regulate the coefficients by penalizing possible coefficient inflations. Regularization imposes penalties on parameters if they inflate to large values to prevent them from being weighted too heavily. In this section, we will learn about the three regularization techniques:\n",
    "\n",
    "1. Ridge Regression\n",
    "2. Lasso Regression\n",
    "3. Elastic Net Regression"
   ]
  },
  {
   "cell_type": "markdown",
   "metadata": {
    "colab_type": "text",
    "id": "MSN9SB_HeLG6"
   },
   "source": [
    "<a id=\"ridge\"></a>\n",
    "## 6.1 Ridge Regression"
   ]
  },
  {
   "cell_type": "markdown",
   "metadata": {
    "colab_type": "text",
    "id": "fd7KynZyeLG7"
   },
   "source": [
    "Most of the times our data can show multicollinearity in the variables. To analyze such data we can use `Ridge Regression`. It uses the L2 norm for regularization. "
   ]
  },
  {
   "cell_type": "markdown",
   "metadata": {
    "colab_type": "text",
    "id": "Zgss2qZEeLG7"
   },
   "source": [
    "#### Build regression model using Ridge Regression for alpha = 1."
   ]
  },
  {
   "cell_type": "code",
   "execution_count": 90,
   "metadata": {
    "colab": {
     "base_uri": "https://localhost:8080/",
     "height": 34
    },
    "colab_type": "code",
    "executionInfo": {
     "elapsed": 1082,
     "status": "ok",
     "timestamp": 1598880555545,
     "user": {
      "displayName": "Sutithi Chakraborty",
      "photoUrl": "",
      "userId": "12749148906436566424"
     },
     "user_tz": -330
    },
    "id": "Al5ECgb1eLG7",
    "outputId": "09f859b3-2870-4078-9c69-8aaea4edcf3a"
   },
   "outputs": [
    {
     "name": "stdout",
     "output_type": "stream",
     "text": [
      "RMSE on test set: 0.838\n"
     ]
    }
   ],
   "source": [
    "# use Ridge() to perform ridge regression\n",
    "# 'alpha' assigns the regularization strength to the model\n",
    "# 'max_iter' assigns maximum number of iterations for the model to run \n",
    "ridge = Ridge(alpha = 1, max_iter = 500)\n",
    "\n",
    "# fit the model on train set\n",
    "ridge.fit(X_train, y_train)\n",
    "\n",
    "# print RMSE for test set\n",
    "# call the function 'get_test_rmse'\n",
    "print('RMSE on test set:', get_test_rmse(ridge))"
   ]
  },
  {
   "cell_type": "markdown",
   "metadata": {
    "colab_type": "text",
    "id": "17HITpu1eLG9"
   },
   "source": [
    "**Interpretation:** After applying the ridge regression with alpha equal to one, we get 0.838 as the RMSE value."
   ]
  },
  {
   "cell_type": "code",
   "execution_count": 91,
   "metadata": {
    "colab": {
     "base_uri": "https://localhost:8080/",
     "height": 136
    },
    "colab_type": "code",
    "executionInfo": {
     "elapsed": 1287,
     "status": "ok",
     "timestamp": 1598880559407,
     "user": {
      "displayName": "Sutithi Chakraborty",
      "photoUrl": "",
      "userId": "12749148906436566424"
     },
     "user_tz": -330
    },
    "id": "X77YpBQseLG9",
    "outputId": "93929e86-0000-4ffb-fd23-98c8a68d0a6c"
   },
   "outputs": [
    {
     "data": {
      "text/html": [
       "<div>\n",
       "<style scoped>\n",
       "    .dataframe tbody tr th:only-of-type {\n",
       "        vertical-align: middle;\n",
       "    }\n",
       "\n",
       "    .dataframe tbody tr th {\n",
       "        vertical-align: top;\n",
       "    }\n",
       "\n",
       "    .dataframe thead th {\n",
       "        text-align: right;\n",
       "    }\n",
       "</style>\n",
       "<table border=\"1\" class=\"dataframe\">\n",
       "  <thead>\n",
       "    <tr style=\"text-align: right;\">\n",
       "      <th></th>\n",
       "      <th>Model_Name</th>\n",
       "      <th>Alpha (Wherever Required)</th>\n",
       "      <th>l1-ratio</th>\n",
       "      <th>R-Squared</th>\n",
       "      <th>Adj. R-Squared</th>\n",
       "      <th>Test_RMSE</th>\n",
       "      <th>Test_MAPE</th>\n",
       "    </tr>\n",
       "  </thead>\n",
       "  <tbody>\n",
       "    <tr>\n",
       "      <th>0</th>\n",
       "      <td>Linear Regression</td>\n",
       "      <td>-</td>\n",
       "      <td>-</td>\n",
       "      <td>0.586157</td>\n",
       "      <td>0.407974</td>\n",
       "      <td>0.863400</td>\n",
       "      <td>252.515937</td>\n",
       "    </tr>\n",
       "    <tr>\n",
       "      <th>1</th>\n",
       "      <td>Linear Regression (using SGD)</td>\n",
       "      <td>-</td>\n",
       "      <td>-</td>\n",
       "      <td>0.509755</td>\n",
       "      <td>0.298677</td>\n",
       "      <td>0.813600</td>\n",
       "      <td>174.716611</td>\n",
       "    </tr>\n",
       "    <tr>\n",
       "      <th>2</th>\n",
       "      <td>Ridge Regression (with alpha = 1)</td>\n",
       "      <td>1</td>\n",
       "      <td>-</td>\n",
       "      <td>0.573461</td>\n",
       "      <td>0.389812</td>\n",
       "      <td>0.838000</td>\n",
       "      <td>255.654207</td>\n",
       "    </tr>\n",
       "  </tbody>\n",
       "</table>\n",
       "</div>"
      ],
      "text/plain": [
       "                          Model_Name Alpha (Wherever Required) l1-ratio  \\\n",
       "0                  Linear Regression                         -        -   \n",
       "1      Linear Regression (using SGD)                         -        -   \n",
       "2  Ridge Regression (with alpha = 1)                         1        -   \n",
       "\n",
       "   R-Squared  Adj. R-Squared  Test_RMSE  Test_MAPE  \n",
       "0   0.586157        0.407974   0.863400 252.515937  \n",
       "1   0.509755        0.298677   0.813600 174.716611  \n",
       "2   0.573461        0.389812   0.838000 255.654207  "
      ]
     },
     "execution_count": 91,
     "metadata": {
      "tags": []
     },
     "output_type": "execute_result"
    }
   ],
   "source": [
    "# update the dataframe 'score_card'\n",
    "update_score_card(algorithm_name='Ridge Regression (with alpha = 1)', model = ridge, alpha = 1)\n",
    "\n",
    "# print the dataframe\n",
    "score_card"
   ]
  },
  {
   "cell_type": "markdown",
   "metadata": {
    "colab_type": "text",
    "id": "sUXoWHzZeLG_"
   },
   "source": [
    "#### Build regression model using Ridge Regression for alpha = 2."
   ]
  },
  {
   "cell_type": "code",
   "execution_count": 92,
   "metadata": {
    "colab": {
     "base_uri": "https://localhost:8080/",
     "height": 34
    },
    "colab_type": "code",
    "executionInfo": {
     "elapsed": 1243,
     "status": "ok",
     "timestamp": 1598880563862,
     "user": {
      "displayName": "Sutithi Chakraborty",
      "photoUrl": "",
      "userId": "12749148906436566424"
     },
     "user_tz": -330
    },
    "id": "PxHLoEcoeLG_",
    "outputId": "7e7921ba-3766-4aec-8307-8cee96e9b646"
   },
   "outputs": [
    {
     "name": "stdout",
     "output_type": "stream",
     "text": [
      "RMSE on test set: 0.8317\n"
     ]
    }
   ],
   "source": [
    "# use Ridge() to perform ridge regression\n",
    "# 'alpha' assigns the regularization strength to the model\n",
    "# 'max_iter' assigns maximum number of iterations for the model to run\n",
    "ridge = Ridge(alpha = 2, max_iter = 500)\n",
    "\n",
    "# fit the model on train set\n",
    "ridge.fit(X_train, y_train)\n",
    "\n",
    "\n",
    "# print RMSE for test set\n",
    "# call the function 'get_test_rmse'\n",
    "print('RMSE on test set:', get_test_rmse(ridge))"
   ]
  },
  {
   "cell_type": "markdown",
   "metadata": {
    "colab_type": "text",
    "id": "hLjTCedueLHA"
   },
   "source": [
    "**Interpretation:** After applying the ridge regression with alpha equal to two, the RMSE value decreased to 0.8317."
   ]
  },
  {
   "cell_type": "markdown",
   "metadata": {
    "colab_type": "text",
    "id": "tjN_saLseLHA"
   },
   "source": [
    "#### Visualize the change in values of coefficients obtained from `MLR_model (using OLS)` and `ridge_model`"
   ]
  },
  {
   "cell_type": "code",
   "execution_count": 93,
   "metadata": {
    "colab": {
     "base_uri": "https://localhost:8080/",
     "height": 585
    },
    "colab_type": "code",
    "executionInfo": {
     "elapsed": 2450,
     "status": "ok",
     "timestamp": 1598880570142,
     "user": {
      "displayName": "Sutithi Chakraborty",
      "photoUrl": "",
      "userId": "12749148906436566424"
     },
     "user_tz": -330
    },
    "id": "3Pb7-YpzeLHB",
    "outputId": "2315b2fb-3acc-43f8-adf5-8aa5f70a0c9c"
   },
   "outputs": [
    {
     "data": {
      "image/png": "[encoded data removed]",
      "text/plain": [
       "<Figure size 1080x576 with 2 Axes>"
      ]
     },
     "metadata": {
      "needs_background": "light",
      "tags": []
     },
     "output_type": "display_data"
    }
   ],
   "source": [
    "# subplot() is used to plot the multiple plots as a subplot\n",
    "# (1,2) plots a subplot of one row and two columns\n",
    "# pass the index of the plot as the third parameter of subplot()\n",
    "plt.subplot(1,2,1)\n",
    "plot_coefficients(MLR_model, 'Linear Regression (OLS)')\n",
    "\n",
    "# pass the index of the plot as the third parameter of subplot()\n",
    "plt.subplot(1,2,2)\n",
    "plot_coefficients(ridge, 'Ridge Regression (alpha = 2)')\n",
    "\n",
    "# to adjust the subplots\n",
    "plt.tight_layout()\n",
    "\n",
    "# display the plot\n",
    "plt.show()"
   ]
  },
  {
   "cell_type": "markdown",
   "metadata": {
    "colab_type": "text",
    "id": "noeBTzA8eLHC"
   },
   "source": [
    "**Interpretation:** The coefficients obtained from ridge regression have smaller values as compared to the coefficients obtained from linear regression using OLS."
   ]
  },
  {
   "cell_type": "code",
   "execution_count": 94,
   "metadata": {
    "colab": {
     "base_uri": "https://localhost:8080/",
     "height": 166
    },
    "colab_type": "code",
    "executionInfo": {
     "elapsed": 1023,
     "status": "ok",
     "timestamp": 1598880573897,
     "user": {
      "displayName": "Sutithi Chakraborty",
      "photoUrl": "",
      "userId": "12749148906436566424"
     },
     "user_tz": -330
    },
    "id": "VyFHlWBPeLHC",
    "outputId": "4d5e26d6-b2aa-4ef8-893d-58e57c46b240",
    "scrolled": true
   },
   "outputs": [
    {
     "data": {
      "text/html": [
       "<div>\n",
       "<style scoped>\n",
       "    .dataframe tbody tr th:only-of-type {\n",
       "        vertical-align: middle;\n",
       "    }\n",
       "\n",
       "    .dataframe tbody tr th {\n",
       "        vertical-align: top;\n",
       "    }\n",
       "\n",
       "    .dataframe thead th {\n",
       "        text-align: right;\n",
       "    }\n",
       "</style>\n",
       "<table border=\"1\" class=\"dataframe\">\n",
       "  <thead>\n",
       "    <tr style=\"text-align: right;\">\n",
       "      <th></th>\n",
       "      <th>Model_Name</th>\n",
       "      <th>Alpha (Wherever Required)</th>\n",
       "      <th>l1-ratio</th>\n",
       "      <th>R-Squared</th>\n",
       "      <th>Adj. R-Squared</th>\n",
       "      <th>Test_RMSE</th>\n",
       "      <th>Test_MAPE</th>\n",
       "    </tr>\n",
       "  </thead>\n",
       "  <tbody>\n",
       "    <tr>\n",
       "      <th>0</th>\n",
       "      <td>Linear Regression</td>\n",
       "      <td>-</td>\n",
       "      <td>-</td>\n",
       "      <td>0.586157</td>\n",
       "      <td>0.407974</td>\n",
       "      <td>0.863400</td>\n",
       "      <td>252.515937</td>\n",
       "    </tr>\n",
       "    <tr>\n",
       "      <th>1</th>\n",
       "      <td>Linear Regression (using SGD)</td>\n",
       "      <td>-</td>\n",
       "      <td>-</td>\n",
       "      <td>0.509755</td>\n",
       "      <td>0.298677</td>\n",
       "      <td>0.813600</td>\n",
       "      <td>174.716611</td>\n",
       "    </tr>\n",
       "    <tr>\n",
       "      <th>2</th>\n",
       "      <td>Ridge Regression (with alpha = 1)</td>\n",
       "      <td>1</td>\n",
       "      <td>-</td>\n",
       "      <td>0.573461</td>\n",
       "      <td>0.389812</td>\n",
       "      <td>0.838000</td>\n",
       "      <td>255.654207</td>\n",
       "    </tr>\n",
       "    <tr>\n",
       "      <th>3</th>\n",
       "      <td>Ridge Regression (with alpha = 2)</td>\n",
       "      <td>2</td>\n",
       "      <td>-</td>\n",
       "      <td>0.561194</td>\n",
       "      <td>0.372264</td>\n",
       "      <td>0.831700</td>\n",
       "      <td>239.940149</td>\n",
       "    </tr>\n",
       "  </tbody>\n",
       "</table>\n",
       "</div>"
      ],
      "text/plain": [
       "                          Model_Name Alpha (Wherever Required) l1-ratio  \\\n",
       "0                  Linear Regression                         -        -   \n",
       "1      Linear Regression (using SGD)                         -        -   \n",
       "2  Ridge Regression (with alpha = 1)                         1        -   \n",
       "3  Ridge Regression (with alpha = 2)                         2        -   \n",
       "\n",
       "   R-Squared  Adj. R-Squared  Test_RMSE  Test_MAPE  \n",
       "0   0.586157        0.407974   0.863400 252.515937  \n",
       "1   0.509755        0.298677   0.813600 174.716611  \n",
       "2   0.573461        0.389812   0.838000 255.654207  \n",
       "3   0.561194        0.372264   0.831700 239.940149  "
      ]
     },
     "execution_count": 94,
     "metadata": {
      "tags": []
     },
     "output_type": "execute_result"
    }
   ],
   "source": [
    "# update the dataframe 'score_card'\n",
    "update_score_card(algorithm_name = 'Ridge Regression (with alpha = 2)', model = ridge, alpha = '2')\n",
    "\n",
    "# print the datarframe\n",
    "score_card"
   ]
  },
  {
   "cell_type": "markdown",
   "metadata": {
    "colab_type": "text",
    "id": "po3QkWg9eLHE"
   },
   "source": [
    "<a id=\"lasso\"></a>\n",
    "## 6.2 Lasso Regression"
   ]
  },
  {
   "cell_type": "markdown",
   "metadata": {
    "colab_type": "text",
    "id": "QPOz3sPReLHF"
   },
   "source": [
    "Lasso regression shrinks the less important variable's coefficient to zero which makes this technique more useful when we are dealing with large number of variables. It is a type of regularization technique that uses L1 norm for regularization. "
   ]
  },
  {
   "cell_type": "code",
   "execution_count": 95,
   "metadata": {
    "colab": {
     "base_uri": "https://localhost:8080/",
     "height": 34
    },
    "colab_type": "code",
    "executionInfo": {
     "elapsed": 1053,
     "status": "ok",
     "timestamp": 1598880579078,
     "user": {
      "displayName": "Sutithi Chakraborty",
      "photoUrl": "",
      "userId": "12749148906436566424"
     },
     "user_tz": -330
    },
    "id": "mPWCDcH5eLHF",
    "outputId": "25357d9f-7beb-4a66-bcb5-f4262da161bf"
   },
   "outputs": [
    {
     "name": "stdout",
     "output_type": "stream",
     "text": [
      "RMSE on test set: 0.8198\n"
     ]
    }
   ],
   "source": [
    "# use Lasso() to perform lasso regression\n",
    "# 'alpha' assigns the regularization strength to the model\n",
    "# 'max_iter' assigns maximum number of iterations for the model to run\n",
    "lasso = Lasso(alpha = 0.01, max_iter = 500)\n",
    "\n",
    "# fit the model on train set\n",
    "lasso.fit(X_train, y_train)\n",
    "\n",
    "# print RMSE for test set\n",
    "# call the function 'get_test_rmse'\n",
    "print('RMSE on test set:', get_test_rmse(lasso))"
   ]
  },
  {
   "cell_type": "markdown",
   "metadata": {
    "colab_type": "text",
    "id": "_K4zaa8zeLHH"
   },
   "source": [
    "**Interpretation:** After applying the lasso regression with alpha equal to 0.01, the RMSE value is 0.8198."
   ]
  },
  {
   "cell_type": "markdown",
   "metadata": {
    "colab_type": "text",
    "id": "OF1jj2f1eLHH"
   },
   "source": [
    "#### Visualize the change in values of coefficients obtained from `MLR_model (using OLS)` and `lasso_model`"
   ]
  },
  {
   "cell_type": "code",
   "execution_count": 96,
   "metadata": {
    "colab": {
     "base_uri": "https://localhost:8080/",
     "height": 585
    },
    "colab_type": "code",
    "executionInfo": {
     "elapsed": 2665,
     "status": "ok",
     "timestamp": 1598880585475,
     "user": {
      "displayName": "Sutithi Chakraborty",
      "photoUrl": "",
      "userId": "12749148906436566424"
     },
     "user_tz": -330
    },
    "id": "PZsucSBJeLHH",
    "outputId": "bd685309-6d7c-4c3b-dcf9-49bbed46326c"
   },
   "outputs": [
    {
     "data": {
      "image/png": "[encoded data removed]",
      "text/plain": [
       "<Figure size 1080x576 with 2 Axes>"
      ]
     },
     "metadata": {
      "needs_background": "light",
      "tags": []
     },
     "output_type": "display_data"
    }
   ],
   "source": [
    "# subplot() is used to plot the multiple plots as a subplot\n",
    "# (1,2) plots a subplot of one row and two columns\n",
    "# pass the index of the plot as the third parameter of subplot()\n",
    "plt.subplot(1,2,1)\n",
    "plot_coefficients(MLR_model, 'Linear Regression (OLS)')\n",
    "\n",
    "# pass the index of the plot as the third parameter of subplot()\n",
    "plt.subplot(1,2,2)\n",
    "plot_coefficients(lasso, 'Lasso Regression (alpha = 0.01)')\n",
    "\n",
    "# to adjust the subplots\n",
    "plt.tight_layout()\n",
    "\n",
    "# display the plot\n",
    "plt.show()"
   ]
  },
  {
   "cell_type": "markdown",
   "metadata": {
    "colab_type": "text",
    "id": "GduO1acSeLHJ"
   },
   "source": [
    "**Interpretation:** The second subplot (on the right) shows that the lasso regression have reduced the coefficients of some variables to zero.\n",
    "\n",
    "Let us print the list of variables with zero coefficient."
   ]
  },
  {
   "cell_type": "code",
   "execution_count": 97,
   "metadata": {
    "colab": {
     "base_uri": "https://localhost:8080/",
     "height": 218
    },
    "colab_type": "code",
    "executionInfo": {
     "elapsed": 1063,
     "status": "ok",
     "timestamp": 1598880589216,
     "user": {
      "displayName": "Sutithi Chakraborty",
      "photoUrl": "",
      "userId": "12749148906436566424"
     },
     "user_tz": -330
    },
    "id": "V8ltUbzDeLHJ",
    "outputId": "24a9480b-4f44-418a-b167-3f9b0a2e5acf"
   },
   "outputs": [
    {
     "name": "stdout",
     "output_type": "stream",
     "text": [
      "Insignificant variables obtained from Lasso Regression when alpha is 0.01\n"
     ]
    },
    {
     "data": {
      "text/plain": [
       "['ODI-SR-BL',\n",
       " 'WKTS',\n",
       " 'ECON',\n",
       " 'SR-BL',\n",
       " 'COUNTRY_BAN',\n",
       " 'COUNTRY_NZ',\n",
       " 'COUNTRY_PAK',\n",
       " 'COUNTRY_SA',\n",
       " 'COUNTRY_WI',\n",
       " 'COUNTRY_ZIM',\n",
       " 'PLAYING ROLE_Bowler']"
      ]
     },
     "execution_count": 97,
     "metadata": {
      "tags": []
     },
     "output_type": "execute_result"
    }
   ],
   "source": [
    "# create a dataframe to store the variable names and their corresponding coefficient values.\n",
    "df_lasso_coeff = pd.DataFrame({'Variable': X.columns, 'Coefficient': lasso.coef_})\n",
    "\n",
    "# print the variables having the coefficient value equal to zero\n",
    "# 'to_list()' converts the output to the list type\n",
    "print('Insignificant variables obtained from Lasso Regression when alpha is 0.01')\n",
    "df_lasso_coeff.Variable[df_lasso_coeff.Coefficient == 0].to_list()"
   ]
  },
  {
   "cell_type": "code",
   "execution_count": 98,
   "metadata": {
    "colab": {
     "base_uri": "https://localhost:8080/",
     "height": 195
    },
    "colab_type": "code",
    "executionInfo": {
     "elapsed": 1065,
     "status": "ok",
     "timestamp": 1598880594393,
     "user": {
      "displayName": "Sutithi Chakraborty",
      "photoUrl": "",
      "userId": "12749148906436566424"
     },
     "user_tz": -330
    },
    "id": "LRIbP-xkeLHL",
    "outputId": "b278a8ee-bd97-4f3f-b14e-22d68af91fb8"
   },
   "outputs": [
    {
     "data": {
      "text/html": [
       "<div>\n",
       "<style scoped>\n",
       "    .dataframe tbody tr th:only-of-type {\n",
       "        vertical-align: middle;\n",
       "    }\n",
       "\n",
       "    .dataframe tbody tr th {\n",
       "        vertical-align: top;\n",
       "    }\n",
       "\n",
       "    .dataframe thead th {\n",
       "        text-align: right;\n",
       "    }\n",
       "</style>\n",
       "<table border=\"1\" class=\"dataframe\">\n",
       "  <thead>\n",
       "    <tr style=\"text-align: right;\">\n",
       "      <th></th>\n",
       "      <th>Model_Name</th>\n",
       "      <th>Alpha (Wherever Required)</th>\n",
       "      <th>l1-ratio</th>\n",
       "      <th>R-Squared</th>\n",
       "      <th>Adj. R-Squared</th>\n",
       "      <th>Test_RMSE</th>\n",
       "      <th>Test_MAPE</th>\n",
       "    </tr>\n",
       "  </thead>\n",
       "  <tbody>\n",
       "    <tr>\n",
       "      <th>0</th>\n",
       "      <td>Linear Regression</td>\n",
       "      <td>-</td>\n",
       "      <td>-</td>\n",
       "      <td>0.586157</td>\n",
       "      <td>0.407974</td>\n",
       "      <td>0.863400</td>\n",
       "      <td>252.515937</td>\n",
       "    </tr>\n",
       "    <tr>\n",
       "      <th>1</th>\n",
       "      <td>Linear Regression (using SGD)</td>\n",
       "      <td>-</td>\n",
       "      <td>-</td>\n",
       "      <td>0.509755</td>\n",
       "      <td>0.298677</td>\n",
       "      <td>0.813600</td>\n",
       "      <td>174.716611</td>\n",
       "    </tr>\n",
       "    <tr>\n",
       "      <th>2</th>\n",
       "      <td>Ridge Regression (with alpha = 1)</td>\n",
       "      <td>1</td>\n",
       "      <td>-</td>\n",
       "      <td>0.573461</td>\n",
       "      <td>0.389812</td>\n",
       "      <td>0.838000</td>\n",
       "      <td>255.654207</td>\n",
       "    </tr>\n",
       "    <tr>\n",
       "      <th>3</th>\n",
       "      <td>Ridge Regression (with alpha = 2)</td>\n",
       "      <td>2</td>\n",
       "      <td>-</td>\n",
       "      <td>0.561194</td>\n",
       "      <td>0.372264</td>\n",
       "      <td>0.831700</td>\n",
       "      <td>239.940149</td>\n",
       "    </tr>\n",
       "    <tr>\n",
       "      <th>4</th>\n",
       "      <td>Lasso Regression</td>\n",
       "      <td>0.01</td>\n",
       "      <td>-</td>\n",
       "      <td>0.543715</td>\n",
       "      <td>0.347259</td>\n",
       "      <td>0.819800</td>\n",
       "      <td>210.014068</td>\n",
       "    </tr>\n",
       "  </tbody>\n",
       "</table>\n",
       "</div>"
      ],
      "text/plain": [
       "                          Model_Name Alpha (Wherever Required) l1-ratio  \\\n",
       "0                  Linear Regression                         -        -   \n",
       "1      Linear Regression (using SGD)                         -        -   \n",
       "2  Ridge Regression (with alpha = 1)                         1        -   \n",
       "3  Ridge Regression (with alpha = 2)                         2        -   \n",
       "4                   Lasso Regression                      0.01        -   \n",
       "\n",
       "   R-Squared  Adj. R-Squared  Test_RMSE  Test_MAPE  \n",
       "0   0.586157        0.407974   0.863400 252.515937  \n",
       "1   0.509755        0.298677   0.813600 174.716611  \n",
       "2   0.573461        0.389812   0.838000 255.654207  \n",
       "3   0.561194        0.372264   0.831700 239.940149  \n",
       "4   0.543715        0.347259   0.819800 210.014068  "
      ]
     },
     "execution_count": 98,
     "metadata": {
      "tags": []
     },
     "output_type": "execute_result"
    }
   ],
   "source": [
    "# update the dataframe 'score_card'\n",
    "update_score_card(algorithm_name = 'Lasso Regression', model = lasso, alpha = '0.01')\n",
    "\n",
    "# print the datarframe\n",
    "score_card"
   ]
  },
  {
   "cell_type": "markdown",
   "metadata": {
    "colab_type": "text",
    "id": "dyH7eKOjeLHM"
   },
   "source": [
    "<a id=\"elastic\"></a>\n",
    "## 6.3 Elastic Net Regression"
   ]
  },
  {
   "cell_type": "markdown",
   "metadata": {
    "colab_type": "text",
    "id": "8CUCCaSteLHN"
   },
   "source": [
    "This technique is a combination of Rigde and Lasso reression techniques. It considers the linear combination of penalties for L1 and L2 regularization."
   ]
  },
  {
   "cell_type": "code",
   "execution_count": 99,
   "metadata": {
    "colab": {
     "base_uri": "https://localhost:8080/",
     "height": 34
    },
    "colab_type": "code",
    "executionInfo": {
     "elapsed": 1169,
     "status": "ok",
     "timestamp": 1598880604545,
     "user": {
      "displayName": "Sutithi Chakraborty",
      "photoUrl": "",
      "userId": "12749148906436566424"
     },
     "user_tz": -330
    },
    "id": "8JPe9ddpeLHN",
    "outputId": "00854a36-1e97-412c-8e66-244522072cb9"
   },
   "outputs": [
    {
     "name": "stdout",
     "output_type": "stream",
     "text": [
      "RMSE on test set: 0.7984\n"
     ]
    }
   ],
   "source": [
    "# use ElasticNet() to perform Elastic Net regression\n",
    "# 'alpha' assigns the regularization strength to the model\n",
    "# 'l1_ratio' is the ElasticNet mixing parameter\n",
    "# 'l1_ratio = 0' performs Ridge regression\n",
    "# 'l1_ratio = 1' performs Lasso regression\n",
    "# pass number of iterations to 'max_iter'\n",
    "enet = ElasticNet(alpha = 0.1, l1_ratio = 0.01, max_iter = 500)\n",
    "\n",
    "# fit the model on train data\n",
    "enet.fit(X_train, y_train)\n",
    "\n",
    "\n",
    "# print RMSE for test set\n",
    "# call the function 'get_test_rmse'\n",
    "print('RMSE on test set:', get_test_rmse(enet))"
   ]
  },
  {
   "cell_type": "markdown",
   "metadata": {
    "colab_type": "text",
    "id": "kztMWmB8eLHO"
   },
   "source": [
    "**Interpretation:** With the elastic-net regression, we get 0.7984 as the RMSE value."
   ]
  },
  {
   "cell_type": "markdown",
   "metadata": {
    "colab_type": "text",
    "id": "_n1ExkcweLHO"
   },
   "source": [
    "#### Visualize the change in values of coefficients obtained from `MLR_model (using OLS)` and `Elastic Net regression`"
   ]
  },
  {
   "cell_type": "code",
   "execution_count": 100,
   "metadata": {
    "colab": {
     "base_uri": "https://localhost:8080/",
     "height": 585
    },
    "colab_type": "code",
    "executionInfo": {
     "elapsed": 2518,
     "status": "ok",
     "timestamp": 1598880611691,
     "user": {
      "displayName": "Sutithi Chakraborty",
      "photoUrl": "",
      "userId": "12749148906436566424"
     },
     "user_tz": -330
    },
    "id": "Uf844UDFeLHO",
    "outputId": "da8d262c-9225-44d8-e3a7-6b38c0c59941"
   },
   "outputs": [
    {
     "data": {
      "image/png": "[encoded data removed]",
      "text/plain": [
       "<Figure size 1080x576 with 2 Axes>"
      ]
     },
     "metadata": {
      "needs_background": "light",
      "tags": []
     },
     "output_type": "display_data"
    }
   ],
   "source": [
    "# subplot() is used to plot the multiple plots as a subplot\n",
    "# (1,2) plots a subplot of one row and two columns\n",
    "# pass the index of the plot as the third parameter of subplot()\n",
    "plt.subplot(1,2,1)\n",
    "plot_coefficients(MLR_model, 'Linear Regression (OLS)')\n",
    "\n",
    "# pass the index of the plot as the third parameter of subplot()\n",
    "plt.subplot(1,2,2)\n",
    "plot_coefficients(enet, 'Elastic Net Regression')\n",
    "\n",
    "# to adjust the subplots\n",
    "plt.tight_layout()\n",
    "\n",
    "# display the plot\n",
    "plt.show()"
   ]
  },
  {
   "cell_type": "code",
   "execution_count": 101,
   "metadata": {
    "colab": {
     "base_uri": "https://localhost:8080/",
     "height": 225
    },
    "colab_type": "code",
    "executionInfo": {
     "elapsed": 1040,
     "status": "ok",
     "timestamp": 1598880617263,
     "user": {
      "displayName": "Sutithi Chakraborty",
      "photoUrl": "",
      "userId": "12749148906436566424"
     },
     "user_tz": -330
    },
    "id": "Gm-s1cb9eLHQ",
    "outputId": "ca7fc97a-39f1-4f9f-db79-7d0270f7f837"
   },
   "outputs": [
    {
     "data": {
      "text/html": [
       "<div>\n",
       "<style scoped>\n",
       "    .dataframe tbody tr th:only-of-type {\n",
       "        vertical-align: middle;\n",
       "    }\n",
       "\n",
       "    .dataframe tbody tr th {\n",
       "        vertical-align: top;\n",
       "    }\n",
       "\n",
       "    .dataframe thead th {\n",
       "        text-align: right;\n",
       "    }\n",
       "</style>\n",
       "<table border=\"1\" class=\"dataframe\">\n",
       "  <thead>\n",
       "    <tr style=\"text-align: right;\">\n",
       "      <th></th>\n",
       "      <th>Model_Name</th>\n",
       "      <th>Alpha (Wherever Required)</th>\n",
       "      <th>l1-ratio</th>\n",
       "      <th>R-Squared</th>\n",
       "      <th>Adj. R-Squared</th>\n",
       "      <th>Test_RMSE</th>\n",
       "      <th>Test_MAPE</th>\n",
       "    </tr>\n",
       "  </thead>\n",
       "  <tbody>\n",
       "    <tr>\n",
       "      <th>0</th>\n",
       "      <td>Linear Regression</td>\n",
       "      <td>-</td>\n",
       "      <td>-</td>\n",
       "      <td>0.586157</td>\n",
       "      <td>0.407974</td>\n",
       "      <td>0.863400</td>\n",
       "      <td>252.515937</td>\n",
       "    </tr>\n",
       "    <tr>\n",
       "      <th>1</th>\n",
       "      <td>Linear Regression (using SGD)</td>\n",
       "      <td>-</td>\n",
       "      <td>-</td>\n",
       "      <td>0.509755</td>\n",
       "      <td>0.298677</td>\n",
       "      <td>0.813600</td>\n",
       "      <td>174.716611</td>\n",
       "    </tr>\n",
       "    <tr>\n",
       "      <th>2</th>\n",
       "      <td>Ridge Regression (with alpha = 1)</td>\n",
       "      <td>1</td>\n",
       "      <td>-</td>\n",
       "      <td>0.573461</td>\n",
       "      <td>0.389812</td>\n",
       "      <td>0.838000</td>\n",
       "      <td>255.654207</td>\n",
       "    </tr>\n",
       "    <tr>\n",
       "      <th>3</th>\n",
       "      <td>Ridge Regression (with alpha = 2)</td>\n",
       "      <td>2</td>\n",
       "      <td>-</td>\n",
       "      <td>0.561194</td>\n",
       "      <td>0.372264</td>\n",
       "      <td>0.831700</td>\n",
       "      <td>239.940149</td>\n",
       "    </tr>\n",
       "    <tr>\n",
       "      <th>4</th>\n",
       "      <td>Lasso Regression</td>\n",
       "      <td>0.01</td>\n",
       "      <td>-</td>\n",
       "      <td>0.543715</td>\n",
       "      <td>0.347259</td>\n",
       "      <td>0.819800</td>\n",
       "      <td>210.014068</td>\n",
       "    </tr>\n",
       "    <tr>\n",
       "      <th>5</th>\n",
       "      <td>Elastic Net Regression</td>\n",
       "      <td>0.1</td>\n",
       "      <td>0.01</td>\n",
       "      <td>0.500086</td>\n",
       "      <td>0.284845</td>\n",
       "      <td>0.798400</td>\n",
       "      <td>169.139566</td>\n",
       "    </tr>\n",
       "  </tbody>\n",
       "</table>\n",
       "</div>"
      ],
      "text/plain": [
       "                          Model_Name Alpha (Wherever Required) l1-ratio  \\\n",
       "0                  Linear Regression                         -        -   \n",
       "1      Linear Regression (using SGD)                         -        -   \n",
       "2  Ridge Regression (with alpha = 1)                         1        -   \n",
       "3  Ridge Regression (with alpha = 2)                         2        -   \n",
       "4                   Lasso Regression                      0.01        -   \n",
       "5             Elastic Net Regression                       0.1     0.01   \n",
       "\n",
       "   R-Squared  Adj. R-Squared  Test_RMSE  Test_MAPE  \n",
       "0   0.586157        0.407974   0.863400 252.515937  \n",
       "1   0.509755        0.298677   0.813600 174.716611  \n",
       "2   0.573461        0.389812   0.838000 255.654207  \n",
       "3   0.561194        0.372264   0.831700 239.940149  \n",
       "4   0.543715        0.347259   0.819800 210.014068  \n",
       "5   0.500086        0.284845   0.798400 169.139566  "
      ]
     },
     "execution_count": 101,
     "metadata": {
      "tags": []
     },
     "output_type": "execute_result"
    }
   ],
   "source": [
    "# update the dataframe 'score_card'\n",
    "update_score_card(algorithm_name = 'Elastic Net Regression', model = enet, alpha = '0.1', l1_ratio = '0.01')\n",
    "\n",
    "# print the datarframe\n",
    "score_card"
   ]
  },
  {
   "cell_type": "markdown",
   "metadata": {
    "colab_type": "text",
    "id": "1zXJGcoQeLHR"
   },
   "source": [
    "<a id=\"GScv\"></a>\n",
    "# 7. GridSearchCV"
   ]
  },
  {
   "cell_type": "markdown",
   "metadata": {
    "colab_type": "text",
    "id": "YGen1lioeLHS"
   },
   "source": [
    "Hyperparameters are the parameters in the model that are preset by the user. GridSearch considers all the combinations of hyperparameters and returns the best hyperparameter values. Following are some of the parameters that GridSearchCV takes:\n",
    "\n",
    "1. estimator: pass the machine learning algorithm model\n",
    "2. param_grid: takes a dictionary having parameter names as keys and list of parameters as values\n",
    "3. cv: number of folds for k-fold cross validation"
   ]
  },
  {
   "cell_type": "markdown",
   "metadata": {
    "colab_type": "text",
    "id": "dgc4De1_eLHS"
   },
   "source": [
    "### Find optimal value of alpha for `Ridge Regression`"
   ]
  },
  {
   "cell_type": "code",
   "execution_count": 102,
   "metadata": {
    "colab": {
     "base_uri": "https://localhost:8080/",
     "height": 67
    },
    "colab_type": "code",
    "executionInfo": {
     "elapsed": 1632,
     "status": "ok",
     "timestamp": 1598880624228,
     "user": {
      "displayName": "Sutithi Chakraborty",
      "photoUrl": "",
      "userId": "12749148906436566424"
     },
     "user_tz": -330
    },
    "id": "sNXzmIbseLHS",
    "outputId": "1a3f36e1-c80f-4e1a-80c9-ed4fd0699f62"
   },
   "outputs": [
    {
     "name": "stdout",
     "output_type": "stream",
     "text": [
      "Best parameters for Ridge Regression:  {'alpha': 20} \n",
      "\n",
      "RMSE on test set: 0.7812\n"
     ]
    }
   ],
   "source": [
    "# create a dictionary with hyperparameters and its values\n",
    "# 'alpha' assigns the regularization strength to the model\n",
    "# 'max_iter' assigns maximum number of iterations for the model to run\n",
    "tuned_paramaters = [{'alpha':[1e-15, 1e-10, 1e-8, 1e-4,1e-3, 1e-2, 0.1, 1, 5, 10, 20, 40, 60, 80, 100]}]\n",
    " \n",
    "# initiate the ridge regression model\n",
    "ridge = Ridge()\n",
    "\n",
    "# use GridSearchCV() to find the optimal value of alpha\n",
    "# estimator: pass the ridge regression model\n",
    "# param_grid: pass the list 'tuned_parameters'\n",
    "# cv: number of folds in k-fold i.e. here cv = 10\n",
    "ridge_grid = GridSearchCV(estimator = ridge, \n",
    "                          param_grid = tuned_paramaters, \n",
    "                          cv = 10)\n",
    "\n",
    "# fit the model on X_train and y_train using fit()\n",
    "ridge_grid.fit(X_train, y_train)\n",
    "\n",
    "# get the best parameters\n",
    "print('Best parameters for Ridge Regression: ', ridge_grid.best_params_, '\\n')\n",
    "\n",
    "# print the RMSE for test set using the model having optimal value of alpha\n",
    "print('RMSE on test set:', get_test_rmse(ridge_grid))"
   ]
  },
  {
   "cell_type": "markdown",
   "metadata": {
    "colab_type": "text",
    "id": "s0X_oKoNeLHT"
   },
   "source": [
    "**Interpretation:** With the optimal value of alpha that we got from GridSearchCV, the RMSE of test set decreased to 0.7812."
   ]
  },
  {
   "cell_type": "code",
   "execution_count": 103,
   "metadata": {
    "colab": {
     "base_uri": "https://localhost:8080/",
     "height": 254
    },
    "colab_type": "code",
    "executionInfo": {
     "elapsed": 1010,
     "status": "ok",
     "timestamp": 1598880628356,
     "user": {
      "displayName": "Sutithi Chakraborty",
      "photoUrl": "",
      "userId": "12749148906436566424"
     },
     "user_tz": -330
    },
    "id": "UK67Vn_zeLHU",
    "outputId": "5baafcf7-37bb-4207-af7b-7ca4194c732d",
    "scrolled": true
   },
   "outputs": [
    {
     "data": {
      "text/html": [
       "<div>\n",
       "<style scoped>\n",
       "    .dataframe tbody tr th:only-of-type {\n",
       "        vertical-align: middle;\n",
       "    }\n",
       "\n",
       "    .dataframe tbody tr th {\n",
       "        vertical-align: top;\n",
       "    }\n",
       "\n",
       "    .dataframe thead th {\n",
       "        text-align: right;\n",
       "    }\n",
       "</style>\n",
       "<table border=\"1\" class=\"dataframe\">\n",
       "  <thead>\n",
       "    <tr style=\"text-align: right;\">\n",
       "      <th></th>\n",
       "      <th>Model_Name</th>\n",
       "      <th>Alpha (Wherever Required)</th>\n",
       "      <th>l1-ratio</th>\n",
       "      <th>R-Squared</th>\n",
       "      <th>Adj. R-Squared</th>\n",
       "      <th>Test_RMSE</th>\n",
       "      <th>Test_MAPE</th>\n",
       "    </tr>\n",
       "  </thead>\n",
       "  <tbody>\n",
       "    <tr>\n",
       "      <th>0</th>\n",
       "      <td>Linear Regression</td>\n",
       "      <td>-</td>\n",
       "      <td>-</td>\n",
       "      <td>0.586157</td>\n",
       "      <td>0.407974</td>\n",
       "      <td>0.863400</td>\n",
       "      <td>252.515937</td>\n",
       "    </tr>\n",
       "    <tr>\n",
       "      <th>1</th>\n",
       "      <td>Linear Regression (using SGD)</td>\n",
       "      <td>-</td>\n",
       "      <td>-</td>\n",
       "      <td>0.509755</td>\n",
       "      <td>0.298677</td>\n",
       "      <td>0.813600</td>\n",
       "      <td>174.716611</td>\n",
       "    </tr>\n",
       "    <tr>\n",
       "      <th>2</th>\n",
       "      <td>Ridge Regression (with alpha = 1)</td>\n",
       "      <td>1</td>\n",
       "      <td>-</td>\n",
       "      <td>0.573461</td>\n",
       "      <td>0.389812</td>\n",
       "      <td>0.838000</td>\n",
       "      <td>255.654207</td>\n",
       "    </tr>\n",
       "    <tr>\n",
       "      <th>3</th>\n",
       "      <td>Ridge Regression (with alpha = 2)</td>\n",
       "      <td>2</td>\n",
       "      <td>-</td>\n",
       "      <td>0.561194</td>\n",
       "      <td>0.372264</td>\n",
       "      <td>0.831700</td>\n",
       "      <td>239.940149</td>\n",
       "    </tr>\n",
       "    <tr>\n",
       "      <th>4</th>\n",
       "      <td>Lasso Regression</td>\n",
       "      <td>0.01</td>\n",
       "      <td>-</td>\n",
       "      <td>0.543715</td>\n",
       "      <td>0.347259</td>\n",
       "      <td>0.819800</td>\n",
       "      <td>210.014068</td>\n",
       "    </tr>\n",
       "    <tr>\n",
       "      <th>5</th>\n",
       "      <td>Elastic Net Regression</td>\n",
       "      <td>0.1</td>\n",
       "      <td>0.01</td>\n",
       "      <td>0.500086</td>\n",
       "      <td>0.284845</td>\n",
       "      <td>0.798400</td>\n",
       "      <td>169.139566</td>\n",
       "    </tr>\n",
       "    <tr>\n",
       "      <th>6</th>\n",
       "      <td>Ridge Regression (using GridSearchCV)</td>\n",
       "      <td>20</td>\n",
       "      <td>-</td>\n",
       "      <td>0.464135</td>\n",
       "      <td>0.233416</td>\n",
       "      <td>0.781200</td>\n",
       "      <td>145.067851</td>\n",
       "    </tr>\n",
       "  </tbody>\n",
       "</table>\n",
       "</div>"
      ],
      "text/plain": [
       "                              Model_Name Alpha (Wherever Required) l1-ratio  \\\n",
       "0                      Linear Regression                         -        -   \n",
       "1          Linear Regression (using SGD)                         -        -   \n",
       "2      Ridge Regression (with alpha = 1)                         1        -   \n",
       "3      Ridge Regression (with alpha = 2)                         2        -   \n",
       "4                       Lasso Regression                      0.01        -   \n",
       "5                 Elastic Net Regression                       0.1     0.01   \n",
       "6  Ridge Regression (using GridSearchCV)                        20        -   \n",
       "\n",
       "   R-Squared  Adj. R-Squared  Test_RMSE  Test_MAPE  \n",
       "0   0.586157        0.407974   0.863400 252.515937  \n",
       "1   0.509755        0.298677   0.813600 174.716611  \n",
       "2   0.573461        0.389812   0.838000 255.654207  \n",
       "3   0.561194        0.372264   0.831700 239.940149  \n",
       "4   0.543715        0.347259   0.819800 210.014068  \n",
       "5   0.500086        0.284845   0.798400 169.139566  \n",
       "6   0.464135        0.233416   0.781200 145.067851  "
      ]
     },
     "execution_count": 103,
     "metadata": {
      "tags": []
     },
     "output_type": "execute_result"
    }
   ],
   "source": [
    "# update the dataframe 'score_card'\n",
    "# 'best_params_' returns the dictionary containig best parameter values and parameter name  \n",
    "# 'get()' returns the value of specified parameter\n",
    "update_score_card(algorithm_name = 'Ridge Regression (using GridSearchCV)', \n",
    "                  model = ridge_grid, \n",
    "                  alpha = ridge_grid.best_params_.get('alpha'))\n",
    "\n",
    "# print the datarframe\n",
    "score_card"
   ]
  },
  {
   "cell_type": "markdown",
   "metadata": {
    "colab_type": "text",
    "id": "vKx2O__qeLHX"
   },
   "source": [
    "### Find optimal value of alpha for `Lasso Regression`"
   ]
  },
  {
   "cell_type": "code",
   "execution_count": 104,
   "metadata": {
    "colab": {
     "base_uri": "https://localhost:8080/",
     "height": 67
    },
    "colab_type": "code",
    "executionInfo": {
     "elapsed": 1423,
     "status": "ok",
     "timestamp": 1598880633006,
     "user": {
      "displayName": "Sutithi Chakraborty",
      "photoUrl": "",
      "userId": "12749148906436566424"
     },
     "user_tz": -330
    },
    "id": "JoU-aHEFeLHX",
    "outputId": "192da6dd-2ebf-45ea-c96a-a23bdd98f563"
   },
   "outputs": [
    {
     "name": "stdout",
     "output_type": "stream",
     "text": [
      "Best parameters for Lasso Regression:  {'alpha': 0.1} \n",
      "\n",
      "RMSE on test set: 0.7845\n"
     ]
    }
   ],
   "source": [
    "# create a dictionary with hyperparameters and its values\n",
    "# 'alpha' assigns the regularization strength to the model\n",
    "# 'max_iter' assigns maximum number of iterations for the model to run\n",
    "tuned_paramaters = [{'alpha':[1e-15, 1e-10, 1e-8, 0.0001, 0.001, 0.01, 0.1, 1, 5, 10, 20]}]\n",
    "                     \n",
    "# 'max_iter':100,500,1000,1500,2000\n",
    " \n",
    "# initiate the lasso regression model \n",
    "lasso = Lasso()\n",
    "\n",
    "# use GridSearchCV() to find the optimal value of alpha\n",
    "# estimator: pass the lasso regression model\n",
    "# param_grid: pass the list 'tuned_parameters'\n",
    "# cv: number of folds in k-fold i.e. here cv = 10\n",
    "lasso_grid = GridSearchCV(estimator = lasso, \n",
    "                          param_grid = tuned_paramaters, \n",
    "                          cv = 10)\n",
    "\n",
    "# fit the model on X_train and y_train using fit()\n",
    "lasso_grid.fit(X_train, y_train)\n",
    "\n",
    "# get the best parameters\n",
    "print('Best parameters for Lasso Regression: ', lasso_grid.best_params_, '\\n')\n",
    "\n",
    "# print the RMSE for the test set using the model having optimal value of alpha\n",
    "print('RMSE on test set:', get_test_rmse(lasso_grid))"
   ]
  },
  {
   "cell_type": "markdown",
   "metadata": {
    "colab_type": "text",
    "id": "xE58ptY-eLHY"
   },
   "source": [
    "**Interpretation:** With the optimal value of alpha that we got from GridSearchCV, the RMSE of test set is 0.7845."
   ]
  },
  {
   "cell_type": "code",
   "execution_count": 105,
   "metadata": {
    "colab": {
     "base_uri": "https://localhost:8080/",
     "height": 284
    },
    "colab_type": "code",
    "executionInfo": {
     "elapsed": 1196,
     "status": "ok",
     "timestamp": 1598880637721,
     "user": {
      "displayName": "Sutithi Chakraborty",
      "photoUrl": "",
      "userId": "12749148906436566424"
     },
     "user_tz": -330
    },
    "id": "GinvgI5keLHY",
    "outputId": "ff38bee9-36d2-42ea-b3db-63c586d900bd",
    "scrolled": true
   },
   "outputs": [
    {
     "data": {
      "text/html": [
       "<div>\n",
       "<style scoped>\n",
       "    .dataframe tbody tr th:only-of-type {\n",
       "        vertical-align: middle;\n",
       "    }\n",
       "\n",
       "    .dataframe tbody tr th {\n",
       "        vertical-align: top;\n",
       "    }\n",
       "\n",
       "    .dataframe thead th {\n",
       "        text-align: right;\n",
       "    }\n",
       "</style>\n",
       "<table border=\"1\" class=\"dataframe\">\n",
       "  <thead>\n",
       "    <tr style=\"text-align: right;\">\n",
       "      <th></th>\n",
       "      <th>Model_Name</th>\n",
       "      <th>Alpha (Wherever Required)</th>\n",
       "      <th>l1-ratio</th>\n",
       "      <th>R-Squared</th>\n",
       "      <th>Adj. R-Squared</th>\n",
       "      <th>Test_RMSE</th>\n",
       "      <th>Test_MAPE</th>\n",
       "    </tr>\n",
       "  </thead>\n",
       "  <tbody>\n",
       "    <tr>\n",
       "      <th>0</th>\n",
       "      <td>Linear Regression</td>\n",
       "      <td>-</td>\n",
       "      <td>-</td>\n",
       "      <td>0.586157</td>\n",
       "      <td>0.407974</td>\n",
       "      <td>0.863400</td>\n",
       "      <td>252.515937</td>\n",
       "    </tr>\n",
       "    <tr>\n",
       "      <th>1</th>\n",
       "      <td>Linear Regression (using SGD)</td>\n",
       "      <td>-</td>\n",
       "      <td>-</td>\n",
       "      <td>0.509755</td>\n",
       "      <td>0.298677</td>\n",
       "      <td>0.813600</td>\n",
       "      <td>174.716611</td>\n",
       "    </tr>\n",
       "    <tr>\n",
       "      <th>2</th>\n",
       "      <td>Ridge Regression (with alpha = 1)</td>\n",
       "      <td>1</td>\n",
       "      <td>-</td>\n",
       "      <td>0.573461</td>\n",
       "      <td>0.389812</td>\n",
       "      <td>0.838000</td>\n",
       "      <td>255.654207</td>\n",
       "    </tr>\n",
       "    <tr>\n",
       "      <th>3</th>\n",
       "      <td>Ridge Regression (with alpha = 2)</td>\n",
       "      <td>2</td>\n",
       "      <td>-</td>\n",
       "      <td>0.561194</td>\n",
       "      <td>0.372264</td>\n",
       "      <td>0.831700</td>\n",
       "      <td>239.940149</td>\n",
       "    </tr>\n",
       "    <tr>\n",
       "      <th>4</th>\n",
       "      <td>Lasso Regression</td>\n",
       "      <td>0.01</td>\n",
       "      <td>-</td>\n",
       "      <td>0.543715</td>\n",
       "      <td>0.347259</td>\n",
       "      <td>0.819800</td>\n",
       "      <td>210.014068</td>\n",
       "    </tr>\n",
       "    <tr>\n",
       "      <th>5</th>\n",
       "      <td>Elastic Net Regression</td>\n",
       "      <td>0.1</td>\n",
       "      <td>0.01</td>\n",
       "      <td>0.500086</td>\n",
       "      <td>0.284845</td>\n",
       "      <td>0.798400</td>\n",
       "      <td>169.139566</td>\n",
       "    </tr>\n",
       "    <tr>\n",
       "      <th>6</th>\n",
       "      <td>Ridge Regression (using GridSearchCV)</td>\n",
       "      <td>20</td>\n",
       "      <td>-</td>\n",
       "      <td>0.464135</td>\n",
       "      <td>0.233416</td>\n",
       "      <td>0.781200</td>\n",
       "      <td>145.067851</td>\n",
       "    </tr>\n",
       "    <tr>\n",
       "      <th>7</th>\n",
       "      <td>Lasso Regression (using GridSearchCV)</td>\n",
       "      <td>0.100000</td>\n",
       "      <td>-</td>\n",
       "      <td>0.320183</td>\n",
       "      <td>0.027485</td>\n",
       "      <td>0.784500</td>\n",
       "      <td>172.591089</td>\n",
       "    </tr>\n",
       "  </tbody>\n",
       "</table>\n",
       "</div>"
      ],
      "text/plain": [
       "                              Model_Name Alpha (Wherever Required) l1-ratio  \\\n",
       "0                      Linear Regression                         -        -   \n",
       "1          Linear Regression (using SGD)                         -        -   \n",
       "2      Ridge Regression (with alpha = 1)                         1        -   \n",
       "3      Ridge Regression (with alpha = 2)                         2        -   \n",
       "4                       Lasso Regression                      0.01        -   \n",
       "5                 Elastic Net Regression                       0.1     0.01   \n",
       "6  Ridge Regression (using GridSearchCV)                        20        -   \n",
       "7  Lasso Regression (using GridSearchCV)                  0.100000        -   \n",
       "\n",
       "   R-Squared  Adj. R-Squared  Test_RMSE  Test_MAPE  \n",
       "0   0.586157        0.407974   0.863400 252.515937  \n",
       "1   0.509755        0.298677   0.813600 174.716611  \n",
       "2   0.573461        0.389812   0.838000 255.654207  \n",
       "3   0.561194        0.372264   0.831700 239.940149  \n",
       "4   0.543715        0.347259   0.819800 210.014068  \n",
       "5   0.500086        0.284845   0.798400 169.139566  \n",
       "6   0.464135        0.233416   0.781200 145.067851  \n",
       "7   0.320183        0.027485   0.784500 172.591089  "
      ]
     },
     "execution_count": 105,
     "metadata": {
      "tags": []
     },
     "output_type": "execute_result"
    }
   ],
   "source": [
    "# update the dataframe 'score_card'\n",
    "# 'best_params_' returns the dictionary containig best parameter values and parameter name  \n",
    "# 'get()' returns the value of specified parameter\n",
    "update_score_card(algorithm_name = 'Lasso Regression (using GridSearchCV)', \n",
    "                  model = lasso_grid, \n",
    "                  alpha = lasso_grid.best_params_.get('alpha'))\n",
    "\n",
    "# print the datarframe\n",
    "score_card"
   ]
  },
  {
   "cell_type": "markdown",
   "metadata": {
    "colab_type": "text",
    "id": "0eBWc2FheLHb"
   },
   "source": [
    "### Find optimal value of alpha for `Elastic Net Regression`"
   ]
  },
  {
   "cell_type": "code",
   "execution_count": 106,
   "metadata": {
    "colab": {
     "base_uri": "https://localhost:8080/",
     "height": 67
    },
    "colab_type": "code",
    "executionInfo": {
     "elapsed": 4434,
     "status": "ok",
     "timestamp": 1598880648519,
     "user": {
      "displayName": "Sutithi Chakraborty",
      "photoUrl": "",
      "userId": "12749148906436566424"
     },
     "user_tz": -330
    },
    "id": "BKaRBaWfeLHb",
    "outputId": "0d182e89-bcfe-453c-8939-879dfb5b30a5"
   },
   "outputs": [
    {
     "name": "stdout",
     "output_type": "stream",
     "text": [
      "Best parameters for Elastic Net Regression:  {'alpha': 0.1, 'l1_ratio': 0.0001} \n",
      "\n",
      "RMSE on test set: 0.7972\n"
     ]
    }
   ],
   "source": [
    "# create a dictionary with hyperparameters and its values\n",
    "# 'alpha' assigns the regularization strength to the model\n",
    "# 'l1_ratio' is the ElasticNet mixing parameter\n",
    "# 'max_iter' assigns maximum number of iterations for the model to run\n",
    "tuned_paramaters = [{'alpha':[0.0001, 0.001, 0.01, 0.1, 1, 5, 10, 20, 40, 60],\n",
    "                      'l1_ratio':[0.0001, 0.0002, 0.001, 0.01, 0.1, 0.2]}]\n",
    "\n",
    "# initiate the elastic net regression model  \n",
    "enet = ElasticNet()\n",
    "\n",
    "# use GridSearchCV() to find the optimal value of alpha and l1_ratio\n",
    "# estimator: pass the elastic net regression model\n",
    "# param_grid: pass the list 'tuned_parameters'\n",
    "# cv: number of folds in k-fold i.e. here cv = 10\n",
    "enet_grid = GridSearchCV(estimator = enet, \n",
    "                          param_grid = tuned_paramaters, \n",
    "                          cv = 10)\n",
    "\n",
    "# fit the model on X_train and y_train using fit()\n",
    "enet_grid.fit(X_train, y_train)\n",
    "\n",
    "# get the best parameters\n",
    "print('Best parameters for Elastic Net Regression: ', enet_grid.best_params_, '\\n')\n",
    "\n",
    "# print the RMSE for the test set using the model having optimal value of alpha and l1-ratio\n",
    "print('RMSE on test set:', get_test_rmse(enet_grid))"
   ]
  },
  {
   "cell_type": "markdown",
   "metadata": {
    "colab_type": "text",
    "id": "qQtB_faleLHd"
   },
   "source": [
    "**Interpretation:** With the optimal value of alpha that we got from GridSearchCV, the RMSE of test set is 0.7972. "
   ]
  },
  {
   "cell_type": "code",
   "execution_count": 107,
   "metadata": {
    "colab": {
     "base_uri": "https://localhost:8080/",
     "height": 314
    },
    "colab_type": "code",
    "executionInfo": {
     "elapsed": 1123,
     "status": "ok",
     "timestamp": 1598880652847,
     "user": {
      "displayName": "Sutithi Chakraborty",
      "photoUrl": "",
      "userId": "12749148906436566424"
     },
     "user_tz": -330
    },
    "id": "xx8UQvqPeLHd",
    "outputId": "fe7eb4b1-db50-4acf-ec53-af49ff499a30"
   },
   "outputs": [
    {
     "data": {
      "text/html": [
       "<div>\n",
       "<style scoped>\n",
       "    .dataframe tbody tr th:only-of-type {\n",
       "        vertical-align: middle;\n",
       "    }\n",
       "\n",
       "    .dataframe tbody tr th {\n",
       "        vertical-align: top;\n",
       "    }\n",
       "\n",
       "    .dataframe thead th {\n",
       "        text-align: right;\n",
       "    }\n",
       "</style>\n",
       "<table border=\"1\" class=\"dataframe\">\n",
       "  <thead>\n",
       "    <tr style=\"text-align: right;\">\n",
       "      <th></th>\n",
       "      <th>Model_Name</th>\n",
       "      <th>Alpha (Wherever Required)</th>\n",
       "      <th>l1-ratio</th>\n",
       "      <th>R-Squared</th>\n",
       "      <th>Adj. R-Squared</th>\n",
       "      <th>Test_RMSE</th>\n",
       "      <th>Test_MAPE</th>\n",
       "    </tr>\n",
       "  </thead>\n",
       "  <tbody>\n",
       "    <tr>\n",
       "      <th>0</th>\n",
       "      <td>Linear Regression</td>\n",
       "      <td>-</td>\n",
       "      <td>-</td>\n",
       "      <td>0.586157</td>\n",
       "      <td>0.407974</td>\n",
       "      <td>0.863400</td>\n",
       "      <td>252.515937</td>\n",
       "    </tr>\n",
       "    <tr>\n",
       "      <th>1</th>\n",
       "      <td>Linear Regression (using SGD)</td>\n",
       "      <td>-</td>\n",
       "      <td>-</td>\n",
       "      <td>0.509755</td>\n",
       "      <td>0.298677</td>\n",
       "      <td>0.813600</td>\n",
       "      <td>174.716611</td>\n",
       "    </tr>\n",
       "    <tr>\n",
       "      <th>2</th>\n",
       "      <td>Ridge Regression (with alpha = 1)</td>\n",
       "      <td>1</td>\n",
       "      <td>-</td>\n",
       "      <td>0.573461</td>\n",
       "      <td>0.389812</td>\n",
       "      <td>0.838000</td>\n",
       "      <td>255.654207</td>\n",
       "    </tr>\n",
       "    <tr>\n",
       "      <th>3</th>\n",
       "      <td>Ridge Regression (with alpha = 2)</td>\n",
       "      <td>2</td>\n",
       "      <td>-</td>\n",
       "      <td>0.561194</td>\n",
       "      <td>0.372264</td>\n",
       "      <td>0.831700</td>\n",
       "      <td>239.940149</td>\n",
       "    </tr>\n",
       "    <tr>\n",
       "      <th>4</th>\n",
       "      <td>Lasso Regression</td>\n",
       "      <td>0.01</td>\n",
       "      <td>-</td>\n",
       "      <td>0.543715</td>\n",
       "      <td>0.347259</td>\n",
       "      <td>0.819800</td>\n",
       "      <td>210.014068</td>\n",
       "    </tr>\n",
       "    <tr>\n",
       "      <th>5</th>\n",
       "      <td>Elastic Net Regression</td>\n",
       "      <td>0.1</td>\n",
       "      <td>0.01</td>\n",
       "      <td>0.500086</td>\n",
       "      <td>0.284845</td>\n",
       "      <td>0.798400</td>\n",
       "      <td>169.139566</td>\n",
       "    </tr>\n",
       "    <tr>\n",
       "      <th>6</th>\n",
       "      <td>Ridge Regression (using GridSearchCV)</td>\n",
       "      <td>20</td>\n",
       "      <td>-</td>\n",
       "      <td>0.464135</td>\n",
       "      <td>0.233416</td>\n",
       "      <td>0.781200</td>\n",
       "      <td>145.067851</td>\n",
       "    </tr>\n",
       "    <tr>\n",
       "      <th>7</th>\n",
       "      <td>Lasso Regression (using GridSearchCV)</td>\n",
       "      <td>0.100000</td>\n",
       "      <td>-</td>\n",
       "      <td>0.320183</td>\n",
       "      <td>0.027485</td>\n",
       "      <td>0.784500</td>\n",
       "      <td>172.591089</td>\n",
       "    </tr>\n",
       "    <tr>\n",
       "      <th>8</th>\n",
       "      <td>Elastic Net Regression (using GridSearchCV)</td>\n",
       "      <td>0.100000</td>\n",
       "      <td>0.000100</td>\n",
       "      <td>0.502697</td>\n",
       "      <td>0.288580</td>\n",
       "      <td>0.797200</td>\n",
       "      <td>169.794126</td>\n",
       "    </tr>\n",
       "  </tbody>\n",
       "</table>\n",
       "</div>"
      ],
      "text/plain": [
       "                                    Model_Name Alpha (Wherever Required)  \\\n",
       "0                            Linear Regression                         -   \n",
       "1                Linear Regression (using SGD)                         -   \n",
       "2            Ridge Regression (with alpha = 1)                         1   \n",
       "3            Ridge Regression (with alpha = 2)                         2   \n",
       "4                             Lasso Regression                      0.01   \n",
       "5                       Elastic Net Regression                       0.1   \n",
       "6        Ridge Regression (using GridSearchCV)                        20   \n",
       "7        Lasso Regression (using GridSearchCV)                  0.100000   \n",
       "8  Elastic Net Regression (using GridSearchCV)                  0.100000   \n",
       "\n",
       "  l1-ratio  R-Squared  Adj. R-Squared  Test_RMSE  Test_MAPE  \n",
       "0        -   0.586157        0.407974   0.863400 252.515937  \n",
       "1        -   0.509755        0.298677   0.813600 174.716611  \n",
       "2        -   0.573461        0.389812   0.838000 255.654207  \n",
       "3        -   0.561194        0.372264   0.831700 239.940149  \n",
       "4        -   0.543715        0.347259   0.819800 210.014068  \n",
       "5     0.01   0.500086        0.284845   0.798400 169.139566  \n",
       "6        -   0.464135        0.233416   0.781200 145.067851  \n",
       "7        -   0.320183        0.027485   0.784500 172.591089  \n",
       "8 0.000100   0.502697        0.288580   0.797200 169.794126  "
      ]
     },
     "execution_count": 107,
     "metadata": {
      "tags": []
     },
     "output_type": "execute_result"
    }
   ],
   "source": [
    "# update the dataframe 'score_card'\n",
    "# 'best_params_' returns the dictionary containig best parameter values and parameter name  \n",
    "# 'get()' returns the value of specified parameter\n",
    "update_score_card(algorithm_name = 'Elastic Net Regression (using GridSearchCV)', \n",
    "                  model = enet_grid, \n",
    "                  alpha = enet_grid.best_params_.get('alpha'), \n",
    "                  l1_ratio = enet_grid.best_params_.get('l1_ratio'))\n",
    "\n",
    "# print the datarframe\n",
    "score_card"
   ]
  },
  {
   "cell_type": "markdown",
   "metadata": {
    "colab_type": "text",
    "id": "an7mwc3beLHf"
   },
   "source": [
    "### Display the score card summary"
   ]
  },
  {
   "cell_type": "markdown",
   "metadata": {
    "colab_type": "text",
    "id": "pCE7iPxHeLHf"
   },
   "source": [
    "We sort the dataframe `score_card` to get the model with least RMSE in the top."
   ]
  },
  {
   "cell_type": "code",
   "execution_count": 108,
   "metadata": {
    "colab": {
     "base_uri": "https://localhost:8080/",
     "height": 218
    },
    "colab_type": "code",
    "executionInfo": {
     "elapsed": 1139,
     "status": "ok",
     "timestamp": 1598880658898,
     "user": {
      "displayName": "Sutithi Chakraborty",
      "photoUrl": "",
      "userId": "12749148906436566424"
     },
     "user_tz": -330
    },
    "id": "OWNzzURDeLHg",
    "outputId": "8d94c6a8-7af5-46f1-e97c-64cfb9ede5a3",
    "scrolled": true
   },
   "outputs": [
    {
     "data": {
      "text/html": [
       "<style  type=\"text/css\" >\n",
       "    #T_34b85124_eb8e_11ea_b10d_0242ac1c0002row0_col5 {\n",
       "            background-color:  lightblue;\n",
       "        }</style><table id=\"T_34b85124_eb8e_11ea_b10d_0242ac1c0002\" ><thead>    <tr>        <th class=\"blank level0\" ></th>        <th class=\"col_heading level0 col0\" >Model_Name</th>        <th class=\"col_heading level0 col1\" >Alpha (Wherever Required)</th>        <th class=\"col_heading level0 col2\" >l1-ratio</th>        <th class=\"col_heading level0 col3\" >R-Squared</th>        <th class=\"col_heading level0 col4\" >Adj. R-Squared</th>        <th class=\"col_heading level0 col5\" >Test_RMSE</th>        <th class=\"col_heading level0 col6\" >Test_MAPE</th>    </tr></thead><tbody>\n",
       "                <tr>\n",
       "                        <th id=\"T_34b85124_eb8e_11ea_b10d_0242ac1c0002level0_row0\" class=\"row_heading level0 row0\" >0</th>\n",
       "                        <td id=\"T_34b85124_eb8e_11ea_b10d_0242ac1c0002row0_col0\" class=\"data row0 col0\" >Ridge Regression (using GridSearchCV)</td>\n",
       "                        <td id=\"T_34b85124_eb8e_11ea_b10d_0242ac1c0002row0_col1\" class=\"data row0 col1\" >20</td>\n",
       "                        <td id=\"T_34b85124_eb8e_11ea_b10d_0242ac1c0002row0_col2\" class=\"data row0 col2\" >-</td>\n",
       "                        <td id=\"T_34b85124_eb8e_11ea_b10d_0242ac1c0002row0_col3\" class=\"data row0 col3\" >0.464135</td>\n",
       "                        <td id=\"T_34b85124_eb8e_11ea_b10d_0242ac1c0002row0_col4\" class=\"data row0 col4\" >0.233416</td>\n",
       "                        <td id=\"T_34b85124_eb8e_11ea_b10d_0242ac1c0002row0_col5\" class=\"data row0 col5\" >0.781200</td>\n",
       "                        <td id=\"T_34b85124_eb8e_11ea_b10d_0242ac1c0002row0_col6\" class=\"data row0 col6\" >145.067851</td>\n",
       "            </tr>\n",
       "            <tr>\n",
       "                        <th id=\"T_34b85124_eb8e_11ea_b10d_0242ac1c0002level0_row1\" class=\"row_heading level0 row1\" >1</th>\n",
       "                        <td id=\"T_34b85124_eb8e_11ea_b10d_0242ac1c0002row1_col0\" class=\"data row1 col0\" >Lasso Regression (using GridSearchCV)</td>\n",
       "                        <td id=\"T_34b85124_eb8e_11ea_b10d_0242ac1c0002row1_col1\" class=\"data row1 col1\" >0.100000</td>\n",
       "                        <td id=\"T_34b85124_eb8e_11ea_b10d_0242ac1c0002row1_col2\" class=\"data row1 col2\" >-</td>\n",
       "                        <td id=\"T_34b85124_eb8e_11ea_b10d_0242ac1c0002row1_col3\" class=\"data row1 col3\" >0.320183</td>\n",
       "                        <td id=\"T_34b85124_eb8e_11ea_b10d_0242ac1c0002row1_col4\" class=\"data row1 col4\" >0.027485</td>\n",
       "                        <td id=\"T_34b85124_eb8e_11ea_b10d_0242ac1c0002row1_col5\" class=\"data row1 col5\" >0.784500</td>\n",
       "                        <td id=\"T_34b85124_eb8e_11ea_b10d_0242ac1c0002row1_col6\" class=\"data row1 col6\" >172.591089</td>\n",
       "            </tr>\n",
       "            <tr>\n",
       "                        <th id=\"T_34b85124_eb8e_11ea_b10d_0242ac1c0002level0_row2\" class=\"row_heading level0 row2\" >2</th>\n",
       "                        <td id=\"T_34b85124_eb8e_11ea_b10d_0242ac1c0002row2_col0\" class=\"data row2 col0\" >Elastic Net Regression (using GridSearchCV)</td>\n",
       "                        <td id=\"T_34b85124_eb8e_11ea_b10d_0242ac1c0002row2_col1\" class=\"data row2 col1\" >0.100000</td>\n",
       "                        <td id=\"T_34b85124_eb8e_11ea_b10d_0242ac1c0002row2_col2\" class=\"data row2 col2\" >0.000100</td>\n",
       "                        <td id=\"T_34b85124_eb8e_11ea_b10d_0242ac1c0002row2_col3\" class=\"data row2 col3\" >0.502697</td>\n",
       "                        <td id=\"T_34b85124_eb8e_11ea_b10d_0242ac1c0002row2_col4\" class=\"data row2 col4\" >0.288580</td>\n",
       "                        <td id=\"T_34b85124_eb8e_11ea_b10d_0242ac1c0002row2_col5\" class=\"data row2 col5\" >0.797200</td>\n",
       "                        <td id=\"T_34b85124_eb8e_11ea_b10d_0242ac1c0002row2_col6\" class=\"data row2 col6\" >169.794126</td>\n",
       "            </tr>\n",
       "            <tr>\n",
       "                        <th id=\"T_34b85124_eb8e_11ea_b10d_0242ac1c0002level0_row3\" class=\"row_heading level0 row3\" >3</th>\n",
       "                        <td id=\"T_34b85124_eb8e_11ea_b10d_0242ac1c0002row3_col0\" class=\"data row3 col0\" >Elastic Net Regression</td>\n",
       "                        <td id=\"T_34b85124_eb8e_11ea_b10d_0242ac1c0002row3_col1\" class=\"data row3 col1\" >0.1</td>\n",
       "                        <td id=\"T_34b85124_eb8e_11ea_b10d_0242ac1c0002row3_col2\" class=\"data row3 col2\" >0.01</td>\n",
       "                        <td id=\"T_34b85124_eb8e_11ea_b10d_0242ac1c0002row3_col3\" class=\"data row3 col3\" >0.500086</td>\n",
       "                        <td id=\"T_34b85124_eb8e_11ea_b10d_0242ac1c0002row3_col4\" class=\"data row3 col4\" >0.284845</td>\n",
       "                        <td id=\"T_34b85124_eb8e_11ea_b10d_0242ac1c0002row3_col5\" class=\"data row3 col5\" >0.798400</td>\n",
       "                        <td id=\"T_34b85124_eb8e_11ea_b10d_0242ac1c0002row3_col6\" class=\"data row3 col6\" >169.139566</td>\n",
       "            </tr>\n",
       "            <tr>\n",
       "                        <th id=\"T_34b85124_eb8e_11ea_b10d_0242ac1c0002level0_row4\" class=\"row_heading level0 row4\" >4</th>\n",
       "                        <td id=\"T_34b85124_eb8e_11ea_b10d_0242ac1c0002row4_col0\" class=\"data row4 col0\" >Linear Regression (using SGD)</td>\n",
       "                        <td id=\"T_34b85124_eb8e_11ea_b10d_0242ac1c0002row4_col1\" class=\"data row4 col1\" >-</td>\n",
       "                        <td id=\"T_34b85124_eb8e_11ea_b10d_0242ac1c0002row4_col2\" class=\"data row4 col2\" >-</td>\n",
       "                        <td id=\"T_34b85124_eb8e_11ea_b10d_0242ac1c0002row4_col3\" class=\"data row4 col3\" >0.509755</td>\n",
       "                        <td id=\"T_34b85124_eb8e_11ea_b10d_0242ac1c0002row4_col4\" class=\"data row4 col4\" >0.298677</td>\n",
       "                        <td id=\"T_34b85124_eb8e_11ea_b10d_0242ac1c0002row4_col5\" class=\"data row4 col5\" >0.813600</td>\n",
       "                        <td id=\"T_34b85124_eb8e_11ea_b10d_0242ac1c0002row4_col6\" class=\"data row4 col6\" >174.716611</td>\n",
       "            </tr>\n",
       "            <tr>\n",
       "                        <th id=\"T_34b85124_eb8e_11ea_b10d_0242ac1c0002level0_row5\" class=\"row_heading level0 row5\" >5</th>\n",
       "                        <td id=\"T_34b85124_eb8e_11ea_b10d_0242ac1c0002row5_col0\" class=\"data row5 col0\" >Lasso Regression</td>\n",
       "                        <td id=\"T_34b85124_eb8e_11ea_b10d_0242ac1c0002row5_col1\" class=\"data row5 col1\" >0.01</td>\n",
       "                        <td id=\"T_34b85124_eb8e_11ea_b10d_0242ac1c0002row5_col2\" class=\"data row5 col2\" >-</td>\n",
       "                        <td id=\"T_34b85124_eb8e_11ea_b10d_0242ac1c0002row5_col3\" class=\"data row5 col3\" >0.543715</td>\n",
       "                        <td id=\"T_34b85124_eb8e_11ea_b10d_0242ac1c0002row5_col4\" class=\"data row5 col4\" >0.347259</td>\n",
       "                        <td id=\"T_34b85124_eb8e_11ea_b10d_0242ac1c0002row5_col5\" class=\"data row5 col5\" >0.819800</td>\n",
       "                        <td id=\"T_34b85124_eb8e_11ea_b10d_0242ac1c0002row5_col6\" class=\"data row5 col6\" >210.014068</td>\n",
       "            </tr>\n",
       "            <tr>\n",
       "                        <th id=\"T_34b85124_eb8e_11ea_b10d_0242ac1c0002level0_row6\" class=\"row_heading level0 row6\" >6</th>\n",
       "                        <td id=\"T_34b85124_eb8e_11ea_b10d_0242ac1c0002row6_col0\" class=\"data row6 col0\" >Ridge Regression (with alpha = 2)</td>\n",
       "                        <td id=\"T_34b85124_eb8e_11ea_b10d_0242ac1c0002row6_col1\" class=\"data row6 col1\" >2</td>\n",
       "                        <td id=\"T_34b85124_eb8e_11ea_b10d_0242ac1c0002row6_col2\" class=\"data row6 col2\" >-</td>\n",
       "                        <td id=\"T_34b85124_eb8e_11ea_b10d_0242ac1c0002row6_col3\" class=\"data row6 col3\" >0.561194</td>\n",
       "                        <td id=\"T_34b85124_eb8e_11ea_b10d_0242ac1c0002row6_col4\" class=\"data row6 col4\" >0.372264</td>\n",
       "                        <td id=\"T_34b85124_eb8e_11ea_b10d_0242ac1c0002row6_col5\" class=\"data row6 col5\" >0.831700</td>\n",
       "                        <td id=\"T_34b85124_eb8e_11ea_b10d_0242ac1c0002row6_col6\" class=\"data row6 col6\" >239.940149</td>\n",
       "            </tr>\n",
       "            <tr>\n",
       "                        <th id=\"T_34b85124_eb8e_11ea_b10d_0242ac1c0002level0_row7\" class=\"row_heading level0 row7\" >7</th>\n",
       "                        <td id=\"T_34b85124_eb8e_11ea_b10d_0242ac1c0002row7_col0\" class=\"data row7 col0\" >Ridge Regression (with alpha = 1)</td>\n",
       "                        <td id=\"T_34b85124_eb8e_11ea_b10d_0242ac1c0002row7_col1\" class=\"data row7 col1\" >1</td>\n",
       "                        <td id=\"T_34b85124_eb8e_11ea_b10d_0242ac1c0002row7_col2\" class=\"data row7 col2\" >-</td>\n",
       "                        <td id=\"T_34b85124_eb8e_11ea_b10d_0242ac1c0002row7_col3\" class=\"data row7 col3\" >0.573461</td>\n",
       "                        <td id=\"T_34b85124_eb8e_11ea_b10d_0242ac1c0002row7_col4\" class=\"data row7 col4\" >0.389812</td>\n",
       "                        <td id=\"T_34b85124_eb8e_11ea_b10d_0242ac1c0002row7_col5\" class=\"data row7 col5\" >0.838000</td>\n",
       "                        <td id=\"T_34b85124_eb8e_11ea_b10d_0242ac1c0002row7_col6\" class=\"data row7 col6\" >255.654207</td>\n",
       "            </tr>\n",
       "            <tr>\n",
       "                        <th id=\"T_34b85124_eb8e_11ea_b10d_0242ac1c0002level0_row8\" class=\"row_heading level0 row8\" >8</th>\n",
       "                        <td id=\"T_34b85124_eb8e_11ea_b10d_0242ac1c0002row8_col0\" class=\"data row8 col0\" >Linear Regression</td>\n",
       "                        <td id=\"T_34b85124_eb8e_11ea_b10d_0242ac1c0002row8_col1\" class=\"data row8 col1\" >-</td>\n",
       "                        <td id=\"T_34b85124_eb8e_11ea_b10d_0242ac1c0002row8_col2\" class=\"data row8 col2\" >-</td>\n",
       "                        <td id=\"T_34b85124_eb8e_11ea_b10d_0242ac1c0002row8_col3\" class=\"data row8 col3\" >0.586157</td>\n",
       "                        <td id=\"T_34b85124_eb8e_11ea_b10d_0242ac1c0002row8_col4\" class=\"data row8 col4\" >0.407974</td>\n",
       "                        <td id=\"T_34b85124_eb8e_11ea_b10d_0242ac1c0002row8_col5\" class=\"data row8 col5\" >0.863400</td>\n",
       "                        <td id=\"T_34b85124_eb8e_11ea_b10d_0242ac1c0002row8_col6\" class=\"data row8 col6\" >252.515937</td>\n",
       "            </tr>\n",
       "    </tbody></table>"
      ],
      "text/plain": [
       "<pandas.io.formats.style.Styler at 0x7f9b165822b0>"
      ]
     },
     "execution_count": 108,
     "metadata": {
      "tags": []
     },
     "output_type": "execute_result"
    }
   ],
   "source": [
    "# sort the dataframe 'score_card' on 'Test_RMSE' in an ascending order using 'sort_values' \n",
    "# 'reset_index' resets the index of the dataframe\n",
    "# 'drop = True' drops the previous index\n",
    "score_card = score_card.sort_values('Test_RMSE').reset_index(drop = True)\n",
    "\n",
    "# color the cell in the column 'Test_RMSE' having minimum RMSE value\n",
    "# 'style.highlight_min' assigns color to the minimum value\n",
    "# pass specified color to the parameter, 'color'\n",
    "# pass the data to limit the color assignment to the parameter, 'subset' \n",
    "score_card.style.highlight_min(color = 'lightblue', subset = 'Test_RMSE')"
   ]
  },
  {
   "cell_type": "markdown",
   "metadata": {
    "colab_type": "text",
    "id": "6oxUiAEmeLHh"
   },
   "source": [
    "**Interpretation:** We can see that `Ridge Regression (using GridSearchCV)` has the lowest test RMSE. Here, ridge regression with `alpha = 20` seems to deal with the problem of overfitting efficiently."
   ]
  }
 ],
 "metadata": {
  "colab": {
   "collapsed_sections": [],
   "name": "SLR - Faculty Notebook (Session 6).ipynb",
   "provenance": []
  },
  "kernelspec": {
   "display_name": "Python 3 (ipykernel)",
   "language": "python",
   "name": "python3"
  },
  "language_info": {
   "codemirror_mode": {
    "name": "ipython",
    "version": 3
   },
   "file_extension": ".py",
   "mimetype": "text/x-python",
   "name": "python",
   "nbconvert_exporter": "python",
   "pygments_lexer": "ipython3",
   "version": "3.9.12"
  }
 },
 "nbformat": 4,
 "nbformat_minor": 1
}
