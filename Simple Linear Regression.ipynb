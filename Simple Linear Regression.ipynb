{
 "cells": [
  {
   "cell_type": "markdown",
   "metadata": {
    "colab_type": "text",
    "id": "ty3q7vvy2FPy"
   },
   "source": [
    "## Problem Statement\n",
    "\n",
    "The New York City Controller's Office maintains a database of the salary and benefits paid to city employees since the fiscal year 2013. This is data representing the Employee Compensation report."
   ]
  },
  {
   "cell_type": "markdown",
   "metadata": {
    "colab_type": "text",
    "id": "KyKGFs5G2FPz"
   },
   "source": [
    "**Year Type:**\t\tFiscal (July through June) or Calendar (January through December)<br>\n",
    "\n",
    "**Year:**\t\tAn accounting period of 12 months. The New York City operates operates on a fiscal year that begins on July 1 and ends on June 30 the following year. The Fiscal Year ending June 30, 2012 is represented as FY2011-2012.<br>\n",
    "\n",
    "**Employee Identifier:**\t\tEach distinct number in the “Employee Identifier” column represents one employee. These identifying numbers are not meaningful but rather are randomly assigned for the purpose of building this dataset.<br> \n",
    "\n",
    "**Salaries:**\t\tNormal salaries paid to permanent or temporary City employees. <br>\n",
    "\n",
    "**Overtime:**\t\tAmounts paid to City employees working in excess of 40 hours per week. <br>\n",
    "\n",
    "**Other Salaries:**\t\tVarious irregular payments made to City employees including premium pay, incentive pay, or other one-time payments. <br>\n",
    "\n",
    "**Total Salary:**\t\tThe sum of all salaries paid to City employees.<br>\n",
    "\n",
    "**Retirement:**\t\tCity contributions to employee retirement plans. <br>\n",
    "\n",
    "**Health/Dental:**\t\tCity-paid premiums to health and dental insurance plans covering City employees. To protect confidentiality as legally required, pro-rated citywide averages are presented in lieu of employee-specific health and dental benefits. <br>\n",
    "\n",
    "**Other Benefits:**\t\tMandatory benefits paid on behalf of employees, such as Social Security (FICA and Medicare) contributions, unemployment insurance premiums, and minor discretionary benefits not included in the above categories.<br>\n",
    "\n",
    "**Total Benefits:**\t\tThe sum of all benefits paid to City employees.<br>\n",
    "\n",
    "**Total Compensation:**\t\tThe sum of all salaries and benefits paid to City employees."
   ]
  },
  {
   "cell_type": "markdown",
   "metadata": {
    "colab_type": "text",
    "id": "rfdzaszh2FPz"
   },
   "source": [
    "## Table of Content\n",
    "\n",
    "1. **[Import Libraries](#lib)**\n",
    "2. **[Data Preparation](#prep)**\n",
    "    - 2.1 - **[Understand the Data](#read)**\n",
    "    - 2.2 - **[Outlier Analysis and Treatment](#outlier)**\n",
    "    - 2.3 - **[Missing Value Analysis and Treatment](#null)**\n",
    "    - 2.4 - **[Scale the Data](#scale)**\n",
    "3. **[What is Regression Analysis?](#def)**\n",
    "4. **[Bivariate Regression](#Bivariate)**\n",
    "   - 4.1 - **[Ordinary Least Square Method (OLS)](#lsm)**\n",
    "   - 4.2 - **[Measures of Variation](#mv)**\n",
    "      - 4.2.1 - **[Sum of Squared Residuals (SSR)](#ssr)**\n",
    "      - 4.2.2 - **[Sum of Squared Error (SSE)](#sse)**\n",
    "      - 4.2.3 - **[Sum of Squared Total (SST)](#sst)**\n",
    "      - 4.2.4 - **[Coefficient of Determination (R-Squared)](#r2)**\n",
    "      - 4.2.5 - **[Standard Error of Estimate (SEE)](#see)**\n",
    "   - 4.3 - **[Inferences about Slope and Intercept](#inf)**\n",
    "      - 4.3.1 - **[Interpretation of Slope and Intercept](#inter)**\n",
    "      - 4.3.2 - **[The t-test for Slope and Intercept](#t_test)**\n",
    "      - 4.3.3 - **[Confidence Interval for Slope and Intercept](#ci)**\n",
    "      - 4.3.4 - **[ANOVA for SLR](#anova)**\n"
   ]
  },
  {
   "cell_type": "markdown",
   "metadata": {
    "colab_type": "text",
    "id": "63TmqM7D2FP0"
   },
   "source": [
    "<a id=\"lib\"></a>\n",
    "# 1. Import Libraries"
   ]
  },
  {
   "cell_type": "markdown",
   "metadata": {
    "colab_type": "text",
    "id": "NOqSqlQ42FP0"
   },
   "source": [
    "**Let us import the required libraries.**"
   ]
  },
  {
   "cell_type": "code",
   "execution_count": 1,
   "metadata": {
    "colab": {},
    "colab_type": "code",
    "id": "1H-ORR6o2FP1"
   },
   "outputs": [],
   "source": [
    "# import 'Pandas' \n",
    "import pandas as pd \n",
    "\n",
    "# import 'Numpy' \n",
    "import numpy as np\n",
    "\n",
    "# import subpackage of Matplotlib\n",
    "import matplotlib.pyplot as plt\n",
    "\n",
    "# import 'Seaborn' \n",
    "import seaborn as sns\n",
    "\n",
    "# to suppress warnings \n",
    "from warnings import filterwarnings\n",
    "filterwarnings('ignore')\n",
    "\n",
    "# display all columns of the dataframe\n",
    "pd.options.display.max_columns = None\n",
    "\n",
    "# display all rows of the dataframe\n",
    "pd.options.display.max_rows = None\n",
    " \n",
    "# to display the float values upto 6 decimal places     \n",
    "pd.options.display.float_format = '{:.6f}'.format\n",
    "\n",
    "# import train-test split \n",
    "from sklearn.model_selection import train_test_split\n",
    "\n",
    "# import various functions from statsmodel to perform linear regression\n",
    "import statsmodels\n",
    "import statsmodels.api as sm\n",
    "import statsmodels.stats.api as sms\n",
    "from statsmodels.compat import lzip\n",
    "from statsmodels.stats.outliers_influence import variance_inflation_factor\n",
    "from statsmodels.graphics.gofplots import qqplot\n",
    "from statsmodels.stats.anova import anova_lm\n",
    "from statsmodels.formula.api import ols\n",
    "from statsmodels.tools.eval_measures import rmse\n",
    "\n",
    "# import various functions from scipy\n",
    "from scipy import stats\n",
    "from scipy.stats import shapiro\n",
    "\n",
    "# 'metrics' from sklearn is used for evaluating the model performance\n",
    "from sklearn.metrics import mean_absolute_error\n",
    "from sklearn.metrics import mean_squared_error"
   ]
  },
  {
   "cell_type": "markdown",
   "metadata": {
    "colab_type": "text",
    "id": "Ug-in7Hf2FP4"
   },
   "source": [
    "<a id=\"prep\"></a>\n",
    "# 2. Data Preparation"
   ]
  },
  {
   "cell_type": "markdown",
   "metadata": {
    "colab_type": "text",
    "id": "UupanqC12FP5"
   },
   "source": [
    "<a id=\"read\"></a>\n",
    "## 2.1 Understand the Data"
   ]
  },
  {
   "cell_type": "markdown",
   "metadata": {
    "colab_type": "text",
    "id": "jNYQxzc32FP5"
   },
   "source": [
    "#### Read the dataset and print the first five observations."
   ]
  },
  {
   "cell_type": "code",
   "execution_count": 2,
   "metadata": {
    "colab": {},
    "colab_type": "code",
    "id": "GoF3FUb62FP6",
    "outputId": "c27b346f-a77b-4e53-cdf4-81d6f9d5a5c3",
    "scrolled": false
   },
   "outputs": [
    {
     "data": {
      "text/html": [
       "<div>\n",
       "<style scoped>\n",
       "    .dataframe tbody tr th:only-of-type {\n",
       "        vertical-align: middle;\n",
       "    }\n",
       "\n",
       "    .dataframe tbody tr th {\n",
       "        vertical-align: top;\n",
       "    }\n",
       "\n",
       "    .dataframe thead th {\n",
       "        text-align: right;\n",
       "    }\n",
       "</style>\n",
       "<table border=\"1\" class=\"dataframe\">\n",
       "  <thead>\n",
       "    <tr style=\"text-align: right;\">\n",
       "      <th></th>\n",
       "      <th>Year_Type</th>\n",
       "      <th>Year</th>\n",
       "      <th>Employee_Identifier</th>\n",
       "      <th>Salaries</th>\n",
       "      <th>Overtime</th>\n",
       "      <th>Other_Salaries</th>\n",
       "      <th>Total_Salary</th>\n",
       "      <th>Retirement</th>\n",
       "      <th>Health/Dental</th>\n",
       "      <th>Other_Benefits</th>\n",
       "      <th>Total_Benefits</th>\n",
       "      <th>Total_Compensation</th>\n",
       "    </tr>\n",
       "  </thead>\n",
       "  <tbody>\n",
       "    <tr>\n",
       "      <td>0</td>\n",
       "      <td>Fiscal</td>\n",
       "      <td>2015</td>\n",
       "      <td>42853</td>\n",
       "      <td>92288.220000</td>\n",
       "      <td>267.450000</td>\n",
       "      <td>267.450000</td>\n",
       "      <td>92823.120000</td>\n",
       "      <td>20700.200000</td>\n",
       "      <td>12500.560000</td>\n",
       "      <td>7605.750000</td>\n",
       "      <td>40806.510000</td>\n",
       "      <td>133629.630000</td>\n",
       "    </tr>\n",
       "    <tr>\n",
       "      <td>1</td>\n",
       "      <td>Calendar</td>\n",
       "      <td>2015</td>\n",
       "      <td>28248</td>\n",
       "      <td>1466.380000</td>\n",
       "      <td>348.230000</td>\n",
       "      <td>0.000000</td>\n",
       "      <td>1814.610000</td>\n",
       "      <td>0.000000</td>\n",
       "      <td>442.030000</td>\n",
       "      <td>141.590000</td>\n",
       "      <td>583.620000</td>\n",
       "      <td>2398.230000</td>\n",
       "    </tr>\n",
       "    <tr>\n",
       "      <td>2</td>\n",
       "      <td>Fiscal</td>\n",
       "      <td>2014</td>\n",
       "      <td>30651</td>\n",
       "      <td>76536.950000</td>\n",
       "      <td>13583.720000</td>\n",
       "      <td>10855.940000</td>\n",
       "      <td>100976.610000</td>\n",
       "      <td>18632.190000</td>\n",
       "      <td>12464.610000</td>\n",
       "      <td>8011.410000</td>\n",
       "      <td>39108.210000</td>\n",
       "      <td>140084.820000</td>\n",
       "    </tr>\n",
       "    <tr>\n",
       "      <td>3</td>\n",
       "      <td>Fiscal</td>\n",
       "      <td>2014</td>\n",
       "      <td>19473</td>\n",
       "      <td>45659.880000</td>\n",
       "      <td>0.000000</td>\n",
       "      <td>1625.370000</td>\n",
       "      <td>47285.250000</td>\n",
       "      <td>10081.200000</td>\n",
       "      <td>0.000000</td>\n",
       "      <td>3936.630000</td>\n",
       "      <td>14017.830000</td>\n",
       "      <td>61303.080000</td>\n",
       "    </tr>\n",
       "    <tr>\n",
       "      <td>4</td>\n",
       "      <td>Fiscal</td>\n",
       "      <td>2013</td>\n",
       "      <td>7176</td>\n",
       "      <td>41832.000000</td>\n",
       "      <td>0.000000</td>\n",
       "      <td>0.000000</td>\n",
       "      <td>41832.000000</td>\n",
       "      <td>7617.600000</td>\n",
       "      <td>5908.520000</td>\n",
       "      <td>3254.500000</td>\n",
       "      <td>16780.620000</td>\n",
       "      <td>58612.620000</td>\n",
       "    </tr>\n",
       "  </tbody>\n",
       "</table>\n",
       "</div>"
      ],
      "text/plain": [
       "  Year_Type  Year  Employee_Identifier     Salaries     Overtime  \\\n",
       "0    Fiscal  2015                42853 92288.220000   267.450000   \n",
       "1  Calendar  2015                28248  1466.380000   348.230000   \n",
       "2    Fiscal  2014                30651 76536.950000 13583.720000   \n",
       "3    Fiscal  2014                19473 45659.880000     0.000000   \n",
       "4    Fiscal  2013                 7176 41832.000000     0.000000   \n",
       "\n",
       "   Other_Salaries  Total_Salary   Retirement  Health/Dental  Other_Benefits  \\\n",
       "0      267.450000  92823.120000 20700.200000   12500.560000     7605.750000   \n",
       "1        0.000000   1814.610000     0.000000     442.030000      141.590000   \n",
       "2    10855.940000 100976.610000 18632.190000   12464.610000     8011.410000   \n",
       "3     1625.370000  47285.250000 10081.200000       0.000000     3936.630000   \n",
       "4        0.000000  41832.000000  7617.600000    5908.520000     3254.500000   \n",
       "\n",
       "   Total_Benefits  Total_Compensation  \n",
       "0    40806.510000       133629.630000  \n",
       "1      583.620000         2398.230000  \n",
       "2    39108.210000       140084.820000  \n",
       "3    14017.830000        61303.080000  \n",
       "4    16780.620000        58612.620000  "
      ]
     },
     "execution_count": 2,
     "metadata": {},
     "output_type": "execute_result"
    }
   ],
   "source": [
    "# load the csv file\n",
    "# store the data in 'df_compensation'\n",
    "df_compensation = pd.read_csv('employee_compensation.csv')\n",
    "\n",
    "# display first five observations using head()\n",
    "df_compensation.head()"
   ]
  },
  {
   "cell_type": "markdown",
   "metadata": {
    "colab_type": "text",
    "id": "7GwiAEeY2FP9"
   },
   "source": [
    "**Let us now see the number of variables and observations in the data.**"
   ]
  },
  {
   "cell_type": "code",
   "execution_count": 3,
   "metadata": {
    "colab": {},
    "colab_type": "code",
    "id": "PNXGarYx2FP9",
    "outputId": "f3b95f32-e33d-4f69-c8fe-c66053ff3c92"
   },
   "outputs": [
    {
     "data": {
      "text/plain": [
       "(50000, 12)"
      ]
     },
     "execution_count": 3,
     "metadata": {},
     "output_type": "execute_result"
    }
   ],
   "source": [
    "# use 'shape' to check the dimension of data\n",
    "df_compensation.shape"
   ]
  },
  {
   "cell_type": "markdown",
   "metadata": {
    "colab_type": "text",
    "id": "2umLy1uU2FQA"
   },
   "source": [
    "**Interpretation:** The data has 50000 observations and 12 variables."
   ]
  },
  {
   "cell_type": "markdown",
   "metadata": {
    "colab_type": "text",
    "id": "aXzRudSp2FQB"
   },
   "source": [
    "**Get a concise summary of the DataFrame.**"
   ]
  },
  {
   "cell_type": "code",
   "execution_count": 4,
   "metadata": {
    "colab": {},
    "colab_type": "code",
    "id": "0iCN9WnA2FQB",
    "outputId": "e886a2da-7dbd-46d3-bf2c-fe80872bcfa7",
    "scrolled": false
   },
   "outputs": [
    {
     "name": "stdout",
     "output_type": "stream",
     "text": [
      "<class 'pandas.core.frame.DataFrame'>\n",
      "RangeIndex: 50000 entries, 0 to 49999\n",
      "Data columns (total 12 columns):\n",
      "Year_Type              50000 non-null object\n",
      "Year                   50000 non-null int64\n",
      "Employee_Identifier    50000 non-null int64\n",
      "Salaries               50000 non-null float64\n",
      "Overtime               50000 non-null float64\n",
      "Other_Salaries         50000 non-null float64\n",
      "Total_Salary           50000 non-null float64\n",
      "Retirement             50000 non-null float64\n",
      "Health/Dental          50000 non-null float64\n",
      "Other_Benefits         50000 non-null float64\n",
      "Total_Benefits         50000 non-null float64\n",
      "Total_Compensation     50000 non-null float64\n",
      "dtypes: float64(9), int64(2), object(1)\n",
      "memory usage: 4.6+ MB\n"
     ]
    }
   ],
   "source": [
    "# use 'info()' to understand the dataset\n",
    "df_compensation.info()"
   ]
  },
  {
   "cell_type": "markdown",
   "metadata": {
    "colab_type": "text",
    "id": "Va-ibrb_2FQE"
   },
   "source": [
    "**Interpretation:** The variable `Year_Type` is categorical. All the other variables are numerical.\n",
    "\n",
    "From the above output, we see that the data type of `Year` is 'int64'.\n",
    "\n",
    "But according to the data definition, `Year` is categorical variable, which is wrongly interpreted as 'int64', so we will convert these variables data type to 'object'."
   ]
  },
  {
   "cell_type": "markdown",
   "metadata": {
    "colab_type": "text",
    "id": "q4sXkUHX2FQE"
   },
   "source": [
    "#### Change the data type as per the data definition."
   ]
  },
  {
   "cell_type": "code",
   "execution_count": 5,
   "metadata": {
    "colab": {},
    "colab_type": "code",
    "id": "AfCxXgHD2FQE"
   },
   "outputs": [],
   "source": [
    "# convert numerical variables to categorical (object) \n",
    "# use astype() to change the data type\n",
    "\n",
    "# change the data type of 'Year'\n",
    "df_compensation['Year'] = df_compensation['Year'].astype(object)"
   ]
  },
  {
   "cell_type": "markdown",
   "metadata": {
    "colab_type": "text",
    "id": "fq7tNMVb2FQH"
   },
   "source": [
    "#### Recheck the data type after the conversion. "
   ]
  },
  {
   "cell_type": "code",
   "execution_count": 6,
   "metadata": {
    "colab": {},
    "colab_type": "code",
    "id": "v_amN_y82FQI",
    "outputId": "aecae057-8044-4054-a6a9-2ebe29b6898b"
   },
   "outputs": [
    {
     "data": {
      "text/plain": [
       "Year_Type               object\n",
       "Year                    object\n",
       "Employee_Identifier      int64\n",
       "Salaries               float64\n",
       "Overtime               float64\n",
       "Other_Salaries         float64\n",
       "Total_Salary           float64\n",
       "Retirement             float64\n",
       "Health/Dental          float64\n",
       "Other_Benefits         float64\n",
       "Total_Benefits         float64\n",
       "Total_Compensation     float64\n",
       "dtype: object"
      ]
     },
     "execution_count": 6,
     "metadata": {},
     "output_type": "execute_result"
    }
   ],
   "source": [
    "# recheck the data types using 'dtypes'\n",
    "df_compensation.dtypes"
   ]
  },
  {
   "cell_type": "markdown",
   "metadata": {
    "colab_type": "text",
    "id": "f542PPFk2FQK"
   },
   "source": [
    "**Interpretation:** Now, all the variables have the correct data type."
   ]
  },
  {
   "cell_type": "markdown",
   "metadata": {
    "colab_type": "text",
    "id": "EdOT_7-o2FQK"
   },
   "source": [
    "<a id=\"drop\"></a>\n",
    "## 2.3 Remove Insignificant Variables"
   ]
  },
  {
   "cell_type": "markdown",
   "metadata": {
    "colab_type": "text",
    "id": "fpNqGGO-2FQL"
   },
   "source": [
    "The column `Employee_Identifier` contains the id of the employee, which is redundant for further analysis. Thus, we drop the column."
   ]
  },
  {
   "cell_type": "code",
   "execution_count": 7,
   "metadata": {
    "colab": {},
    "colab_type": "code",
    "id": "TJjq7PJj2FQL"
   },
   "outputs": [],
   "source": [
    "# drop the column 'Employee_Identifier' using drop()\n",
    "# 'axis = 1' drops the specified column\n",
    "df_compensation = df_compensation.drop('Employee_Identifier',axis=1)"
   ]
  },
  {
   "cell_type": "markdown",
   "metadata": {
    "colab_type": "text",
    "id": "ikucG7fF2FQN"
   },
   "source": [
    "<a id=\"outlier\"></a>\n",
    "## 2.2 Outlier Analysis and Treatment"
   ]
  },
  {
   "cell_type": "markdown",
   "metadata": {
    "colab_type": "text",
    "id": "_Aqz9ZDP2FQO"
   },
   "source": [
    "**Check the outliers in all the variables and treat them using appropriate techniques.**"
   ]
  },
  {
   "cell_type": "code",
   "execution_count": 8,
   "metadata": {
    "colab": {},
    "colab_type": "code",
    "id": "urQlXHZo2FQO",
    "outputId": "ddb745bb-e192-4b54-a3f9-4fd7f9fc46e3"
   },
   "outputs": [
    {
     "data": {
      "image/png": "[encoded data removed]",
      "text/plain": [
       "<Figure size 1080x576 with 1 Axes>"
      ]
     },
     "metadata": {
      "needs_background": "light"
     },
     "output_type": "display_data"
    }
   ],
   "source": [
    "# set the plot size using figure()\n",
    "# pass width and height in inches to 'figsize' \n",
    "plt.figure(figsize = (15,8))\n",
    "\n",
    "# plot a boxplot to visualize the outliers in all the numeric variables\n",
    "df_compensation.boxplot()\n",
    "\n",
    "# set plot label\n",
    "# set text size using 'fontsize'\n",
    "plt.title('Distribution of all Numeric Variables', fontsize = 15)\n",
    "\n",
    "# xticks() returns the x-axis ticks\n",
    "# 'rotation = vertical' rotates the x-axis labels vertically\n",
    "plt.xticks(rotation = 'vertical', fontsize = 15)\n",
    "\n",
    "# display the plot\n",
    "plt.show()"
   ]
  },
  {
   "cell_type": "markdown",
   "metadata": {
    "colab_type": "text",
    "id": "h_30VF402FQR"
   },
   "source": [
    "**Notice that the variables 'Salaries', 'Total_Salary' and 'Total_Compensation' have a quite large range as compared to the other variables. Thus, it is difficult to see the outliers in such variables. So, we plot the boxplots of independent variables again by not considering the variables 'Salaries', 'Total_Salary' and 'Total_Compensation'. The variable Health/Dental has no outliers.**"
   ]
  },
  {
   "cell_type": "code",
   "execution_count": 9,
   "metadata": {
    "colab": {},
    "colab_type": "code",
    "id": "xO1h0TN62FQR",
    "outputId": "a2fb6ac9-61f9-4032-d0be-a28671ac2e01"
   },
   "outputs": [
    {
     "data": {
      "image/png": "[encoded data removed]",
      "text/plain": [
       "<Figure size 1080x576 with 1 Axes>"
      ]
     },
     "metadata": {
      "needs_background": "light"
     },
     "output_type": "display_data"
    }
   ],
   "source": [
    "# boxplot of independent variables\n",
    "\n",
    "# set the plot size using figure()\n",
    "# pass width and height in inches to 'figsize' \n",
    "plt.figure(figsize = (15,8))\n",
    "\n",
    "# plot boxplots of all the numeric variables except the variables 'Salaries', 'Total_Salary' and 'Total_Compensation' \n",
    "# use 'loc[]' to select the variables\n",
    "df_compensation.loc[:,['Overtime', 'Other_Salaries', 'Retirement', 'Other_Benefits', 'Total_Benefits']].boxplot()\n",
    "\n",
    "# set plot label\n",
    "# set text size using 'fontsize'\n",
    "plt.title('Distribution of Independent Variables', fontsize = 15)\n",
    "\n",
    "# xticks() returns the x-axis ticks\n",
    "# 'rotation = vertical' rotates the x-axis labels vertically\n",
    "plt.xticks(rotation = 'vertical', fontsize = 15)\n",
    "\n",
    "# display the plot\n",
    "plt.show()"
   ]
  },
  {
   "cell_type": "markdown",
   "metadata": {
    "colab_type": "text",
    "id": "O76nsvnI2FQU"
   },
   "source": [
    "**Plot the boxplot of the target (dependent) variable 'Total_Compensation'.**"
   ]
  },
  {
   "cell_type": "code",
   "execution_count": 10,
   "metadata": {
    "colab": {},
    "colab_type": "code",
    "id": "KrQvNmAR2FQU",
    "outputId": "4a3110f0-a995-4562-808a-719323d98b8b"
   },
   "outputs": [
    {
     "data": {
      "image/png": "[encoded data removed]",
      "text/plain": [
       "<Figure size 1080x576 with 1 Axes>"
      ]
     },
     "metadata": {
      "needs_background": "light"
     },
     "output_type": "display_data"
    }
   ],
   "source": [
    "# set the plot size using figure()\n",
    "# pass width and height in inches to 'figsize' \n",
    "plt.figure(figsize = (15,8))\n",
    "\n",
    "# plot boxplot for 'Total_Compensation' using seaborn library\n",
    "sns.boxplot(df_compensation['Total_Compensation'])\n",
    "\n",
    "# add plot and axis labels\n",
    "# set text size using 'fontsize'\n",
    "plt.title('Distribution of Target Variable (Total_Compensation)', fontsize = 15)\n",
    "plt.xlabel('Total_Compensation', fontsize = 15)\n",
    "\n",
    "# display the plot\n",
    "plt.show()"
   ]
  },
  {
   "cell_type": "markdown",
   "metadata": {
    "colab_type": "text",
    "id": "lnA4n4TD2FQW"
   },
   "source": [
    "**Interpretation:** From the above plots, we notice that all the variables have points above the upper extreme or below the lower extreme - these points are outliers in the data. However, the exact location of these points is not precisely seen.\n",
    "\n",
    "Let us use the IQR method to remove the outliers."
   ]
  },
  {
   "cell_type": "code",
   "execution_count": 11,
   "metadata": {
    "colab": {},
    "colab_type": "code",
    "id": "ycQiyta72FQX",
    "outputId": "1fa94400-8c8b-4343-9d0f-a0975c9d0b70"
   },
   "outputs": [
    {
     "data": {
      "text/plain": [
       "(37721, 11)"
      ]
     },
     "execution_count": 11,
     "metadata": {},
     "output_type": "execute_result"
    }
   ],
   "source": [
    "# calculate the first quartile\n",
    "Q1 = df_compensation.quantile(0.25)\n",
    "\n",
    "# calculate the third quartile\n",
    "Q3 = df_compensation.quantile(0.75)\n",
    "\n",
    "# The Interquartile Range (IQR) is defined as the difference between the third and first quartile\n",
    "# calculate IQR for each numeric variable\n",
    "IQR = Q3 - Q1\n",
    "\n",
    "# retrieve the dataframe without the outliers\n",
    "# '~' returns the values that do not satisfy the given conditions \n",
    "# i.e. it returns values between the range [Q1-1.5*IQR, Q3+1.5*IQR]\n",
    "# '|' is used as 'OR' operator on multiple conditions   \n",
    "# 'any(axis=1)' checks the entire row for atleast one 'True' entry (those rows represents outliers in the data)\n",
    "df_compensation = df_compensation[~((df_compensation < (Q1 - 1.5 * IQR)) | (df_compensation > (Q3 + 1.5 * IQR))).any(axis=1)]\n",
    "\n",
    "# check the shape of the data\n",
    "df_compensation.shape"
   ]
  },
  {
   "cell_type": "markdown",
   "metadata": {
    "colab_type": "text",
    "id": "02oBXXMJ2FQZ"
   },
   "source": [
    "**Interpretation:** A crude way to know whether the outliers have been removed or not is to check the dimensions of the data. From the above output, we can see that the dimensions are reduced that implies outliers are removed."
   ]
  },
  {
   "cell_type": "markdown",
   "metadata": {
    "colab_type": "text",
    "id": "Rj2XkrdV2FQa"
   },
   "source": [
    "<a id=\"null\"></a>\n",
    "## 2.3 Missing Value Analysis and Treatment"
   ]
  },
  {
   "cell_type": "markdown",
   "metadata": {
    "colab_type": "text",
    "id": "AK3vGaZo2FQa"
   },
   "source": [
    "**Check the presence of missing values in the data and treat them.**"
   ]
  },
  {
   "cell_type": "code",
   "execution_count": 12,
   "metadata": {
    "colab": {},
    "colab_type": "code",
    "id": "_vdroCil2FQa",
    "outputId": "654d9a15-9cfb-477f-dfb7-d5ba98b84697"
   },
   "outputs": [
    {
     "data": {
      "text/html": [
       "<div>\n",
       "<style scoped>\n",
       "    .dataframe tbody tr th:only-of-type {\n",
       "        vertical-align: middle;\n",
       "    }\n",
       "\n",
       "    .dataframe tbody tr th {\n",
       "        vertical-align: top;\n",
       "    }\n",
       "\n",
       "    .dataframe thead th {\n",
       "        text-align: right;\n",
       "    }\n",
       "</style>\n",
       "<table border=\"1\" class=\"dataframe\">\n",
       "  <thead>\n",
       "    <tr style=\"text-align: right;\">\n",
       "      <th></th>\n",
       "      <th>Total</th>\n",
       "      <th>Percentage of Missing Values</th>\n",
       "    </tr>\n",
       "  </thead>\n",
       "  <tbody>\n",
       "    <tr>\n",
       "      <td>Total_Compensation</td>\n",
       "      <td>0</td>\n",
       "      <td>0.000000</td>\n",
       "    </tr>\n",
       "    <tr>\n",
       "      <td>Total_Benefits</td>\n",
       "      <td>0</td>\n",
       "      <td>0.000000</td>\n",
       "    </tr>\n",
       "    <tr>\n",
       "      <td>Other_Benefits</td>\n",
       "      <td>0</td>\n",
       "      <td>0.000000</td>\n",
       "    </tr>\n",
       "    <tr>\n",
       "      <td>Health/Dental</td>\n",
       "      <td>0</td>\n",
       "      <td>0.000000</td>\n",
       "    </tr>\n",
       "    <tr>\n",
       "      <td>Retirement</td>\n",
       "      <td>0</td>\n",
       "      <td>0.000000</td>\n",
       "    </tr>\n",
       "    <tr>\n",
       "      <td>Total_Salary</td>\n",
       "      <td>0</td>\n",
       "      <td>0.000000</td>\n",
       "    </tr>\n",
       "    <tr>\n",
       "      <td>Other_Salaries</td>\n",
       "      <td>0</td>\n",
       "      <td>0.000000</td>\n",
       "    </tr>\n",
       "    <tr>\n",
       "      <td>Overtime</td>\n",
       "      <td>0</td>\n",
       "      <td>0.000000</td>\n",
       "    </tr>\n",
       "    <tr>\n",
       "      <td>Salaries</td>\n",
       "      <td>0</td>\n",
       "      <td>0.000000</td>\n",
       "    </tr>\n",
       "    <tr>\n",
       "      <td>Year</td>\n",
       "      <td>0</td>\n",
       "      <td>0.000000</td>\n",
       "    </tr>\n",
       "    <tr>\n",
       "      <td>Year_Type</td>\n",
       "      <td>0</td>\n",
       "      <td>0.000000</td>\n",
       "    </tr>\n",
       "  </tbody>\n",
       "</table>\n",
       "</div>"
      ],
      "text/plain": [
       "                    Total  Percentage of Missing Values\n",
       "Total_Compensation      0                      0.000000\n",
       "Total_Benefits          0                      0.000000\n",
       "Other_Benefits          0                      0.000000\n",
       "Health/Dental           0                      0.000000\n",
       "Retirement              0                      0.000000\n",
       "Total_Salary            0                      0.000000\n",
       "Other_Salaries          0                      0.000000\n",
       "Overtime                0                      0.000000\n",
       "Salaries                0                      0.000000\n",
       "Year                    0                      0.000000\n",
       "Year_Type               0                      0.000000"
      ]
     },
     "execution_count": 12,
     "metadata": {},
     "output_type": "execute_result"
    }
   ],
   "source": [
    "# sort the variables on the basis of total null values in the variable\n",
    "# 'isnull().sum()' returns the number of missing values in each variable\n",
    "# 'ascending = False' sorts values in the descending order\n",
    "# the variable with highest number of missing values will appear first\n",
    "Total = df_compensation.isnull().sum().sort_values(ascending=False)          \n",
    "\n",
    "# calculate percentage of missing values\n",
    "# 'ascending = False' sorts values in the descending order\n",
    "# the variable with highest percentage of missing values will appear first\n",
    "Percent = (df_compensation.isnull().sum()*100/df_compensation.isnull().count()).sort_values(ascending=False)   \n",
    "\n",
    "# concat the 'Total' and 'Percent' columns using 'concat' function\n",
    "# pass a list of column names in parameter 'keys' \n",
    "# 'axis = 1' concats along the columns\n",
    "missing_data = pd.concat([Total, Percent], axis=1, keys=['Total', 'Percentage of Missing Values'])    \n",
    "missing_data"
   ]
  },
  {
   "cell_type": "markdown",
   "metadata": {
    "colab_type": "text",
    "id": "4OwLMKsB2FQd"
   },
   "source": [
    "**Interpretation:** There are no missing values in the data."
   ]
  },
  {
   "cell_type": "markdown",
   "metadata": {
    "colab_type": "text",
    "id": "zrQnIgtD2FQd"
   },
   "source": [
    "<a id=\"scale\"></a>\n",
    "## 2.4 Scale the Data"
   ]
  },
  {
   "cell_type": "code",
   "execution_count": 13,
   "metadata": {
    "colab": {},
    "colab_type": "code",
    "id": "lwJJWSMG2FQe",
    "outputId": "a05d1242-2d10-4623-bd50-427a1e9d2fee"
   },
   "outputs": [
    {
     "data": {
      "text/html": [
       "<div>\n",
       "<style scoped>\n",
       "    .dataframe tbody tr th:only-of-type {\n",
       "        vertical-align: middle;\n",
       "    }\n",
       "\n",
       "    .dataframe tbody tr th {\n",
       "        vertical-align: top;\n",
       "    }\n",
       "\n",
       "    .dataframe thead th {\n",
       "        text-align: right;\n",
       "    }\n",
       "</style>\n",
       "<table border=\"1\" class=\"dataframe\">\n",
       "  <thead>\n",
       "    <tr style=\"text-align: right;\">\n",
       "      <th></th>\n",
       "      <th>Year_Type</th>\n",
       "      <th>Year</th>\n",
       "      <th>Salaries</th>\n",
       "      <th>Overtime</th>\n",
       "      <th>Other_Salaries</th>\n",
       "      <th>Total_Salary</th>\n",
       "      <th>Retirement</th>\n",
       "      <th>Health/Dental</th>\n",
       "      <th>Other_Benefits</th>\n",
       "      <th>Total_Benefits</th>\n",
       "      <th>Total_Compensation</th>\n",
       "    </tr>\n",
       "  </thead>\n",
       "  <tbody>\n",
       "    <tr>\n",
       "      <td>0</td>\n",
       "      <td>Fiscal</td>\n",
       "      <td>2015</td>\n",
       "      <td>92288.220000</td>\n",
       "      <td>267.450000</td>\n",
       "      <td>267.450000</td>\n",
       "      <td>92823.120000</td>\n",
       "      <td>20700.200000</td>\n",
       "      <td>12500.560000</td>\n",
       "      <td>7605.750000</td>\n",
       "      <td>40806.510000</td>\n",
       "      <td>133629.630000</td>\n",
       "    </tr>\n",
       "    <tr>\n",
       "      <td>1</td>\n",
       "      <td>Calendar</td>\n",
       "      <td>2015</td>\n",
       "      <td>1466.380000</td>\n",
       "      <td>348.230000</td>\n",
       "      <td>0.000000</td>\n",
       "      <td>1814.610000</td>\n",
       "      <td>0.000000</td>\n",
       "      <td>442.030000</td>\n",
       "      <td>141.590000</td>\n",
       "      <td>583.620000</td>\n",
       "      <td>2398.230000</td>\n",
       "    </tr>\n",
       "    <tr>\n",
       "      <td>3</td>\n",
       "      <td>Fiscal</td>\n",
       "      <td>2014</td>\n",
       "      <td>45659.880000</td>\n",
       "      <td>0.000000</td>\n",
       "      <td>1625.370000</td>\n",
       "      <td>47285.250000</td>\n",
       "      <td>10081.200000</td>\n",
       "      <td>0.000000</td>\n",
       "      <td>3936.630000</td>\n",
       "      <td>14017.830000</td>\n",
       "      <td>61303.080000</td>\n",
       "    </tr>\n",
       "    <tr>\n",
       "      <td>4</td>\n",
       "      <td>Fiscal</td>\n",
       "      <td>2013</td>\n",
       "      <td>41832.000000</td>\n",
       "      <td>0.000000</td>\n",
       "      <td>0.000000</td>\n",
       "      <td>41832.000000</td>\n",
       "      <td>7617.600000</td>\n",
       "      <td>5908.520000</td>\n",
       "      <td>3254.500000</td>\n",
       "      <td>16780.620000</td>\n",
       "      <td>58612.620000</td>\n",
       "    </tr>\n",
       "    <tr>\n",
       "      <td>5</td>\n",
       "      <td>Calendar</td>\n",
       "      <td>2013</td>\n",
       "      <td>74132.000000</td>\n",
       "      <td>0.000000</td>\n",
       "      <td>1443.420000</td>\n",
       "      <td>75575.420000</td>\n",
       "      <td>14851.230000</td>\n",
       "      <td>12888.340000</td>\n",
       "      <td>6233.850000</td>\n",
       "      <td>33973.420000</td>\n",
       "      <td>109548.840000</td>\n",
       "    </tr>\n",
       "  </tbody>\n",
       "</table>\n",
       "</div>"
      ],
      "text/plain": [
       "  Year_Type  Year     Salaries   Overtime  Other_Salaries  Total_Salary  \\\n",
       "0    Fiscal  2015 92288.220000 267.450000      267.450000  92823.120000   \n",
       "1  Calendar  2015  1466.380000 348.230000        0.000000   1814.610000   \n",
       "3    Fiscal  2014 45659.880000   0.000000     1625.370000  47285.250000   \n",
       "4    Fiscal  2013 41832.000000   0.000000        0.000000  41832.000000   \n",
       "5  Calendar  2013 74132.000000   0.000000     1443.420000  75575.420000   \n",
       "\n",
       "    Retirement  Health/Dental  Other_Benefits  Total_Benefits  \\\n",
       "0 20700.200000   12500.560000     7605.750000    40806.510000   \n",
       "1     0.000000     442.030000      141.590000      583.620000   \n",
       "3 10081.200000       0.000000     3936.630000    14017.830000   \n",
       "4  7617.600000    5908.520000     3254.500000    16780.620000   \n",
       "5 14851.230000   12888.340000     6233.850000    33973.420000   \n",
       "\n",
       "   Total_Compensation  \n",
       "0       133629.630000  \n",
       "1         2398.230000  \n",
       "3        61303.080000  \n",
       "4        58612.620000  \n",
       "5       109548.840000  "
      ]
     },
     "execution_count": 13,
     "metadata": {},
     "output_type": "execute_result"
    }
   ],
   "source": [
    "df_compensation.head()"
   ]
  },
  {
   "cell_type": "code",
   "execution_count": 14,
   "metadata": {
    "colab": {},
    "colab_type": "code",
    "id": "jd2l3e1M2FQg",
    "outputId": "9cd2c6f6-238d-43bf-98d3-b3191e9968fd"
   },
   "outputs": [
    {
     "data": {
      "text/html": [
       "<div>\n",
       "<style scoped>\n",
       "    .dataframe tbody tr th:only-of-type {\n",
       "        vertical-align: middle;\n",
       "    }\n",
       "\n",
       "    .dataframe tbody tr th {\n",
       "        vertical-align: top;\n",
       "    }\n",
       "\n",
       "    .dataframe thead th {\n",
       "        text-align: right;\n",
       "    }\n",
       "</style>\n",
       "<table border=\"1\" class=\"dataframe\">\n",
       "  <thead>\n",
       "    <tr style=\"text-align: right;\">\n",
       "      <th></th>\n",
       "      <th>Year_Type</th>\n",
       "      <th>Year</th>\n",
       "      <th>Salaries</th>\n",
       "      <th>Overtime</th>\n",
       "      <th>Other_Salaries</th>\n",
       "      <th>Total_Salary</th>\n",
       "      <th>Retirement</th>\n",
       "      <th>Health/Dental</th>\n",
       "      <th>Other_Benefits</th>\n",
       "      <th>Total_Benefits</th>\n",
       "      <th>Total_Compensation</th>\n",
       "    </tr>\n",
       "  </thead>\n",
       "  <tbody>\n",
       "    <tr>\n",
       "      <td>0</td>\n",
       "      <td>Fiscal</td>\n",
       "      <td>2015</td>\n",
       "      <td>0.983488</td>\n",
       "      <td>-0.228091</td>\n",
       "      <td>-0.474919</td>\n",
       "      <td>0.926912</td>\n",
       "      <td>1.178494</td>\n",
       "      <td>0.916565</td>\n",
       "      <td>1.145315</td>\n",
       "      <td>1.160922</td>\n",
       "      <td>1.001727</td>\n",
       "    </tr>\n",
       "    <tr>\n",
       "      <td>1</td>\n",
       "      <td>Calendar</td>\n",
       "      <td>2015</td>\n",
       "      <td>-1.252266</td>\n",
       "      <td>-0.167552</td>\n",
       "      <td>-0.587276</td>\n",
       "      <td>-1.263215</td>\n",
       "      <td>-1.180529</td>\n",
       "      <td>-1.491462</td>\n",
       "      <td>-1.259970</td>\n",
       "      <td>-1.365191</td>\n",
       "      <td>-1.304472</td>\n",
       "    </tr>\n",
       "    <tr>\n",
       "      <td>3</td>\n",
       "      <td>Fiscal</td>\n",
       "      <td>2014</td>\n",
       "      <td>-0.164358</td>\n",
       "      <td>-0.428525</td>\n",
       "      <td>0.095551</td>\n",
       "      <td>-0.168961</td>\n",
       "      <td>-0.031662</td>\n",
       "      <td>-1.579733</td>\n",
       "      <td>-0.037039</td>\n",
       "      <td>-0.521484</td>\n",
       "      <td>-0.269306</td>\n",
       "    </tr>\n",
       "    <tr>\n",
       "      <td>4</td>\n",
       "      <td>Fiscal</td>\n",
       "      <td>2013</td>\n",
       "      <td>-0.258589</td>\n",
       "      <td>-0.428525</td>\n",
       "      <td>-0.587276</td>\n",
       "      <td>-0.300194</td>\n",
       "      <td>-0.312417</td>\n",
       "      <td>-0.399832</td>\n",
       "      <td>-0.256852</td>\n",
       "      <td>-0.347973</td>\n",
       "      <td>-0.316586</td>\n",
       "    </tr>\n",
       "    <tr>\n",
       "      <td>5</td>\n",
       "      <td>Calendar</td>\n",
       "      <td>2013</td>\n",
       "      <td>0.536538</td>\n",
       "      <td>-0.428525</td>\n",
       "      <td>0.019113</td>\n",
       "      <td>0.511845</td>\n",
       "      <td>0.511937</td>\n",
       "      <td>0.994002</td>\n",
       "      <td>0.703228</td>\n",
       "      <td>0.731784</td>\n",
       "      <td>0.578543</td>\n",
       "    </tr>\n",
       "  </tbody>\n",
       "</table>\n",
       "</div>"
      ],
      "text/plain": [
       "  Year_Type  Year  Salaries  Overtime  Other_Salaries  Total_Salary  \\\n",
       "0    Fiscal  2015  0.983488 -0.228091       -0.474919      0.926912   \n",
       "1  Calendar  2015 -1.252266 -0.167552       -0.587276     -1.263215   \n",
       "3    Fiscal  2014 -0.164358 -0.428525        0.095551     -0.168961   \n",
       "4    Fiscal  2013 -0.258589 -0.428525       -0.587276     -0.300194   \n",
       "5  Calendar  2013  0.536538 -0.428525        0.019113      0.511845   \n",
       "\n",
       "   Retirement  Health/Dental  Other_Benefits  Total_Benefits  \\\n",
       "0    1.178494       0.916565        1.145315        1.160922   \n",
       "1   -1.180529      -1.491462       -1.259970       -1.365191   \n",
       "3   -0.031662      -1.579733       -0.037039       -0.521484   \n",
       "4   -0.312417      -0.399832       -0.256852       -0.347973   \n",
       "5    0.511937       0.994002        0.703228        0.731784   \n",
       "\n",
       "   Total_Compensation  \n",
       "0            1.001727  \n",
       "1           -1.304472  \n",
       "3           -0.269306  \n",
       "4           -0.316586  \n",
       "5            0.578543  "
      ]
     },
     "execution_count": 14,
     "metadata": {},
     "output_type": "execute_result"
    }
   ],
   "source": [
    "# scale the independent numeric variables\n",
    "df_compensation.iloc[:, 2:11] = df_compensation.iloc[:, 2:11].apply(lambda rec: (rec - rec.mean()) / rec.std())\n",
    "\n",
    "df_compensation.head()"
   ]
  },
  {
   "cell_type": "code",
   "execution_count": 15,
   "metadata": {},
   "outputs": [
    {
     "data": {
      "text/plain": [
       "(37721, 11)"
      ]
     },
     "execution_count": 15,
     "metadata": {},
     "output_type": "execute_result"
    }
   ],
   "source": [
    "df_compensation.shape"
   ]
  },
  {
   "cell_type": "markdown",
   "metadata": {
    "colab_type": "text",
    "id": "A23paznn2FQj"
   },
   "source": [
    "<a id=\"def\"></a>\n",
    "# 3. What is Regression Analysis?"
   ]
  },
  {
   "cell_type": "markdown",
   "metadata": {
    "colab_type": "text",
    "id": "J6GID0T42FQj"
   },
   "source": [
    "#### Dependent variable (y): It is the variable that we predict. It is also known as 'Target' or 'Response' variable. For regression, the dependent variable should be numeric.\n",
    "\n",
    "#### Independent variable (X): It is the variable used in predicting the values of a target variable. There can be one or more independent variables in a dataset. It is also known as 'predictors' or 'features'. These variables can be numerical as well as categorical."
   ]
  },
  {
   "cell_type": "markdown",
   "metadata": {
    "colab_type": "text",
    "id": "eCT1HNZb2FQk"
   },
   "source": [
    "Regression analysis is used to understand the effect of a set of independent variables on the dependent variable. The variables that affect the dependent variable the most can also be identified. Linear regression is one of the methods in regression analysis, which fits the line to predict the values of the dependent variable."
   ]
  },
  {
   "cell_type": "markdown",
   "metadata": {
    "colab_type": "text",
    "id": "pZnpiwQ32FQk"
   },
   "source": [
    "<a id=\"Bivariate\"></a>\n",
    "# 4. Bivariate Regression"
   ]
  },
  {
   "cell_type": "markdown",
   "metadata": {
    "colab_type": "text",
    "id": "NZlwIPo32FQk"
   },
   "source": [
    "It determines the linear relationship between the dependent (y) and a independent (X) variable. It is also known as, `Simple Linear Regression (SLR)`. The mathematical equation is given as:<br>\n",
    "<p style='text-indent:30em'> <strong> y = β<sub>0</sub> + β<sub>1</sub>.x + ε </strong> </p>\n",
    "                                                        \n",
    "where, \n",
    "\n",
    "y   =  Dependent variable <br>\n",
    "x   =  Independent variable<br>\n",
    "β<sub>0</sub>  =  Y-intercept (value of y when x = 0)<br>\n",
    "β<sub>1</sub>  =  Beta coefficient of x <br>\n",
    "ε   =  Random error component<br>"
   ]
  },
  {
   "cell_type": "markdown",
   "metadata": {
    "colab_type": "text",
    "id": "UQLGAYZ62FQl"
   },
   "source": [
    "**For bivariate regression, consider 'Total_Compensation' as target variable and 'Total_Benefits' as an independent variable from 'df_compensation'.**\n",
    "\n",
    "The test hypothesis for SLR is given as:\n",
    "<p style='text-indent:25em'> <strong> H<sub>o</sub>: Slope (beta coefficient of x) is equal to zero</strong> </p>\n",
    "<p style='text-indent:25em'> <strong> H<sub>1</sub>: Slope (beta coefficient of x) is not equal to zero</strong> </p>"
   ]
  },
  {
   "cell_type": "markdown",
   "metadata": {
    "colab_type": "text",
    "id": "6UFX1T6a2FQl"
   },
   "source": [
    "<a id=\"lsm\"></a>\n",
    "## 4.1 Ordinary Least Square Method (OLS)"
   ]
  },
  {
   "cell_type": "markdown",
   "metadata": {
    "colab_type": "text",
    "id": "Ngow0YlC2FQl"
   },
   "source": [
    "The ordinary least square method aims to minimize the sum of the squared difference between the actual and the predicted values. Squaring ensures that each term is positive. It penalizes the model for the negative error terms. This approach calculates the β<sub>0</sub> and β<sub>1</sub> values that minimize the sum of squared differences along the line of prediction."
   ]
  },
  {
   "cell_type": "markdown",
   "metadata": {
    "colab_type": "text",
    "id": "lv9UAgsD2FQm"
   },
   "source": [
    "#### Split the data into training and test sets"
   ]
  },
  {
   "cell_type": "code",
   "execution_count": 17,
   "metadata": {
    "colab": {},
    "colab_type": "code",
    "id": "Z5Dd3gHB2FQm",
    "outputId": "b52e2c37-96dd-429c-9b8a-307696c23b9c"
   },
   "outputs": [
    {
     "name": "stdout",
     "output_type": "stream",
     "text": [
      "X_train_slr (26404,)\n",
      "y_train_slr (26404,)\n",
      "X_test_slr (11317,)\n",
      "y_test_slr (11317,)\n"
     ]
    }
   ],
   "source": [
    "# split the independent and target variable into train subset and test subset\n",
    "# set 'random_state' to generate the same dataset each time you run the code \n",
    "# 'test_size' returns the proportion of data to be included in the testing set\n",
    "X_train_slr, X_test_slr, y_train_slr, y_test_slr = train_test_split(df_compensation['Total_Benefits'], df_compensation['Total_Compensation'], \n",
    "                                                    random_state=1, test_size = 0.3)\n",
    "\n",
    "# check the dimensions of the train & test subset using 'shape'\n",
    "# print dimension of train set\n",
    "print('X_train_slr', X_train_slr.shape)\n",
    "print('y_train_slr', y_train_slr.shape)\n",
    "\n",
    "# print dimension of test set\n",
    "print('X_test_slr', X_test_slr.shape)\n",
    "print('y_test_slr', y_test_slr.shape)"
   ]
  },
  {
   "cell_type": "markdown",
   "metadata": {
    "colab_type": "text",
    "id": "Fdgo0WhQ2FQo"
   },
   "source": [
    "**Build the simple linear regression model using the OLS method.**"
   ]
  },
  {
   "cell_type": "code",
   "execution_count": 18,
   "metadata": {
    "colab": {},
    "colab_type": "code",
    "id": "zUye_dHn2FQp",
    "outputId": "8c8cd639-bc37-403e-ac65-9cd249c4eba0"
   },
   "outputs": [
    {
     "data": {
      "text/html": [
       "<div>\n",
       "<style scoped>\n",
       "    .dataframe tbody tr th:only-of-type {\n",
       "        vertical-align: middle;\n",
       "    }\n",
       "\n",
       "    .dataframe tbody tr th {\n",
       "        vertical-align: top;\n",
       "    }\n",
       "\n",
       "    .dataframe thead th {\n",
       "        text-align: right;\n",
       "    }\n",
       "</style>\n",
       "<table border=\"1\" class=\"dataframe\">\n",
       "  <thead>\n",
       "    <tr style=\"text-align: right;\">\n",
       "      <th></th>\n",
       "      <th>intercept</th>\n",
       "      <th>Total_Benefits</th>\n",
       "    </tr>\n",
       "  </thead>\n",
       "  <tbody>\n",
       "    <tr>\n",
       "      <td>7580</td>\n",
       "      <td>1.000000</td>\n",
       "      <td>0.354816</td>\n",
       "    </tr>\n",
       "    <tr>\n",
       "      <td>15923</td>\n",
       "      <td>1.000000</td>\n",
       "      <td>1.316932</td>\n",
       "    </tr>\n",
       "    <tr>\n",
       "      <td>5380</td>\n",
       "      <td>1.000000</td>\n",
       "      <td>0.242893</td>\n",
       "    </tr>\n",
       "    <tr>\n",
       "      <td>9580</td>\n",
       "      <td>1.000000</td>\n",
       "      <td>-0.352773</td>\n",
       "    </tr>\n",
       "    <tr>\n",
       "      <td>3690</td>\n",
       "      <td>1.000000</td>\n",
       "      <td>-1.353940</td>\n",
       "    </tr>\n",
       "  </tbody>\n",
       "</table>\n",
       "</div>"
      ],
      "text/plain": [
       "       intercept  Total_Benefits\n",
       "7580    1.000000        0.354816\n",
       "15923   1.000000        1.316932\n",
       "5380    1.000000        0.242893\n",
       "9580    1.000000       -0.352773\n",
       "3690    1.000000       -1.353940"
      ]
     },
     "execution_count": 18,
     "metadata": {},
     "output_type": "execute_result"
    }
   ],
   "source": [
    "# convert the X_train to DataFrame\n",
    "X_train_slr = pd.DataFrame(X_train_slr)\n",
    "\n",
    "# insert a column of intercept to 'X_train_slr'\n",
    "# create an array of ones with length equal to the total number of observations\n",
    "c = np.ones(X_train_slr.shape[0])\n",
    "\n",
    "# A design matrix is a matrix of observations of independent variables whose first column is of ones\n",
    "# If there are 'm' observations and 'n' variables, then the dimension of a design matrix is m * (n+1) \n",
    "\n",
    "# add the intercept \n",
    "# pass location index of intercept to the parameter 'loc'\n",
    "# pass column name to the parameter 'column'\n",
    "# pass the column value to the parameter 'value'\n",
    "X_train_slr.insert(loc = 0, column = 'intercept', value = c)\n",
    "\n",
    "# display the first five rows of design matrix\n",
    "X_train_slr.head()"
   ]
  },
  {
   "cell_type": "code",
   "execution_count": 19,
   "metadata": {
    "colab": {},
    "colab_type": "code",
    "id": "AyYmI_hb2FQr",
    "outputId": "68072a7c-8158-419c-c074-2d0fc309650e",
    "scrolled": false
   },
   "outputs": [
    {
     "name": "stdout",
     "output_type": "stream",
     "text": [
      "                            OLS Regression Results                            \n",
      "==============================================================================\n",
      "Dep. Variable:     Total_Compensation   R-squared:                       0.947\n",
      "Model:                            OLS   Adj. R-squared:                  0.947\n",
      "Method:                 Least Squares   F-statistic:                 4.729e+05\n",
      "Date:                Wed, 19 Aug 2020   Prob (F-statistic):               0.00\n",
      "Time:                        15:40:58   Log-Likelihood:                 1460.8\n",
      "No. Observations:               26404   AIC:                            -2918.\n",
      "Df Residuals:                   26402   BIC:                            -2901.\n",
      "Df Model:                           1                                         \n",
      "Covariance Type:            nonrobust                                         \n",
      "==================================================================================\n",
      "                     coef    std err          t      P>|t|      [0.025      0.975]\n",
      "----------------------------------------------------------------------------------\n",
      "intercept         -0.0002      0.001     -0.119      0.906      -0.003       0.003\n",
      "Total_Benefits     0.9731      0.001    687.713      0.000       0.970       0.976\n",
      "==============================================================================\n",
      "Omnibus:                    12899.282   Durbin-Watson:                   1.998\n",
      "Prob(Omnibus):                  0.000   Jarque-Bera (JB):           145525.825\n",
      "Skew:                           2.077   Prob(JB):                         0.00\n",
      "Kurtosis:                      13.725   Cond. No.                         1.00\n",
      "==============================================================================\n",
      "\n",
      "Warnings:\n",
      "[1] Standard Errors assume that the covariance matrix of the errors is correctly specified.\n"
     ]
    }
   ],
   "source": [
    "# building a model on the train dataset with an intercept\n",
    "# fit() is used to fit the OLS model\n",
    "SLR_model = sm.OLS(y_train_slr, X_train_slr).fit()\n",
    "\n",
    "# print the summary output\n",
    "print(SLR_model.summary())"
   ]
  },
  {
   "cell_type": "markdown",
   "metadata": {
    "colab_type": "text",
    "id": "KXmTA7vI2FQs"
   },
   "source": [
    "**Interpretation:** The R-squared value obtained from this model is 94.7 which means that the above model explains 94.7% of the variation in the Total_Compensation. \n",
    "\n",
    "The `Durbin-Watson` test is used to check the autocorrelation between the residuals.\n",
    "\n",
    "If the Durbin-Watson test statistic is near to 2: no autocorrelation<br>\n",
    "If the Durbin-Watson test statistic is between 0 and 2: positive autocorrelation <br>\n",
    "If the Durbin-Watson test statistic is between 2 and 4: negative autocorrelation\n",
    "\n",
    "The summary output shows that the value of the test statistic is close to 2 (= 1.998) which means there is no autocorrelation.\n",
    "\n",
    "The `Jarque-Bera` test is used to check the normality of the residuals. Here, the p-value of the test is less than 0.05; that implies the residuals are not normally distributed.\n",
    "\n",
    "The 'Cond. No' (= 1) represents the `Condition Number (CN)` which is used to check the multicollinearity. \n",
    "\n",
    "If CN < 100: no multicollinearity<br>\n",
    "If CN is between 100 and 1000: moderate multicollinearity<br>\n",
    "If CN > 1000: severe multicollinearity\n",
    "\n",
    "Thus, it can be seen that there is no multicollinearity in the data."
   ]
  },
  {
   "cell_type": "markdown",
   "metadata": {
    "colab_type": "text",
    "id": "p5ZH6r7C2FQt"
   },
   "source": [
    "**Calculate the predicted Total_Compensation for train data using the above model.**"
   ]
  },
  {
   "cell_type": "markdown",
   "metadata": {
    "colab_type": "text",
    "id": "PsP5VH722FQt"
   },
   "source": [
    "Use the above dataframe to predict the Total_Compensation."
   ]
  },
  {
   "cell_type": "code",
   "execution_count": 20,
   "metadata": {
    "colab": {},
    "colab_type": "code",
    "id": "WKmw-RjE2FQu",
    "outputId": "68e65710-ebad-41e1-d7e1-2548ab703611"
   },
   "outputs": [
    {
     "data": {
      "text/plain": [
       "7580     0.345104\n",
       "15923    1.281337\n",
       "5380     0.236191\n",
       "9580    -0.343450\n",
       "3690    -1.317684\n",
       "dtype: float64"
      ]
     },
     "execution_count": 20,
     "metadata": {},
     "output_type": "execute_result"
    }
   ],
   "source": [
    "# predict the Total_Compensation using 'predict()' on training data\n",
    "y_train_slr_pred = SLR_model.predict(X_train_slr)\n",
    "\n",
    "# display the first five predicted values \n",
    "y_train_slr_pred.head()"
   ]
  },
  {
   "cell_type": "markdown",
   "metadata": {
    "colab_type": "text",
    "id": "x6LUy1N52FQw"
   },
   "source": [
    "Now we have actual and predicted values of the target variable for training dataset (y_train_slr and y_train_pred respectively)"
   ]
  },
  {
   "cell_type": "markdown",
   "metadata": {
    "colab_type": "text",
    "id": "-hMce0pj2FQw"
   },
   "source": [
    "<a id=\"mv\"></a>\n",
    "## 4.2 Measures of Variation"
   ]
  },
  {
   "cell_type": "markdown",
   "metadata": {
    "colab_type": "text",
    "id": "lvKIzSnc2FQx"
   },
   "source": [
    "**Residual:** It is calculated as the difference between the actual and predicted value of the dependent variable."
   ]
  },
  {
   "cell_type": "markdown",
   "metadata": {
    "colab_type": "text",
    "id": "QsLCGKeT2FQx"
   },
   "source": [
    "<a id=\"ssr\"></a>\n",
    "### 4.2.1  Sum of Squared Residuals (SSR)"
   ]
  },
  {
   "cell_type": "markdown",
   "metadata": {
    "colab_type": "text",
    "id": "CA7_nWBf2FQx"
   },
   "source": [
    "It is defined as the sum of the squared difference between the predicted value and the mean of the dependent variable."
   ]
  },
  {
   "cell_type": "code",
   "execution_count": 21,
   "metadata": {
    "colab": {},
    "colab_type": "code",
    "id": "dEwiSmBP2FQy",
    "outputId": "95f4f914-13b4-4b71-a97f-2d1883cda33b"
   },
   "outputs": [
    {
     "data": {
      "text/plain": [
       "24792.319612330157"
      ]
     },
     "execution_count": 21,
     "metadata": {},
     "output_type": "execute_result"
    }
   ],
   "source": [
    "# calculate the SSR on train dataset\n",
    "ssr = np.sum((y_train_slr_pred - y_train_slr.mean())**2)\n",
    "ssr"
   ]
  },
  {
   "cell_type": "markdown",
   "metadata": {
    "colab_type": "text",
    "id": "q0asduxZ2FQ0"
   },
   "source": [
    "<a id=\"sse\"></a>\n",
    "### 4.2.2 Sum of Squared Error (SSE)"
   ]
  },
  {
   "cell_type": "markdown",
   "metadata": {
    "colab_type": "text",
    "id": "JQZ7-ZNT2FQ0"
   },
   "source": [
    "It is defined as the sum of the squared difference between the actual value and the predicted value."
   ]
  },
  {
   "cell_type": "code",
   "execution_count": 22,
   "metadata": {
    "colab": {},
    "colab_type": "code",
    "id": "UEaIMYin2FQ1",
    "outputId": "49ec0524-f890-4763-eff9-0625a61db719"
   },
   "outputs": [
    {
     "data": {
      "text/plain": [
       "1384.010118201885"
      ]
     },
     "execution_count": 22,
     "metadata": {},
     "output_type": "execute_result"
    }
   ],
   "source": [
    "# calculate the SSE on train dataset\n",
    "sse = np.sum((y_train_slr - y_train_slr_pred)**2)\n",
    "sse"
   ]
  },
  {
   "cell_type": "markdown",
   "metadata": {
    "colab_type": "text",
    "id": "JEIK_aoc2FQ2"
   },
   "source": [
    "<a id=\"sst\"></a>\n",
    "### 4.2.3  Sum of Squared Total (SST)"
   ]
  },
  {
   "cell_type": "markdown",
   "metadata": {
    "colab_type": "text",
    "id": "Z8jnAjRR2FQ3"
   },
   "source": [
    "It is the sum of the squared difference between the actual value and the mean of the dependent variable."
   ]
  },
  {
   "cell_type": "code",
   "execution_count": 23,
   "metadata": {
    "colab": {},
    "colab_type": "code",
    "id": "6jHvQzQl2FQ3",
    "outputId": "320401ed-c40e-40ad-9d4b-6a0690aca5f8"
   },
   "outputs": [
    {
     "data": {
      "text/plain": [
       "26176.329730532045"
      ]
     },
     "execution_count": 23,
     "metadata": {},
     "output_type": "execute_result"
    }
   ],
   "source": [
    "# calculate the SST on train dataset\n",
    "sst = np.sum((y_train_slr - y_train_slr.mean())**2)\n",
    "sst"
   ]
  },
  {
   "cell_type": "code",
   "execution_count": 24,
   "metadata": {
    "colab": {},
    "colab_type": "code",
    "id": "r1YPxSsw2FQ6",
    "outputId": "34794306-3141-434b-c481-db02f4163bb4"
   },
   "outputs": [
    {
     "data": {
      "text/plain": [
       "26176.32973053204"
      ]
     },
     "execution_count": 24,
     "metadata": {},
     "output_type": "execute_result"
    }
   ],
   "source": [
    "# add the values of SSE and SSR\n",
    "sse + ssr"
   ]
  },
  {
   "cell_type": "markdown",
   "metadata": {
    "colab_type": "text",
    "id": "MPjs6_7h2FQ8"
   },
   "source": [
    "**Interpretation:** From the abve putput, we can verify that SST (Total variation) is the sum of SSR and SSE."
   ]
  },
  {
   "cell_type": "markdown",
   "metadata": {
    "colab_type": "text",
    "id": "XimiMuo12FQ8"
   },
   "source": [
    "<a id=\"r2\"></a>\n",
    "### 4.2.4 Coefficient of Determination (R-Squared)"
   ]
  },
  {
   "cell_type": "markdown",
   "metadata": {
    "colab_type": "text",
    "id": "onAqnseN2FQ8"
   },
   "source": [
    "The coefficient of determination explains the percentage of variation in the dependent variable that the independent variables explain collectively."
   ]
  },
  {
   "cell_type": "code",
   "execution_count": 25,
   "metadata": {
    "colab": {},
    "colab_type": "code",
    "id": "qkL0n0Ak2FQ9",
    "outputId": "2ed88ba6-f996-4e5b-a0ad-1dcf177dfb63"
   },
   "outputs": [
    {
     "data": {
      "text/plain": [
       "0.9471274188379597"
      ]
     },
     "execution_count": 25,
     "metadata": {},
     "output_type": "execute_result"
    }
   ],
   "source": [
    "# calculate R-Squared on train dataset\n",
    "# use 'rsquared' method from statsmodel\n",
    "r_sq = SLR_model.rsquared\n",
    "\n",
    "# print the R-squared value\n",
    "r_sq"
   ]
  },
  {
   "cell_type": "markdown",
   "metadata": {
    "colab_type": "text",
    "id": "eq8xxcWY2FQ_"
   },
   "source": [
    "Now, we can also calculate the R-squared value using the formula (SSR/SST)."
   ]
  },
  {
   "cell_type": "code",
   "execution_count": 26,
   "metadata": {
    "colab": {},
    "colab_type": "code",
    "id": "-XQQcKPV2FQ_",
    "outputId": "4137492e-fb67-482c-fd9c-c54557a3ac48",
    "scrolled": true
   },
   "outputs": [
    {
     "data": {
      "text/plain": [
       "0.9471274188379596"
      ]
     },
     "execution_count": 26,
     "metadata": {},
     "output_type": "execute_result"
    }
   ],
   "source": [
    "# calculate R-Squared on train dataset using the formula\n",
    "r_sq = ssr/sst\n",
    "\n",
    "# print the R-squared value\n",
    "r_sq"
   ]
  },
  {
   "cell_type": "markdown",
   "metadata": {
    "colab_type": "text",
    "id": "xb408urW2FRB"
   },
   "source": [
    "**Interpretation:** From the above output we can conclude that our model explains 94.71% variation in the Total_Compensation. We can also obtain this value from the summary of the model."
   ]
  },
  {
   "cell_type": "markdown",
   "metadata": {
    "colab_type": "text",
    "id": "AxRPp2LB2FRB"
   },
   "source": [
    "<a id=\"see\"></a>\n",
    "### 4.2.5 Standard Error of Estimate (SEE)"
   ]
  },
  {
   "cell_type": "markdown",
   "metadata": {
    "colab_type": "text",
    "id": "-Gzf-R3C2FRC"
   },
   "source": [
    "The SEE is the measure of the variability of actual values around the prediction line. Smaller the value of SEE better is the model."
   ]
  },
  {
   "cell_type": "code",
   "execution_count": 27,
   "metadata": {
    "colab": {},
    "colab_type": "code",
    "id": "y5LcDH-e2FRC",
    "outputId": "027f7257-a207-4958-afc7-dd4caa06535f"
   },
   "outputs": [
    {
     "data": {
      "text/plain": [
       "0.22895557304369393"
      ]
     },
     "execution_count": 27,
     "metadata": {},
     "output_type": "execute_result"
    }
   ],
   "source": [
    "# compute SEE using the below formula \n",
    "# see =  np.sqrt(sse/(len(train_data) - k))    \n",
    "\n",
    "# for SLR take k = 2, as there are two coefficients (parameters) in the model\n",
    "see = np.sqrt(sse/(len(X_train_slr) - 2))    \n",
    "see"
   ]
  },
  {
   "cell_type": "markdown",
   "metadata": {
    "colab_type": "text",
    "id": "GQha6h1G2FRE"
   },
   "source": [
    "Let us visualize the variability around the predicted line using regression plot."
   ]
  },
  {
   "cell_type": "code",
   "execution_count": 28,
   "metadata": {
    "colab": {},
    "colab_type": "code",
    "id": "Xg6FYOMm2FRF",
    "outputId": "ef10c5fe-37f1-42c3-dc80-f48fec533854",
    "scrolled": false
   },
   "outputs": [
    {
     "data": {
      "image/png": "[encoded data removed]",
      "text/plain": [
       "<Figure size 1080x576 with 1 Axes>"
      ]
     },
     "metadata": {
      "needs_background": "light"
     },
     "output_type": "display_data"
    }
   ],
   "source": [
    "# set the plot size using figure()\n",
    "# pass width and height in inches to 'figsize' \n",
    "plt.figure(figsize = (15,8))\n",
    "\n",
    "# plot a regression plot\n",
    "# independent variable on x-axis and dependent variable on y-axis\n",
    "sns.regplot(x = X_train_slr['Total_Benefits'], y = y_train_slr)\n",
    "\n",
    "# add axes and plot labels\n",
    "# set text size using 'fontsize'\n",
    "plt.title('Variability Around the Predicted Line', fontsize = 15)\n",
    "plt.xlabel('Total_Benefits', fontsize = 15)\n",
    "plt.ylabel('Total_Compensation', fontsize = 15)\n",
    "\n",
    "# display the plot\n",
    "plt.show()"
   ]
  },
  {
   "cell_type": "markdown",
   "metadata": {
    "colab_type": "text",
    "id": "gPKq-jJA2FRI"
   },
   "source": [
    "**Interpretation:** The blue line in the plot, indicates the regression line for the data. We can observe that most of the data points lie on (or near) the line. Also, some of the points are away from the line, which concludes the variation of the data to the fitted line. The shaded part in blue around the line shows the confidence interval for the regression line."
   ]
  },
  {
   "cell_type": "markdown",
   "metadata": {
    "colab_type": "text",
    "id": "V53-kJ2q2FRI"
   },
   "source": [
    "<a id=\"inf\"></a>\n",
    "## 4.3 Inferences about Slope and Intercept"
   ]
  },
  {
   "cell_type": "markdown",
   "metadata": {
    "colab_type": "text",
    "id": "hQIC90fz2FRI"
   },
   "source": [
    "Let us print the summary of the regression model (built in section 4.1)."
   ]
  },
  {
   "cell_type": "code",
   "execution_count": 29,
   "metadata": {
    "colab": {},
    "colab_type": "code",
    "id": "jmisAhj92FRJ",
    "outputId": "c914ab44-7b38-4901-c7fc-51195e3e6194",
    "scrolled": false
   },
   "outputs": [
    {
     "name": "stdout",
     "output_type": "stream",
     "text": [
      "                            OLS Regression Results                            \n",
      "==============================================================================\n",
      "Dep. Variable:     Total_Compensation   R-squared:                       0.947\n",
      "Model:                            OLS   Adj. R-squared:                  0.947\n",
      "Method:                 Least Squares   F-statistic:                 4.729e+05\n",
      "Date:                Wed, 19 Aug 2020   Prob (F-statistic):               0.00\n",
      "Time:                        15:41:20   Log-Likelihood:                 1460.8\n",
      "No. Observations:               26404   AIC:                            -2918.\n",
      "Df Residuals:                   26402   BIC:                            -2901.\n",
      "Df Model:                           1                                         \n",
      "Covariance Type:            nonrobust                                         \n",
      "==================================================================================\n",
      "                     coef    std err          t      P>|t|      [0.025      0.975]\n",
      "----------------------------------------------------------------------------------\n",
      "intercept         -0.0002      0.001     -0.119      0.906      -0.003       0.003\n",
      "Total_Benefits     0.9731      0.001    687.713      0.000       0.970       0.976\n",
      "==============================================================================\n",
      "Omnibus:                    12899.282   Durbin-Watson:                   1.998\n",
      "Prob(Omnibus):                  0.000   Jarque-Bera (JB):           145525.825\n",
      "Skew:                           2.077   Prob(JB):                         0.00\n",
      "Kurtosis:                      13.725   Cond. No.                         1.00\n",
      "==============================================================================\n",
      "\n",
      "Warnings:\n",
      "[1] Standard Errors assume that the covariance matrix of the errors is correctly specified.\n"
     ]
    }
   ],
   "source": [
    "# print the model summary\n",
    "print(SLR_model.summary())"
   ]
  },
  {
   "cell_type": "markdown",
   "metadata": {
    "colab_type": "text",
    "id": "l-3LopZ82FRL"
   },
   "source": [
    "Now, let us make some inferences about the output given above."
   ]
  },
  {
   "cell_type": "markdown",
   "metadata": {
    "colab_type": "text",
    "id": "CQdLLk682FRL"
   },
   "source": [
    "<a id=\"inter\"></a>\n",
    "### 4.3.1 Interpretation of Slope and Intercept"
   ]
  },
  {
   "cell_type": "markdown",
   "metadata": {
    "colab_type": "text",
    "id": "maj_aH2t2FRL"
   },
   "source": [
    "The output of the regression model returns the value of slope (β<sub>1</sub>) and Intercept (β<sub>0</sub>). \n",
    "\n",
    "**Intercept (β<sub>0</sub>) = -0.0002**, indicates that if the Total_Benefits is zero, then the average Total_Compensation is -0.0002. <br>\n",
    "\n",
    "**The slope of 'Total_Benefits' (β<sub>1</sub>) = 0.9731**, indicates that by increasing the Total_Benefits percentage by 1%, the average Total_Compensation increases by 0.9731.\n",
    "\n",
    "\n",
    "Thus, the equation of the line given by the model is:\n",
    "<p style='text-indent:25em'> <strong> Total_Compensation = -0.0002 + 0.9731*(Total_Benefits) </strong>  </p>"
   ]
  },
  {
   "cell_type": "markdown",
   "metadata": {
    "colab_type": "text",
    "id": "hGk19kWu2FRM"
   },
   "source": [
    "<a id=\"t_test\"></a>\n",
    "### 4.3.2 The t-test for Slope and Intercept"
   ]
  },
  {
   "cell_type": "markdown",
   "metadata": {
    "colab_type": "text",
    "id": "f1bqSMkd2FRM"
   },
   "source": [
    "The coefficient of regression captures the presence of a linear relationship between the independent and dependent variables. If the coefficient value is zero, we can infer that there is no linear relationship between the two variables which is statistically important. It is calculated as:\n",
    "<p style='text-indent:28em'> <strong> t_value = coefficient / Standard_error </strong>  </p>\n",
    "\n",
    "The test hypothesis for the t-test is given as:\n",
    "<p style='text-indent:35em'> <strong> H<sub>o</sub>: β<sub>1</sub> = 0 </strong> </p>\n",
    "<p style='text-indent:35em'> <strong> H<sub>1</sub>: β<sub>1</sub> ≠ 0 </strong> </p>\n",
    "                                    \n",
    "Now, let us see how to calculate the t_test value for slope and intercept."
   ]
  },
  {
   "cell_type": "code",
   "execution_count": 30,
   "metadata": {
    "colab": {},
    "colab_type": "code",
    "id": "Z3LchWBx2FRN",
    "outputId": "68351b81-1508-402e-cd59-5b05c3580bef",
    "scrolled": true
   },
   "outputs": [
    {
     "data": {
      "text/plain": [
       "-0.1186262297885362"
      ]
     },
     "execution_count": 30,
     "metadata": {},
     "output_type": "execute_result"
    }
   ],
   "source": [
    "# perform t_test for intercept\n",
    "# 'params[0]' returns the value of intercept \n",
    "# 'bse[0]' returns the standard error of intercept\n",
    "t_intercept = SLR_model.params[0] / SLR_model.bse[0]\n",
    "\n",
    "# print the value of t-statistic\n",
    "t_intercept"
   ]
  },
  {
   "cell_type": "code",
   "execution_count": 31,
   "metadata": {
    "colab": {},
    "colab_type": "code",
    "id": "Bi9w6awn2FRP",
    "outputId": "4fe925ff-f8c3-4e5d-b091-758f611a5072"
   },
   "outputs": [
    {
     "data": {
      "text/plain": [
       "687.7132023629403"
      ]
     },
     "execution_count": 31,
     "metadata": {},
     "output_type": "execute_result"
    }
   ],
   "source": [
    "# t_test for slope\n",
    "# 'params[1]' returns the value of slope\n",
    "# 'bse[1]' returns the standard error of slope\n",
    "t_slope = SLR_model.params[1] / SLR_model.bse[1]\n",
    "\n",
    "# print the value of t-statistic\n",
    "t_slope"
   ]
  },
  {
   "cell_type": "markdown",
   "metadata": {
    "colab_type": "text",
    "id": "M_s3BoTN2FRR"
   },
   "source": [
    "Now, let us see how to calculate the p-value associated with t_test value for slope and intercept."
   ]
  },
  {
   "cell_type": "code",
   "execution_count": 32,
   "metadata": {
    "colab": {},
    "colab_type": "code",
    "id": "GmIjzRcC2FRS",
    "outputId": "d5b549c4-f36d-4dce-9d76-a72c038c070d",
    "scrolled": true
   },
   "outputs": [
    {
     "data": {
      "text/plain": [
       "0.9055943477842103"
      ]
     },
     "execution_count": 32,
     "metadata": {},
     "output_type": "execute_result"
    }
   ],
   "source": [
    "# calculate p-value for intercept\n",
    "# use 'sf' (Survival function) from t-distribution to calculate the corresponding p-value\n",
    "\n",
    "# pass degrees of freedom and t-statistic value for intercept\n",
    "# degrees of freedom = n - 1 = 1043 - 1 = 1042\n",
    "pval = stats.t.sf(np.abs(t_intercept), 1042)*2 \n",
    "pval"
   ]
  },
  {
   "cell_type": "code",
   "execution_count": 33,
   "metadata": {
    "colab": {},
    "colab_type": "code",
    "id": "Fm0OJP4K2FRX",
    "outputId": "8cc3ef23-6b01-4688-b7eb-4bc342f93e22"
   },
   "outputs": [
    {
     "data": {
      "text/plain": [
       "0.0"
      ]
     },
     "execution_count": 33,
     "metadata": {},
     "output_type": "execute_result"
    }
   ],
   "source": [
    "# calculate p-value for slope\n",
    "# use 'sf' (Survival function) from t-distribution to calculate the corresponding p-value\n",
    "\n",
    "# pass degrees of freedom and t-statistic value for slope\n",
    "# degrees of freedom = n - 1 = 1043 - 1 = 1042\n",
    "pval = stats.t.sf(np.abs(t_slope), 1042)*2 \n",
    "pval"
   ]
  },
  {
   "cell_type": "markdown",
   "metadata": {
    "colab_type": "text",
    "id": "gXCjxLPW2FRa"
   },
   "source": [
    "**Interpretation:** The 'P > |t|' in the model summary indicates the p-value for the corresponding t-test. In our case, the p-value for the slope is zero i.e. p-value < 0.05 (with 5% level of significance). Thus, we can say that the slope is significant for the target variable.<br>\n",
    "But, the p-value for the intercept is not zero i.e. p-value > 0.05 (with 5% level of significance). Thus, we can say that the intercept is insignificant for the target variable."
   ]
  },
  {
   "cell_type": "markdown",
   "metadata": {
    "colab_type": "text",
    "id": "LPDhi4sJ2FRb"
   },
   "source": [
    "<a id=\"ci\"></a>\n",
    "### 4.3.3 Confidence Interval for Slope and Intercept"
   ]
  },
  {
   "cell_type": "markdown",
   "metadata": {
    "colab_type": "text",
    "id": "2ypcA6f42FRb"
   },
   "source": [
    "The 95% confidence interval for the variable implies that the value for the variable will be between the given interval for 95% of the cases. We can calculate the confidence interval as:\n",
    "\n",
    "<p style='text-indent:28em'> <strong> CI = coefficient ± t_table_value*Standard_error </strong>  </p>\n",
    "\n",
    "Here, \n",
    "t_table_value is obtained from the t-table with degrees of freedom (n-k) = (1043 - 2) = 1041 and 95% confidence level."
   ]
  },
  {
   "cell_type": "code",
   "execution_count": 34,
   "metadata": {
    "colab": {},
    "colab_type": "code",
    "id": "WngK29w82FRb",
    "outputId": "0868ddcd-108d-4189-9426-8d24f5226784",
    "scrolled": false
   },
   "outputs": [
    {
     "name": "stdout",
     "output_type": "stream",
     "text": [
      "CI for intercept: [-0.0029319285682736676, 0.002597634789115615]\n"
     ]
    }
   ],
   "source": [
    "# CI for intercept\n",
    "# create a tuple using the above formula\n",
    "# here, t_table_value = 1.9622\n",
    "CI_inter_min, CI_inter_max = SLR_model.params[0] - (1.9622*SLR_model.bse[0]), SLR_model.params[0] + (1.9622*SLR_model.bse[0])\n",
    "\n",
    "# print the confidence interval for intercept \n",
    "print('CI for intercept:', [CI_inter_min , CI_inter_max])"
   ]
  },
  {
   "cell_type": "code",
   "execution_count": 35,
   "metadata": {
    "colab": {},
    "colab_type": "code",
    "id": "sV77pwt12FRg",
    "outputId": "e651bf87-dcef-474b-814b-c1bc09ba091a"
   },
   "outputs": [
    {
     "name": "stdout",
     "output_type": "stream",
     "text": [
      "CI for slope: [0.9703214410276182, 0.9758743741623093]\n"
     ]
    }
   ],
   "source": [
    "# CI for slope\n",
    "# create a tuple using the above formula\n",
    "# here, t_table_value = 1.9622\n",
    "CI_slope_min, CI_slope_max = SLR_model.params[1] - (1.9622*SLR_model.bse[1]), SLR_model.params[1] + (1.9622*SLR_model.bse[1])\n",
    "\n",
    "# print the confidence interval for slope\n",
    "print('CI for slope:', [CI_slope_min,CI_slope_max])"
   ]
  },
  {
   "cell_type": "markdown",
   "metadata": {
    "colab_type": "text",
    "id": "o4WQgrHN2FRj"
   },
   "source": [
    "<a id=\"anova\"></a>\n",
    "### 4.3.4 ANOVA for SLR"
   ]
  },
  {
   "cell_type": "markdown",
   "metadata": {
    "colab_type": "text",
    "id": "xG6-L-KN2FRj"
   },
   "source": [
    "ANOVA (Analysis of Variance) is used to test the significance of the linear regression model. The test hypothesis for ANOVA is given as:\n",
    "<p style='text-indent:25em'> <strong> H<sub>o</sub>: β<sub>1</sub> = 0 </strong> (i.e. regression model is not significant) </p>\n",
    "<p style='text-indent:25em'> <strong> H<sub>1</sub>: β<sub>1</sub> ≠ 0 </strong> (i.e. regression model is significant) </p>"
   ]
  },
  {
   "cell_type": "markdown",
   "metadata": {
    "colab_type": "text",
    "id": "wSWZCFvx2FRk"
   },
   "source": [
    "To perform ANOVA using `anova_lm` method, we build the SLR model using `ols` method in the statsmodel library."
   ]
  },
  {
   "cell_type": "code",
   "execution_count": 36,
   "metadata": {
    "colab": {},
    "colab_type": "code",
    "id": "0wUAeSR92FRl"
   },
   "outputs": [],
   "source": [
    "# build a SLR model using 'ols' method\n",
    "# pass the regression model to the parameter 'formula'\n",
    "# concatenate the training dataset and pass to the parameter 'data' to build the model on training dataset\n",
    "# 'axis=1' concats the data column-wise\n",
    "# 'fit()' is used to fit the model\n",
    "slr_ols = ols(formula = 'Total_Compensation ~ Total_Benefits', data = pd.concat([X_train_slr, y_train_slr], axis=1)).fit()\n",
    "# this model returns the same result as of model built using 'OLS' "
   ]
  },
  {
   "cell_type": "code",
   "execution_count": 37,
   "metadata": {
    "colab": {},
    "colab_type": "code",
    "id": "98F4C7mM2FRn",
    "outputId": "fe2ddbe5-60d6-455c-c38f-bc9b72af55bb"
   },
   "outputs": [
    {
     "data": {
      "text/html": [
       "<div>\n",
       "<style scoped>\n",
       "    .dataframe tbody tr th:only-of-type {\n",
       "        vertical-align: middle;\n",
       "    }\n",
       "\n",
       "    .dataframe tbody tr th {\n",
       "        vertical-align: top;\n",
       "    }\n",
       "\n",
       "    .dataframe thead th {\n",
       "        text-align: right;\n",
       "    }\n",
       "</style>\n",
       "<table border=\"1\" class=\"dataframe\">\n",
       "  <thead>\n",
       "    <tr style=\"text-align: right;\">\n",
       "      <th></th>\n",
       "      <th>df</th>\n",
       "      <th>sum_sq</th>\n",
       "      <th>mean_sq</th>\n",
       "      <th>F</th>\n",
       "      <th>PR(&gt;F)</th>\n",
       "    </tr>\n",
       "  </thead>\n",
       "  <tbody>\n",
       "    <tr>\n",
       "      <td>Total_Benefits</td>\n",
       "      <td>1.000000</td>\n",
       "      <td>24792.319612</td>\n",
       "      <td>24792.319612</td>\n",
       "      <td>472949.448704</td>\n",
       "      <td>0.000000</td>\n",
       "    </tr>\n",
       "    <tr>\n",
       "      <td>Residual</td>\n",
       "      <td>26402.000000</td>\n",
       "      <td>1384.010118</td>\n",
       "      <td>0.052421</td>\n",
       "      <td>nan</td>\n",
       "      <td>nan</td>\n",
       "    </tr>\n",
       "  </tbody>\n",
       "</table>\n",
       "</div>"
      ],
      "text/plain": [
       "                         df       sum_sq      mean_sq             F   PR(>F)\n",
       "Total_Benefits     1.000000 24792.319612 24792.319612 472949.448704 0.000000\n",
       "Residual       26402.000000  1384.010118     0.052421           nan      nan"
      ]
     },
     "execution_count": 37,
     "metadata": {},
     "output_type": "execute_result"
    }
   ],
   "source": [
    "# perform ANOVA on the above model using 'anova_lm'\n",
    "# pass the linear model to 'anova_lm'\n",
    "anova_slr = anova_lm(slr_ols)\n",
    "\n",
    "# print the ANOVA results\n",
    "anova_slr"
   ]
  },
  {
   "cell_type": "markdown",
   "metadata": {
    "colab_type": "text",
    "id": "nYUu-61U2FRq"
   },
   "source": [
    "**Interpretation:** The above ANOVA result returns the F-statistic and corresponding p-value for the linear model. As, the p-value is less than 0.05, we accept the alternate hypothesis (i.e. the regression model is significant). We can also obtain these values from the summary of the model."
   ]
  }
 ],
 "metadata": {
  "colab": {
   "name": "SLR - Faculty Notebook (Day 1) [v4.0 - 090520].ipynb",
   "provenance": []
  },
  "kernelspec": {
   "display_name": "Python 3 (ipykernel)",
   "language": "python",
   "name": "python3"
  },
  "language_info": {
   "codemirror_mode": {
    "name": "ipython",
    "version": 3
   },
   "file_extension": ".py",
   "mimetype": "text/x-python",
   "name": "python",
   "nbconvert_exporter": "python",
   "pygments_lexer": "ipython3",
   "version": "3.9.12"
  }
 },
 "nbformat": 4,
 "nbformat_minor": 1
}
